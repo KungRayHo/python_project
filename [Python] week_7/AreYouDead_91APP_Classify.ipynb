{
 "cells": [
  {
   "cell_type": "markdown",
   "metadata": {},
   "source": [
    "消費者是否會繼續消費取決於第一次消費的單價和財力"
   ]
  },
  {
   "cell_type": "code",
   "execution_count": 1,
   "metadata": {},
   "outputs": [],
   "source": [
    "import numpy as np\n",
    "import pandas as pd"
   ]
  },
  {
   "cell_type": "code",
   "execution_count": 2,
   "metadata": {},
   "outputs": [],
   "source": [
    "# get data from csv\n",
    "data_shop=pd.read_csv(\"Ntu_Orders.csv\",low_memory=False,dtype=str)\n",
    "data_member=pd.read_csv(\"NTU_1317_Member.txt\",delimiter=\"\\t\",low_memory=False)\n",
    "active_member=data_shop[\"MemberId\"]"
   ]
  },
  {
   "cell_type": "code",
   "execution_count": 3,
   "metadata": {},
   "outputs": [
    {
     "name": "stdout",
     "output_type": "stream",
     "text": [
      "<class 'pandas.core.frame.DataFrame'>\n",
      "RangeIndex: 815792 entries, 0 to 815791\n",
      "Data columns (total 24 columns):\n",
      "ShopId                   815792 non-null int64\n",
      "MemberId                 815792 non-null object\n",
      "Recency                  815792 non-null int64\n",
      "Frequency                815792 non-null int64\n",
      "Monetary                 815792 non-null float64\n",
      "Birthday                 208548 non-null object\n",
      "GenderTypeDef            208549 non-null object\n",
      "LocationCity             0 non-null float64\n",
      "LocationState            207836 non-null object\n",
      "LocationCountry          166345 non-null object\n",
      "EducationTypeDef         9 non-null object\n",
      "ProfessionTypeDef        208549 non-null object\n",
      "MarialStatusTypeDef      0 non-null float64\n",
      "DependentsTypeDef        0 non-null float64\n",
      "AnnualIncomeTypeDef      9 non-null object\n",
      "RegisterDateTime         815792 non-null object\n",
      "RegisterSourceTypeDef    785771 non-null object\n",
      "ValidFlag                815792 non-null int64\n",
      "MinOrderDate             815792 non-null object\n",
      "MaxOrderDate             532376 non-null object\n",
      "IsAppInstalled           324973 non-null object\n",
      "IsInBlackList            1003 non-null object\n",
      "MinAppOpenDateTime       333615 non-null object\n",
      "MaxAppOpenDateTime       333678 non-null object\n",
      "dtypes: float64(4), int64(4), object(16)\n",
      "memory usage: 149.4+ MB\n"
     ]
    }
   ],
   "source": [
    "data_member.info()"
   ]
  },
  {
   "cell_type": "code",
   "execution_count": 4,
   "metadata": {},
   "outputs": [
    {
     "data": {
      "text/plain": [
       "0         NaN\n",
       "1         NaN\n",
       "2         NaN\n",
       "3         NaN\n",
       "4         NaN\n",
       "5         NaN\n",
       "6         NaN\n",
       "7         NaN\n",
       "8         NaN\n",
       "9         NaN\n",
       "10        NaN\n",
       "11        NaN\n",
       "12        NaN\n",
       "13        NaN\n",
       "14        NaN\n",
       "15        NaN\n",
       "16        NaN\n",
       "17        NaN\n",
       "18        NaN\n",
       "19        NaN\n",
       "20        NaN\n",
       "21        NaN\n",
       "22        NaN\n",
       "23        NaN\n",
       "24        NaN\n",
       "25        NaN\n",
       "26        NaN\n",
       "27        NaN\n",
       "28        NaN\n",
       "29        NaN\n",
       "         ... \n",
       "815762    NaN\n",
       "815763    NaN\n",
       "815764    NaN\n",
       "815765    NaN\n",
       "815766    NaN\n",
       "815767    NaN\n",
       "815768    NaN\n",
       "815769    NaN\n",
       "815770    NaN\n",
       "815771    NaN\n",
       "815772    NaN\n",
       "815773    NaN\n",
       "815774    NaN\n",
       "815775    NaN\n",
       "815776    NaN\n",
       "815777    NaN\n",
       "815778    NaN\n",
       "815779    NaN\n",
       "815780    NaN\n",
       "815781    NaN\n",
       "815782    NaN\n",
       "815783    NaN\n",
       "815784    NaN\n",
       "815785    NaN\n",
       "815786    NaN\n",
       "815787    NaN\n",
       "815788    NaN\n",
       "815789    NaN\n",
       "815790    NaN\n",
       "815791    NaN\n",
       "Name: AnnualIncomeTypeDef, Length: 815792, dtype: object"
      ]
     },
     "execution_count": 4,
     "metadata": {},
     "output_type": "execute_result"
    }
   ],
   "source": [
    "data_member[\"AnnualIncomeTypeDef\"]"
   ]
  },
  {
   "cell_type": "markdown",
   "metadata": {},
   "source": [
    "每個人都不填財力==\n",
    "\n",
    "改成分析\n",
    "\n",
    "消費者是否已經沉睡和總銷售額和銷售頻率的關系"
   ]
  },
  {
   "cell_type": "code",
   "execution_count": 5,
   "metadata": {},
   "outputs": [
    {
     "name": "stderr",
     "output_type": "stream",
     "text": [
      "c:\\users\\alixh\\appdata\\local\\programs\\python\\python36\\lib\\site-packages\\ipykernel_launcher.py:1: DeprecationWarning: \n",
      ".ix is deprecated. Please use\n",
      ".loc for label based indexing or\n",
      ".iloc for positional indexing\n",
      "\n",
      "See the documentation here:\n",
      "http://pandas.pydata.org/pandas-docs/stable/indexing.html#ix-indexer-is-deprecated\n",
      "  \"\"\"Entry point for launching an IPython kernel.\n"
     ]
    }
   ],
   "source": [
    "di=data_member.ix[:,[\"MemberId\",\"Monetary\",\"Frequency\"]]\n",
    "# di=di.set_index(\"MemberId\")\n",
    "di[\"shop?\"]=0\n",
    "active_member=list(set(active_member))\n",
    "di[\"shop?\"]=di[\"MemberId\"].isin(active_member).astype(int)"
   ]
  },
  {
   "cell_type": "code",
   "execution_count": 6,
   "metadata": {},
   "outputs": [],
   "source": [
    "X = di.iloc[:, [1, 2]].values\n",
    "y= di.iloc[:, [3]].values"
   ]
  },
  {
   "cell_type": "code",
   "execution_count": 7,
   "metadata": {},
   "outputs": [
    {
     "name": "stderr",
     "output_type": "stream",
     "text": [
      "c:\\users\\alixh\\appdata\\local\\programs\\python\\python36\\lib\\site-packages\\sklearn\\cross_validation.py:41: DeprecationWarning: This module was deprecated in version 0.18 in favor of the model_selection module into which all the refactored classes and functions are moved. Also note that the interface of the new CV iterators are different from that of this module. This module will be removed in 0.20.\n",
      "  \"This module will be removed in 0.20.\", DeprecationWarning)\n"
     ]
    }
   ],
   "source": [
    "# Splitting the dataset into the Training set and Test set\n",
    "from sklearn.cross_validation import train_test_split\n",
    "X_train, X_test, y_train, y_test = train_test_split(X, y, test_size = 0.01, random_state = 0)"
   ]
  },
  {
   "cell_type": "code",
   "execution_count": null,
   "metadata": {},
   "outputs": [
    {
     "name": "stderr",
     "output_type": "stream",
     "text": [
      "c:\\users\\alixh\\appdata\\local\\programs\\python\\python36\\lib\\site-packages\\sklearn\\utils\\validation.py:578: DataConversionWarning: A column-vector y was passed when a 1d array was expected. Please change the shape of y to (n_samples, ), for example using ravel().\n",
      "  y = column_or_1d(y, warn=True)\n"
     ]
    }
   ],
   "source": [
    "# Feature Scaling\n",
    "from sklearn.preprocessing import StandardScaler\n",
    "sc = StandardScaler()\n",
    "X_train = sc.fit_transform(X_train)\n",
    "X_test = sc.transform(X_test)\n",
    "\n",
    "# Fitting SVM to the Training set\n",
    "from sklearn.svm import SVC\n",
    "classifier = SVC(kernel = 'linear', random_state = 0)\n",
    "classifier.fit(X_train, y_train)\n",
    "\n",
    "# Predicting the Test set results\n",
    "y_pred = classifier.predict(X_test)\n",
    "\n",
    "# Making the Confusion Matrix\n",
    "from sklearn.metrics import confusion_matrix\n",
    "cm = confusion_matrix(y_test, y_pred)"
   ]
  },
  {
   "cell_type": "code",
   "execution_count": null,
   "metadata": {},
   "outputs": [],
   "source": [
    "X"
   ]
  },
  {
   "cell_type": "code",
   "execution_count": null,
   "metadata": {},
   "outputs": [],
   "source": []
  }
 ],
 "metadata": {
  "kernelspec": {
   "display_name": "Python 3",
   "language": "python",
   "name": "python3"
  },
  "language_info": {
   "codemirror_mode": {
    "name": "ipython",
    "version": 3
   },
   "file_extension": ".py",
   "mimetype": "text/x-python",
   "name": "python",
   "nbconvert_exporter": "python",
   "pygments_lexer": "ipython3",
   "version": "3.6.5"
  }
 },
 "nbformat": 4,
 "nbformat_minor": 2
}
