{
 "cells": [
  {
   "cell_type": "code",
   "execution_count": 10,
   "metadata": {},
   "outputs": [],
   "source": [
    "import requests\n",
    "import json\n",
    "import jieba"
   ]
  },
  {
   "cell_type": "code",
   "execution_count": 14,
   "metadata": {},
   "outputs": [
    {
     "data": {
      "text/plain": [
       "{'data': []}"
      ]
     },
     "execution_count": 14,
     "metadata": {},
     "output_type": "execute_result"
    }
   ],
   "source": [
    "# 取得權限\n",
    "token='EAACEdEose0cBANNEGrT3uWb3ZAAtdlsaYQpF4ByQmwV81nvJHZBZCuB36prTeh7ZBXZCNoZCvlNh3dFFHE6DuQJ5kIdeNF0joWIfvuB3ngaZC4s3fjgocTkLeVbhbi0lvnNWQEcjxoCZAGsjpdDCszXqdMcZADDmF5c8lTLhko11wu2BlAfsTKapP7E1k7A898ZBEcTVsmpIagpwZDZD'\n",
    "# 取得文章\n",
    "data=requests.get('https://graph.facebook.com/me/posts?limit=199&since=1420041600&access_token='+token)\n",
    "js=json.loads(data.text)\n",
    "console=[]\n",
    "js"
   ]
  },
  {
   "cell_type": "code",
   "execution_count": 15,
   "metadata": {},
   "outputs": [],
   "source": [
    "while True:   \n",
    "    for post in js['data']:\n",
    "        if 'message' in post:\n",
    "            word=post['message']\n",
    "            console+=jieba.cut(word)\n",
    "    if 'paging' in js:\n",
    "        index=js['paging']['next']\n",
    "        data=requests.get(index)\n",
    "        js=json.loads(data.text)\n",
    "    else:\n",
    "        break"
   ]
  },
  {
   "cell_type": "code",
   "execution_count": 16,
   "metadata": {},
   "outputs": [
    {
     "data": {
      "text/plain": [
       "<matplotlib.figure.Figure at 0x35c7070>"
      ]
     },
     "metadata": {},
     "output_type": "display_data"
    },
    {
     "data": {
      "text/plain": [
       "<matplotlib.figure.Figure at 0x5bb7150>"
      ]
     },
     "metadata": {},
     "output_type": "display_data"
    }
   ],
   "source": [
    "dic={}\n",
    "for ele in console:\n",
    "    if ele in dic:\n",
    "        dic[ele]+=1\n",
    "    else:\n",
    "        dic[ele]=1\n",
    "\n",
    "# 搜尋字典、用operator排序\n",
    "import operator\n",
    "for ele in sorted(dic.items(), key=operator.itemgetter(1),reverse=True):\n",
    "    print (\"%s: %s\"%(ele[0],ele[1]))\n",
    "\n",
    "# 資料可視化\n",
    "import matplotlib.pylab as plt\n",
    "from matplotlib.font_manager import FontProperties\n",
    "plt.encoding='Big-5'\n",
    "plt.bar(range(len(dic)), dic.values(), align=\"center\")\n",
    "plt.figure(figsize=(60,60)) \n",
    "font = FontProperties(fname=r\"c:\\windows\\fonts\\kaiu.ttf\", size=5) \n",
    "plt.xticks(range(len(dic)), list(dic.keys()),fontproperties=font)\n",
    "plt.savefig(\"test2.png\")\n",
    "plt.show()"
   ]
  },
  {
   "cell_type": "code",
   "execution_count": null,
   "metadata": {},
   "outputs": [],
   "source": []
  }
 ],
 "metadata": {
  "kernelspec": {
   "display_name": "Python 3",
   "language": "python",
   "name": "python3"
  },
  "language_info": {
   "codemirror_mode": {
    "name": "ipython",
    "version": 3
   },
   "file_extension": ".py",
   "mimetype": "text/x-python",
   "name": "python",
   "nbconvert_exporter": "python",
   "pygments_lexer": "ipython3",
   "version": "3.6.2"
  }
 },
 "nbformat": 4,
 "nbformat_minor": 2
}
