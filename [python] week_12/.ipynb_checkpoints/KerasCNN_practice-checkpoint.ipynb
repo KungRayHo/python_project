{
 "cells": [
  {
   "cell_type": "code",
   "execution_count": 92,
   "metadata": {},
   "outputs": [],
   "source": [
    "import numpy as np\n",
    "import pandas as pd\n",
    "import keras\n",
    "from keras.utils import np_utils"
   ]
  },
  {
   "cell_type": "code",
   "execution_count": 93,
   "metadata": {},
   "outputs": [],
   "source": [
    "(x_Train,y_Train),(x_Test,y_Test)=keras.datasets.mnist.load_data()"
   ]
  },
  {
   "cell_type": "code",
   "execution_count": 94,
   "metadata": {},
   "outputs": [
    {
     "name": "stdout",
     "output_type": "stream",
     "text": [
      "x_Train: (60000, 28, 28)\n",
      "y_Train: (60000,)\n",
      "x_Test: (10000, 28, 28)\n",
      "y_Test: (10000,)\n"
     ]
    }
   ],
   "source": [
    "print(\"x_Train:\",x_Train.shape)\n",
    "print(\"y_Train:\",y_Train.shape)\n",
    "print(\"x_Test:\",x_Test.shape)\n",
    "print(\"y_Test:\",y_Test.shape)"
   ]
  },
  {
   "cell_type": "code",
   "execution_count": 95,
   "metadata": {},
   "outputs": [],
   "source": [
    "x_Train4D=x_Train.reshape(x_Train.shape[0],28,28,1).astype(\"float\")\n",
    "x_Test4D=x_Test.reshape(x_Test.shape[0],28,28,1).astype(\"float\")"
   ]
  },
  {
   "cell_type": "code",
   "execution_count": 96,
   "metadata": {},
   "outputs": [],
   "source": [
    "x_Train4D_normalized=x_Train4D/255\n",
    "x_Test4D_normalized=x_Test4D/255"
   ]
  },
  {
   "cell_type": "code",
   "execution_count": 97,
   "metadata": {},
   "outputs": [],
   "source": [
    "y_TrainOneHot=np_utils.to_categorical(y_Train)\n",
    "y_TestOneHot=np_utils.to_categorical(y_Test)"
   ]
  },
  {
   "cell_type": "code",
   "execution_count": 98,
   "metadata": {},
   "outputs": [
    {
     "name": "stdout",
     "output_type": "stream",
     "text": [
      "input x shape: (60000, 28, 28, 1)\n",
      "input y shape: (60000, 10)\n"
     ]
    }
   ],
   "source": [
    "print(\"input x shape:\",x_Train4D_normalized.shape)\n",
    "print(\"input y shape:\",y_TrainOneHot.shape)"
   ]
  },
  {
   "cell_type": "code",
   "execution_count": 99,
   "metadata": {},
   "outputs": [],
   "source": [
    "from keras.models import Sequential\n",
    "from keras.layers import Dense,Dropout,Flatten,Conv2D,MaxPooling2D"
   ]
  },
  {
   "cell_type": "code",
   "execution_count": 100,
   "metadata": {},
   "outputs": [],
   "source": [
    "model=Sequential()\n",
    "model.add(Conv2D(filters=16,kernel_size=(5,5),padding=\"same\",input_shape=(28,28,1),activation='relu'))\n",
    "model.add(MaxPooling2D(pool_size=(2,2)))\n",
    "model.add(Conv2D(filters=36,kernel_size=(5,5),padding=\"same\",activation='relu'))\n",
    "model.add(MaxPooling2D(pool_size=(2,2)))"
   ]
  },
  {
   "cell_type": "code",
   "execution_count": 101,
   "metadata": {},
   "outputs": [],
   "source": [
    "model.add(Dropout(0.25))\n",
    "model.add(Flatten())\n",
    "model.add(Dense(128,activation='relu'))\n",
    "model.add(Dropout(0.5))\n",
    "model.add(Dense(10,activation='softmax'))\n",
    "model.compile(loss='categorical_crossentropy',optimizer='adam',metrics=['accuracy'])"
   ]
  },
  {
   "cell_type": "code",
   "execution_count": 102,
   "metadata": {},
   "outputs": [
    {
     "data": {
      "text/plain": [
       "(60000, 28, 28, 1)"
      ]
     },
     "execution_count": 102,
     "metadata": {},
     "output_type": "execute_result"
    }
   ],
   "source": [
    "x_Train4D_normalized.shape"
   ]
  },
  {
   "cell_type": "code",
   "execution_count": 103,
   "metadata": {},
   "outputs": [
    {
     "data": {
      "text/plain": [
       "(10000, 10)"
      ]
     },
     "execution_count": 103,
     "metadata": {},
     "output_type": "execute_result"
    }
   ],
   "source": [
    "y_TestOneHot.shape"
   ]
  },
  {
   "cell_type": "code",
   "execution_count": 104,
   "metadata": {},
   "outputs": [
    {
     "name": "stdout",
     "output_type": "stream",
     "text": [
      "Train on 48000 samples, validate on 12000 samples\n",
      "Epoch 1/20\n",
      " - 49s - loss: 0.5164 - acc: 0.8391 - val_loss: 0.1135 - val_acc: 0.9664\n",
      "Epoch 2/20\n",
      " - 43s - loss: 0.1428 - acc: 0.9573 - val_loss: 0.0644 - val_acc: 0.9802\n",
      "Epoch 3/20\n",
      " - 43s - loss: 0.1027 - acc: 0.9702 - val_loss: 0.0537 - val_acc: 0.9843\n",
      "Epoch 4/20\n",
      " - 42s - loss: 0.0810 - acc: 0.9760 - val_loss: 0.0442 - val_acc: 0.9873\n",
      "Epoch 5/20\n",
      " - 41s - loss: 0.0723 - acc: 0.9788 - val_loss: 0.0402 - val_acc: 0.9888\n",
      "Epoch 6/20\n",
      " - 41s - loss: 0.0616 - acc: 0.9815 - val_loss: 0.0390 - val_acc: 0.9889\n",
      "Epoch 7/20\n",
      " - 42s - loss: 0.0557 - acc: 0.9834 - val_loss: 0.0358 - val_acc: 0.9896\n",
      "Epoch 8/20\n",
      " - 43s - loss: 0.0483 - acc: 0.9853 - val_loss: 0.0396 - val_acc: 0.9892\n",
      "Epoch 9/20\n",
      " - 45s - loss: 0.0444 - acc: 0.9867 - val_loss: 0.0326 - val_acc: 0.9906\n",
      "Epoch 10/20\n",
      " - 43s - loss: 0.0401 - acc: 0.9878 - val_loss: 0.0337 - val_acc: 0.9913\n",
      "Epoch 11/20\n",
      " - 43s - loss: 0.0380 - acc: 0.9889 - val_loss: 0.0315 - val_acc: 0.9916\n",
      "Epoch 12/20\n",
      " - 43s - loss: 0.0344 - acc: 0.9891 - val_loss: 0.0326 - val_acc: 0.9903\n",
      "Epoch 13/20\n",
      " - 43s - loss: 0.0321 - acc: 0.9903 - val_loss: 0.0310 - val_acc: 0.9914\n",
      "Epoch 14/20\n",
      " - 42s - loss: 0.0313 - acc: 0.9901 - val_loss: 0.0288 - val_acc: 0.9923\n",
      "Epoch 15/20\n",
      " - 43s - loss: 0.0308 - acc: 0.9899 - val_loss: 0.0306 - val_acc: 0.9918\n",
      "Epoch 16/20\n",
      " - 44s - loss: 0.0269 - acc: 0.9915 - val_loss: 0.0300 - val_acc: 0.9925\n",
      "Epoch 17/20\n",
      " - 43s - loss: 0.0258 - acc: 0.9920 - val_loss: 0.0306 - val_acc: 0.9921\n",
      "Epoch 18/20\n",
      " - 44s - loss: 0.0253 - acc: 0.9917 - val_loss: 0.0309 - val_acc: 0.9916\n",
      "Epoch 19/20\n",
      " - 46s - loss: 0.0220 - acc: 0.9932 - val_loss: 0.0312 - val_acc: 0.9917\n",
      "Epoch 20/20\n",
      " - 54s - loss: 0.0229 - acc: 0.9926 - val_loss: 0.0306 - val_acc: 0.9917\n"
     ]
    }
   ],
   "source": [
    "train_history=model.fit(x=x_Train4D_normalized,y=y_TrainOneHot,validation_split=0.2,epochs=20,batch_size=300,verbose=2)"
   ]
  },
  {
   "cell_type": "code",
   "execution_count": 26,
   "metadata": {
    "scrolled": true
   },
   "outputs": [
    {
     "ename": "NameError",
     "evalue": "name 'show_train_history' is not defined",
     "output_type": "error",
     "traceback": [
      "\u001b[1;31m---------------------------------------------------------------------------\u001b[0m",
      "\u001b[1;31mNameError\u001b[0m                                 Traceback (most recent call last)",
      "\u001b[1;32m<ipython-input-26-eb6f00575ffd>\u001b[0m in \u001b[0;36m<module>\u001b[1;34m()\u001b[0m\n\u001b[1;32m----> 1\u001b[1;33m \u001b[0mshow_train_history\u001b[0m\u001b[1;33m(\u001b[0m\u001b[1;34m'acc'\u001b[0m\u001b[1;33m,\u001b[0m\u001b[1;34m'val_acc'\u001b[0m\u001b[1;33m)\u001b[0m\u001b[1;33m\u001b[0m\u001b[0m\n\u001b[0m",
      "\u001b[1;31mNameError\u001b[0m: name 'show_train_history' is not defined"
     ]
    }
   ],
   "source": [
    "show_train_history('acc','val_acc')"
   ]
  },
  {
   "cell_type": "code",
   "execution_count": null,
   "metadata": {},
   "outputs": [],
   "source": []
  }
 ],
 "metadata": {
  "kernelspec": {
   "display_name": "Python 3",
   "language": "python",
   "name": "python3"
  },
  "language_info": {
   "codemirror_mode": {
    "name": "ipython",
    "version": 3
   },
   "file_extension": ".py",
   "mimetype": "text/x-python",
   "name": "python",
   "nbconvert_exporter": "python",
   "pygments_lexer": "ipython3",
   "version": "3.6.5"
  }
 },
 "nbformat": 4,
 "nbformat_minor": 2
}
