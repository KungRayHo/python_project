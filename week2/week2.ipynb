{
 "cells": [
  {
   "cell_type": "code",
   "execution_count": 82,
   "metadata": {},
   "outputs": [
    {
     "name": "stderr",
     "output_type": "stream",
     "text": [
      "c:\\users\\alex\\appdata\\local\\programs\\python\\python36-32\\lib\\site-packages\\bs4\\__init__.py:181: UserWarning: No parser was explicitly specified, so I'm using the best available HTML parser for this system (\"html5lib\"). This usually isn't a problem, but if you run this code on another system, or in a different virtual environment, it may use a different parser and behave differently.\n",
      "\n",
      "The code that caused this warning is on line 193 of the file c:\\users\\alex\\appdata\\local\\programs\\python\\python36-32\\lib\\runpy.py. To get rid of this warning, change code that looks like this:\n",
      "\n",
      " BeautifulSoup(YOUR_MARKUP})\n",
      "\n",
      "to this:\n",
      "\n",
      " BeautifulSoup(YOUR_MARKUP, \"html5lib\")\n",
      "\n",
      "  markup_type=markup_type))\n"
     ]
    }
   ],
   "source": [
    "import requests\n",
    "from bs4 import BeautifulSoup\n",
    "import re\n",
    "import pandas as pd\n",
    "\n",
    "itemName=[]\n",
    "itemQuantity=[]\n",
    "original_money=[]\n",
    "# sale_money=[]\n",
    "for i in range(1,21):\n",
    "    url =\"http://www.asobi.com.tw/Shop/itemList.aspx?m=1&p=54&o=5&sa=1&smfp=\"+str(i)+\"&\"\n",
    "    res=requests.get(url)\n",
    "    soup=BeautifulSoup(res.text)\n",
    "    total_item=len(soup.select(\".itemListDiv .itemListMerName\"))\n",
    "    \n",
    "    for j in range(1,total_item):\n",
    "        original_money.append(soup.select(\".itemListDiv\")[0].select('.itemPrice')[0].text)\n",
    "#         sale_money.append(soup.select(\".itemListDiv\")[0].select('.itemPrice')[1].text)\n",
    "        itemQuantity.append(soup.select(\".itemListSaleNum\")[j].select(\"span\")[0].text)\n",
    "        itemName.append(soup.select(\".itemListDiv .itemListMerName\")[j].text)"
   ]
  },
  {
   "cell_type": "code",
   "execution_count": 84,
   "metadata": {},
   "outputs": [
    {
     "data": {
      "text/html": [
       "<div>\n",
       "<style scoped>\n",
       "    .dataframe tbody tr th:only-of-type {\n",
       "        vertical-align: middle;\n",
       "    }\n",
       "\n",
       "    .dataframe tbody tr th {\n",
       "        vertical-align: top;\n",
       "    }\n",
       "\n",
       "    .dataframe thead th {\n",
       "        text-align: right;\n",
       "    }\n",
       "</style>\n",
       "<table border=\"1\" class=\"dataframe\">\n",
       "  <thead>\n",
       "    <tr style=\"text-align: right;\">\n",
       "      <th></th>\n",
       "      <th>item_name</th>\n",
       "      <th>item_quantity</th>\n",
       "      <th>money</th>\n",
       "    </tr>\n",
       "  </thead>\n",
       "  <tbody>\n",
       "    <tr>\n",
       "      <th>0</th>\n",
       "      <td>正韓連線-多彩色彈性舒適棉質內搭褲【R50078-02】</td>\n",
       "      <td>2824</td>\n",
       "      <td>320</td>\n",
       "    </tr>\n",
       "    <tr>\n",
       "      <th>1</th>\n",
       "      <td>正韓-歐美部落客推薦-壓紋棉寬褲裙【R70533-04】</td>\n",
       "      <td>2433</td>\n",
       "      <td>320</td>\n",
       "    </tr>\n",
       "    <tr>\n",
       "      <th>2</th>\n",
       "      <td>韓系-古著感腰後彈性配色格紋寬褲裙【R70062-04】</td>\n",
       "      <td>2419</td>\n",
       "      <td>320</td>\n",
       "    </tr>\n",
       "    <tr>\n",
       "      <th>3</th>\n",
       "      <td>正韓-休閒感口袋彈性棉質長褲【R50178-04】</td>\n",
       "      <td>1633</td>\n",
       "      <td>320</td>\n",
       "    </tr>\n",
       "    <tr>\n",
       "      <th>4</th>\n",
       "      <td>韓系-藍色調白細線格紋長版襯衫洋裝【R50219-12】</td>\n",
       "      <td>1206</td>\n",
       "      <td>320</td>\n",
       "    </tr>\n",
       "  </tbody>\n",
       "</table>\n",
       "</div>"
      ],
      "text/plain": [
       "                      item_name item_quantity money\n",
       "0  正韓連線-多彩色彈性舒適棉質內搭褲【R50078-02】          2824   320\n",
       "1  正韓-歐美部落客推薦-壓紋棉寬褲裙【R70533-04】          2433   320\n",
       "2  韓系-古著感腰後彈性配色格紋寬褲裙【R70062-04】          2419   320\n",
       "3     正韓-休閒感口袋彈性棉質長褲【R50178-04】          1633   320\n",
       "4  韓系-藍色調白細線格紋長版襯衫洋裝【R50219-12】          1206   320"
      ]
     },
     "execution_count": 84,
     "metadata": {},
     "output_type": "execute_result"
    }
   ],
   "source": [
    "data_list={\"item_name\":itemName,\"item_quantity\":itemQuantity,\"money\":original_money}\n",
    "data=pd.DataFrame(data_list)\n",
    "data.set_index(\"item_quantity\")\n",
    "data.head()"
   ]
  },
  {
   "cell_type": "code",
   "execution_count": 81,
   "metadata": {},
   "outputs": [
    {
     "name": "stderr",
     "output_type": "stream",
     "text": [
      "c:\\users\\alex\\appdata\\local\\programs\\python\\python36-32\\lib\\site-packages\\bs4\\__init__.py:181: UserWarning: No parser was explicitly specified, so I'm using the best available HTML parser for this system (\"html5lib\"). This usually isn't a problem, but if you run this code on another system, or in a different virtual environment, it may use a different parser and behave differently.\n",
      "\n",
      "The code that caused this warning is on line 193 of the file c:\\users\\alex\\appdata\\local\\programs\\python\\python36-32\\lib\\runpy.py. To get rid of this warning, change code that looks like this:\n",
      "\n",
      " BeautifulSoup(YOUR_MARKUP})\n",
      "\n",
      "to this:\n",
      "\n",
      " BeautifulSoup(YOUR_MARKUP, \"html5lib\")\n",
      "\n",
      "  markup_type=markup_type))\n"
     ]
    },
    {
     "data": {
      "text/plain": [
       "<span class=\"itemPrice\">285</span>"
      ]
     },
     "execution_count": 81,
     "metadata": {},
     "output_type": "execute_result"
    }
   ],
   "source": []
  },
  {
   "cell_type": "code",
   "execution_count": null,
   "metadata": {},
   "outputs": [],
   "source": []
  }
 ],
 "metadata": {
  "kernelspec": {
   "display_name": "Python 3",
   "language": "python",
   "name": "python3"
  },
  "language_info": {
   "codemirror_mode": {
    "name": "ipython",
    "version": 3
   },
   "file_extension": ".py",
   "mimetype": "text/x-python",
   "name": "python",
   "nbconvert_exporter": "python",
   "pygments_lexer": "ipython3",
   "version": "3.6.4"
  }
 },
 "nbformat": 4,
 "nbformat_minor": 2
}
