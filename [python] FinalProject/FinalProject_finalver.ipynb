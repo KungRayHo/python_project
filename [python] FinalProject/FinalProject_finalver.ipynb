{
 "cells": [
  {
   "cell_type": "code",
   "execution_count": 1,
   "metadata": {},
   "outputs": [],
   "source": [
    "import pandas as pd\n",
    "import numpy as np\n",
    "from collections import Counter "
   ]
  },
  {
   "cell_type": "code",
   "execution_count": 2,
   "metadata": {},
   "outputs": [
    {
     "name": "stderr",
     "output_type": "stream",
     "text": [
      "c:\\users\\alixh\\appdata\\local\\programs\\python\\python36\\lib\\site-packages\\IPython\\core\\interactiveshell.py:2785: DtypeWarning: Columns (23) have mixed types. Specify dtype option on import or set low_memory=False.\n",
      "  interactivity=interactivity, compiler=compiler, result=result)\n"
     ]
    }
   ],
   "source": [
    "df=pd.read_csv(\"../Ntu_DataSet/Orders.csv\")"
   ]
  },
  {
   "cell_type": "code",
   "execution_count": 3,
   "metadata": {},
   "outputs": [],
   "source": [
    "shopping_data=df.copy()"
   ]
  },
  {
   "cell_type": "code",
   "execution_count": 4,
   "metadata": {},
   "outputs": [
    {
     "name": "stdout",
     "output_type": "stream",
     "text": [
      "<class 'pandas.core.frame.DataFrame'>\n",
      "RangeIndex: 5495276 entries, 0 to 5495275\n",
      "Data columns (total 28 columns):\n",
      "DateId                         int64\n",
      "MemberId                       int64\n",
      "OrderGroupCode                 object\n",
      "TrackSourceTypeDef             object\n",
      "TrackDeviceTypeDef             object\n",
      "PayProfileTypeDef              object\n",
      "SalesOrderSlaveId              int64\n",
      "SalePageId                     int64\n",
      "IsMajor                        bool\n",
      "IsGift                         bool\n",
      "IsSalePageGift                 bool\n",
      "Quantity                       int64\n",
      "UnitPrice                      float64\n",
      "PromotionDiscount              float64\n",
      "ECouponId                      int64\n",
      "ECouponDiscount                float64\n",
      "SalesOrderSlaveTotalPayment    float64\n",
      "SalesOrderSlaveDateTime        object\n",
      "SalesOrderReceiverId           int64\n",
      "City                           object\n",
      "District                       object\n",
      "ZipCode                        float64\n",
      "StoreName                      object\n",
      "StoreId                        object\n",
      "DeliverTypeDef                 object\n",
      "StatusDef                      object\n",
      "ReturnGoodsDateId              float64\n",
      "CauseDef                       object\n",
      "dtypes: bool(3), float64(6), int64(7), object(12)\n",
      "memory usage: 1.0+ GB\n"
     ]
    }
   ],
   "source": [
    "shopping_data.info()"
   ]
  },
  {
   "cell_type": "code",
   "execution_count": 5,
   "metadata": {},
   "outputs": [
    {
     "name": "stderr",
     "output_type": "stream",
     "text": [
      "c:\\users\\alex\\appdata\\local\\programs\\python\\python36\\lib\\site-packages\\ipykernel_launcher.py:1: DeprecationWarning: \n",
      ".ix is deprecated. Please use\n",
      ".loc for label based indexing or\n",
      ".iloc for positional indexing\n",
      "\n",
      "See the documentation here:\n",
      "http://pandas.pydata.org/pandas-docs/stable/indexing.html#ix-indexer-is-deprecated\n",
      "  \"\"\"Entry point for launching an IPython kernel.\n",
      "c:\\users\\alex\\appdata\\local\\programs\\python\\python36\\lib\\site-packages\\pandas\\core\\indexing.py:116: FutureWarning: \n",
      "Passing list-likes to .loc or [] with any missing label will raise\n",
      "KeyError in the future, you can use .reindex() as an alternative.\n",
      "\n",
      "See the documentation here:\n",
      "https://pandas.pydata.org/pandas-docs/stable/indexing.html#deprecate-loc-reindex-listlike\n",
      "  return self._getitem_tuple(key)\n"
     ]
    }
   ],
   "source": [
    "shopping_data=shopping_data.ix[:,[\"DateId\",\"MemberId\",\"OrderGroupCode\",\"IsGift\",\"IsSalePageGift\",\"Quantity\",\"UnitPrice\",\"PromotionDiscount\",\"EcouponId\",\"ECouponDiscount\",\"SalesOrderSlaveTotalPayment\"]]"
   ]
  },
  {
   "cell_type": "code",
   "execution_count": 6,
   "metadata": {},
   "outputs": [],
   "source": [
    "shopping_data=shopping_data.fillna(0)"
   ]
  },
  {
   "cell_type": "code",
   "execution_count": 7,
   "metadata": {},
   "outputs": [],
   "source": [
    "shopping_data['DateId']=pd.to_datetime(shopping_data['DateId'],format=\"%Y%m%d\") "
   ]
  },
  {
   "cell_type": "markdown",
   "metadata": {},
   "source": [
    "## (1) 顧客分群"
   ]
  },
  {
   "cell_type": "markdown",
   "metadata": {},
   "source": [
    "以3個月為單位，故分成  2015/07~2015/09，2015/10~2016/12，2016/01~2016/03，2016/04~2016/06，2016/07~2016/09，2016/10~2017/12，2017/01~2017/03  七個時段"
   ]
  },
  {
   "cell_type": "code",
   "execution_count": 207,
   "metadata": {},
   "outputs": [],
   "source": [
    "# shoppingDataList=[]\n",
    "timeExpend=[\"2015-07~2015-09\",\"2015-10~2016-12\",\"2016-01~2016-03\",\"2016-04~2016-06\",\"2016-07~2016-09\",\"2016-10~2017-12\",\"2017-01~2017-03\"]\n",
    "# for time in timeExpend:\n",
    "#     time=time.split(\"~\")\n",
    "#     temp=shopping_data[shopping_data[\"DateId\"]>=time[0]]\n",
    "#     temp=temp[temp[\"DateId\"]<=time[1]]\n",
    "#     shoppingDataList.append(temp)"
   ]
  },
  {
   "cell_type": "code",
   "execution_count": 145,
   "metadata": {
    "scrolled": true
   },
   "outputs": [],
   "source": [
    "# newCustomer=[]\n",
    "# activeCustomer=[]\n",
    "# sleepCustomer=[]\n",
    "# customerTotal=[]\n",
    "# customers=[]\n",
    "# for index,customer in enumerate(shoppingDataList):\n",
    "#     if index==0:\n",
    "#         newCustomer.append(set(customer[\"MemberId\"]))\n",
    "#         customerTotal.append(set(customer[\"MemberId\"]))\n",
    "#         activeCustomer.append({})\n",
    "#         sleepCustomer.append({})\n",
    "#         customers.append(set(customer[\"MemberId\"]))\n",
    "#     else:\n",
    "#         tempData=customer.ix[:,[\"MemberId\",\"OrderGroupCode\"]]\n",
    "# #         customerTotal------->所有的消費者\n",
    "#         customerTotalItem=customerTotal[index-1] | set(tempData[\"MemberId\"])\n",
    "#         customerTotal.append(customerTotalItem)\n",
    "        \n",
    "# #         newCustomer--------->新增加的消費者且期間銷售次數為一次\n",
    "#         tempGroup=tempData.groupby(\"MemberId\")[\"OrderGroupCode\"].nunique()\n",
    "#         newCustomerItem=set(tempGroup.index[tempGroup.values==1]) - customerTotal[index-1] \n",
    "#         newCustomer.append(newCustomerItem)\n",
    "        \n",
    "# #         activeCustomer------>主要消費者\n",
    "#         activeCustomerItem=set(tempData[\"MemberId\"])-newCustomerItem\n",
    "#         activeCustomer.append(activeCustomerItem)\n",
    "        \n",
    "# #         sleepCustomer------->上一期有消費但這期沒消費\n",
    "#         sleepCustomerItem=customerTotal[index-1] - set(tempData[\"MemberId\"])\n",
    "    \n",
    "#         sleepCustomer.append(sleepCustomerItem)\n",
    "# #         customers----------->這期的消費者\n",
    "#         customers.append(set(tempData[\"MemberId\"]))"
   ]
  },
  {
   "cell_type": "code",
   "execution_count": 144,
   "metadata": {},
   "outputs": [],
   "source": [
    "# for i in range(len(newCustomer)):\n",
    "#     print(\"NewCustomer:\",len(set(newCustomer[i])))\n",
    "#     print(\"ActiveCustomer:\",len(set(activeCustomer[i])))\n",
    "#     print(\"SleepCustomer:\",len(set(sleepCustomer[i])))\n",
    "#     print(\"TotalCustomer:\",len(set(customerTotal[i])))\n",
    "#     print(\"Customer:\",len(set(customers[i])))\n",
    "#     print(\"--------------------------------\")"
   ]
  },
  {
   "cell_type": "code",
   "execution_count": 195,
   "metadata": {},
   "outputs": [
    {
     "data": {
      "text/plain": [
       "1077"
      ]
     },
     "execution_count": 195,
     "metadata": {},
     "output_type": "execute_result"
    }
   ],
   "source": [
    "len(total_member1)"
   ]
  },
  {
   "cell_type": "code",
   "execution_count": 198,
   "metadata": {},
   "outputs": [],
   "source": [
    "total_member=answer+wakeUpMember\n",
    "total_member1=[]\n",
    "for i in range(len(total_member)+1):\n",
    "        temp=list(total_member)[0:i]\n",
    "        total_member1.append(np.array(temp).sum())\n",
    "total_member1=total_member1[1:]\n",
    "sleepmember=np.array(total_member1)-answer-wakeUpMember\n",
    "tempdic={\"Date\":DateInteresting,\"New\":answer,\"active\":wakeUpMember,\"sleepmember\":sleepmember}\n",
    "tempPan=pd.DataFrame(tempdic)\n",
    "# for i in range(len(newCustomer)):\n",
    "#     newCustomerNumber.append(len(set(newCustomer[i])))\n",
    "#     activeCustomerNumber.append(len(set(activeCustomer[i])))\n",
    "#     sleepCustomerNumber.append(len(set(sleepCustomer[i])))"
   ]
  },
  {
   "cell_type": "code",
   "execution_count": 232,
   "metadata": {},
   "outputs": [],
   "source": [
    "newCustomerNumber=[]\n",
    "activeCustomerNumber=[]\n",
    "sleepCustomerNumber=[]\n",
    "for item in timeExpend:\n",
    "    time=item.split(\"~\")\n",
    "    temp=tempPan[tempPan[\"Date\"]>time[0]]\n",
    "    temp=temp[temp[\"Date\"]<time[1]]\n",
    "    newCustomerNumber.append(temp[\"New\"].sum())\n",
    "    activeCustomerNumber.append(temp[\"active\"].sum())\n",
    "    sleepCustomerNumber.append(temp[\"sleepmember\"].max())"
   ]
  },
  {
   "cell_type": "code",
   "execution_count": 229,
   "metadata": {
    "scrolled": true
   },
   "outputs": [],
   "source": [
    "temp=tempPan[tempPan[\"Date\"]>\"2015-5\"]\n",
    "temp=temp[temp[\"Date\"]<\"2015-12\"]\n",
    "newCustomerNumber.append(temp[\"New\"].sum())\n",
    "activeCustomerNumber.append(temp[\"active\"].sum())\n",
    "sleepCustomerNumber.append(temp[\"sleepmember\"].max())"
   ]
  },
  {
   "cell_type": "code",
   "execution_count": 231,
   "metadata": {
    "scrolled": true
   },
   "outputs": [
    {
     "data": {
      "text/plain": [
       "120229"
      ]
     },
     "execution_count": 231,
     "metadata": {},
     "output_type": "execute_result"
    }
   ],
   "source": [
    "temp[\"sleepmember\"].max()"
   ]
  },
  {
   "cell_type": "code",
   "execution_count": 238,
   "metadata": {},
   "outputs": [
    {
     "data": {
      "text/plain": [
       "array([  83718, 1588708,  403700,  736221, 1041886, 2640956, 1496213],\n",
       "      dtype=int64)"
      ]
     },
     "execution_count": 238,
     "metadata": {},
     "output_type": "execute_result"
    }
   ],
   "source": [
    "np.array(sleepCustomerNumber)+np.array(activeCustomerNumber)+np.array(sleepCustomerNumber)"
   ]
  },
  {
   "cell_type": "code",
   "execution_count": 233,
   "metadata": {},
   "outputs": [],
   "source": [
    "interest=[]\n",
    "for customer in shoppingDataList:\n",
    "    quantity=np.array(customer[\"Quantity\"])\n",
    "    salesOrderSlaveTotalPayment=np.array(customer[\"SalesOrderSlaveTotalPayment\"])\n",
    "    interest.append(np.dot(quantity,salesOrderSlaveTotalPayment))"
   ]
  },
  {
   "cell_type": "code",
   "execution_count": 234,
   "metadata": {},
   "outputs": [
    {
     "data": {
      "text/plain": [
       "7"
      ]
     },
     "execution_count": 234,
     "metadata": {},
     "output_type": "execute_result"
    }
   ],
   "source": [
    "len(interest)"
   ]
  },
  {
   "cell_type": "code",
   "execution_count": 235,
   "metadata": {},
   "outputs": [],
   "source": [
    "import matplotlib.pyplot as plt\n",
    "import matplotlib\n",
    "import numpy as np\n",
    "def barsplot():\n",
    "    fig=plt.figure(figsize=(15,20))\n",
    "    ax1 = fig.add_subplot(111)\n",
    "    ax2 = ax1.twinx()\n",
    "    \n",
    "    x=[x for x in range(1,8)]\n",
    "    y1=np.array(newCustomerNumber)\n",
    "    y2=np.array(activeCustomerNumber)\n",
    "    y3=np.array(sleepCustomerNumber)\n",
    "    l1=ax1.bar(x, y1, color='green', label='y1')\n",
    "    l2=ax1.bar(x, y2, bottom=y1, color='red', label='y2')\n",
    "    l3=ax1.bar(x, y3, bottom=y1+y2, color='blue', label='y3')\n",
    "    plt.xlabel(\"x\")\n",
    "    plt.ylabel(\"y\")\n",
    "    plt.title(\"Custumer Classify\")\n",
    "    plt.legend(handles = [l1,l2,l3], labels = [\"newCustomerNumber\",\"activeCustomerNumber\",\"sleepCustomerNumber\"],loc=\"best\")\n",
    "    \n",
    "    for x,x,x,y1,y2,y3 in zip(x,x,x,y1,y2,y3):\n",
    "        ax1.text(x ,y1, \"%.0f\" % y1, ha=\"center\",va=\"center\")\n",
    "        ax1.text(x ,y2+y1, \"%.0f\" % y2, ha=\"center\",va=\"center\")\n",
    "        ax1.text(x ,y2+y1+y3, \"%.0f\" % y3, ha=\"center\",va=\"center\")\n",
    "    ax2.set_xlim([0,8])\n",
    "    ax2.plot([x for x in range(1,8)], interest, '-o',color='black')\n",
    "    plt.show()"
   ]
  },
  {
   "cell_type": "code",
   "execution_count": 236,
   "metadata": {
    "scrolled": false
   },
   "outputs": [
    {
     "data": {
      "image/png": "[encoded data removed]",
      "text/plain": [
       "<Figure size 1080x1440 with 2 Axes>"
      ]
     },
     "metadata": {},
     "output_type": "display_data"
    }
   ],
   "source": [
    "draw=barsplot()"
   ]
  },
  {
   "cell_type": "code",
   "execution_count": null,
   "metadata": {},
   "outputs": [],
   "source": []
  },
  {
   "cell_type": "markdown",
   "metadata": {},
   "source": [
    "# 2. 促銷對人口流動的影響"
   ]
  },
  {
   "cell_type": "markdown",
   "metadata": {},
   "source": [
    "##  (1)   促銷活動對新客人數的影響"
   ]
  },
  {
   "cell_type": "markdown",
   "metadata": {},
   "source": [
    "### (a)  load data"
   ]
  },
  {
   "cell_type": "code",
   "execution_count": 16,
   "metadata": {},
   "outputs": [],
   "source": [
    "df2=pd.read_csv(\"../Ntu_DataSet/PromotionOrders.csv\")\n",
    "promotion_data=df2.copy()"
   ]
  },
  {
   "cell_type": "code",
   "execution_count": 17,
   "metadata": {},
   "outputs": [],
   "source": [
    "promotion_data[\"PromotionId\"]=promotion_data[\"PromotionId\"].astype(\"str\")\n",
    "del promotion_data[\"SalesOrderSlaveId\"]"
   ]
  },
  {
   "cell_type": "code",
   "execution_count": 18,
   "metadata": {},
   "outputs": [
    {
     "data": {
      "text/plain": [
       "count     4011064\n",
       "unique        244\n",
       "top         34032\n",
       "freq       189210\n",
       "Name: PromotionId, dtype: object"
      ]
     },
     "execution_count": 18,
     "metadata": {},
     "output_type": "execute_result"
    }
   ],
   "source": [
    "promotion_data[\"PromotionId\"].describe()"
   ]
  },
  {
   "cell_type": "code",
   "execution_count": 19,
   "metadata": {},
   "outputs": [
    {
     "data": {
      "text/plain": [
       "count     4011064\n",
       "unique          7\n",
       "top          滿額折現\n",
       "freq      1727429\n",
       "Name: DiscountType, dtype: object"
      ]
     },
     "execution_count": 19,
     "metadata": {},
     "output_type": "execute_result"
    }
   ],
   "source": [
    "promotion_data[\"DiscountType\"].describe()"
   ]
  },
  {
   "cell_type": "code",
   "execution_count": 20,
   "metadata": {
    "scrolled": false
   },
   "outputs": [
    {
     "name": "stdout",
     "output_type": "stream",
     "text": [
      "<class 'pandas.core.frame.DataFrame'>\n",
      "RangeIndex: 4011064 entries, 0 to 4011063\n",
      "Data columns (total 12 columns):\n",
      "PromotionId                                     object\n",
      "SalesOrderSlavePromotionDiscount                float64\n",
      "SalesOrderSlavePromotionDiscountAllocated       float64\n",
      "SalesOrderSlavePromotionDiscountAllocatedQty    int64\n",
      "SalesOrderSlavePromotionDiscountRate            float64\n",
      "DiscountType                                    object\n",
      "PromotionCondition_DiscountPrice                float64\n",
      "PromotionCondition_DiscountRate                 float64\n",
      "PromotionCondition_TotalPrice                   float64\n",
      "PromotionCondition_TotalQty                     int64\n",
      "PromotionStartDateTime                          object\n",
      "PromotionEndDateTime                            object\n",
      "dtypes: float64(6), int64(2), object(4)\n",
      "memory usage: 367.2+ MB\n"
     ]
    }
   ],
   "source": [
    "promotion_data.info()"
   ]
  },
  {
   "cell_type": "markdown",
   "metadata": {},
   "source": [
    "### (b)  把promotion data重複的刪掉 "
   ]
  },
  {
   "cell_type": "code",
   "execution_count": 21,
   "metadata": {},
   "outputs": [],
   "source": [
    "PromotionId=promotion_data[\"PromotionId\"].values\n",
    "# print(1)\n",
    "DiscountType=promotion_data[\"DiscountType\"].values\n",
    "# print(1)\n",
    "PromotionCondition_DiscountPrice=promotion_data[\"PromotionCondition_DiscountPrice\"].values\n",
    "# print(1)\n",
    "PromotionCondition_DiscountRate=promotion_data[\"PromotionCondition_DiscountRate\"].values\n",
    "# print(1)\n",
    "PromotionCondition_TotalPrice=promotion_data[\"PromotionCondition_TotalPrice\"].values\n",
    "# print(1)\n",
    "PromotionCondition_TotalQty=promotion_data[\"PromotionCondition_TotalQty\"].values\n",
    "# print(1)\n",
    "PromotionStartDateTime=promotion_data[\"PromotionStartDateTime\"].values\n",
    "# print(1)\n",
    "PromotionEndDateTime=promotion_data[\"PromotionEndDateTime\"].values\n",
    "# print(1)\n",
    "promotionLs=[]\n",
    "for promote in np.unique(promotion_data[\"PromotionId\"].values):\n",
    "    templs=[]\n",
    "    a=promotion_data[\"PromotionId\"].values\n",
    "    index=np.argwhere(a==promote)\n",
    "    index=index[0][0]\n",
    "    templs.append(PromotionId[index])\n",
    "    templs.append(DiscountType[index])\n",
    "    templs.append(PromotionCondition_DiscountPrice[index])\n",
    "    templs.append(PromotionCondition_DiscountRate[index])\n",
    "    templs.append(PromotionCondition_TotalPrice[index])\n",
    "    templs.append(PromotionCondition_TotalQty[index])\n",
    "    templs.append(PromotionStartDateTime[index])\n",
    "    templs.append(PromotionEndDateTime[index])\n",
    "    promotionLs.append(templs)"
   ]
  },
  {
   "cell_type": "markdown",
   "metadata": {},
   "source": [
    "### (c)  整理資料"
   ]
  },
  {
   "cell_type": "code",
   "execution_count": 22,
   "metadata": {},
   "outputs": [],
   "source": [
    "promotionData=pd.DataFrame(promotionLs,columns=[\"PromotionId\",\"DiscountType\",\"PromotionCondition_DiscountPrice\",\"PromotionCondition_DiscountRate\",\"PromotionCondition_TotalPrice\",\"PromotionCondition_TotalQty\",\"PromotionStartDateTime\",\"PromotionEndDateTime\"])\n",
    "promotionData=promotionData.sort_values(by=\"PromotionStartDateTime\")\n",
    "# promotionDate=promotionData[\"PromotionStartDateTime\"].values,promotionData[\"PromotionStartDateTime\"].values\n",
    "promotionDate=np.vstack((promotionData[\"PromotionStartDateTime\"].values,promotionData[\"PromotionEndDateTime\"].values)).T"
   ]
  },
  {
   "cell_type": "code",
   "execution_count": 23,
   "metadata": {},
   "outputs": [
    {
     "data": {
      "text/plain": [
       "244"
      ]
     },
     "execution_count": 23,
     "metadata": {},
     "output_type": "execute_result"
    }
   ],
   "source": [
    "len(promotionDate)"
   ]
  },
  {
   "cell_type": "code",
   "execution_count": 24,
   "metadata": {},
   "outputs": [],
   "source": [
    "from datetime import timedelta, date\n",
    "promotionTotalDate=[]\n",
    "promotionTotalDateMatix=[]\n",
    "def daterange(date1, date2):\n",
    "    for n in range(int ((date2 - date1).days)+1):\n",
    "        yield date1 + timedelta(n)\n",
    "for item in promotionDate:\n",
    "    temp=[]\n",
    "    a=item[0].split(\" \")[0].split(\"-\")\n",
    "    b=item[1].split(\" \")[0].split(\"-\")\n",
    "    start_dt = date(int(a[0]), int(a[1]), int(a[2]))\n",
    "    end_dt = date(int(b[0]), int(b[1]),int(b[2]))\n",
    "    for dt in daterange(start_dt, end_dt):\n",
    "        promotionTotalDate.append(dt)\n",
    "        temp.append(dt)\n",
    "    promotionTotalDateMatix.append(temp)\n",
    "\n",
    "promotionTotalDateSet=set(promotionTotalDate)\n",
    "cc=list(set(shopping_data[\"DateId\"].values))\n",
    "cc.sort()\n",
    "a=str(cc[0]).split('T')[0].split(\"-\")\n",
    "b=str(cc[-1]).split('T')[0].split(\"-\")\n",
    "shoppingTotalDate=set()\n",
    "start_dt = date(int(a[0]), int(a[1]), int(a[2]))\n",
    "end_dt = date(int(b[0]), int(b[1]),int(b[2]))\n",
    "for dt in daterange(start_dt, end_dt):\n",
    "        shoppingTotalDate.add(dt)\n",
    "        \n",
    "promotionTotalDateList=list(promotionTotalDateSet)\n",
    "promotionTotalDateList.sort()"
   ]
  },
  {
   "cell_type": "code",
   "execution_count": 25,
   "metadata": {
    "scrolled": false
   },
   "outputs": [
    {
     "name": "stderr",
     "output_type": "stream",
     "text": [
      "c:\\users\\alex\\appdata\\local\\programs\\python\\python36\\lib\\site-packages\\IPython\\core\\interactiveshell.py:2785: DtypeWarning: Columns (8) have mixed types. Specify dtype option on import or set low_memory=False.\n",
      "  interactivity=interactivity, compiler=compiler, result=result)\n"
     ]
    }
   ],
   "source": [
    "df2=pd.read_csv(\"../Ntu_DataSet/Member.csv\")\n",
    "Member=list(df2[\"MinOrderDate\"].dropna())\n",
    "Member.sort()"
   ]
  },
  {
   "cell_type": "code",
   "execution_count": 28,
   "metadata": {},
   "outputs": [],
   "source": [
    "# from collections import Counter\n",
    "# aa=np.array(list(Counter(Member).values()))\n",
    "# base=aa.mean()-aa.std()"
   ]
  },
  {
   "cell_type": "code",
   "execution_count": 30,
   "metadata": {},
   "outputs": [],
   "source": [
    "# from sympy import *"
   ]
  },
  {
   "cell_type": "code",
   "execution_count": 31,
   "metadata": {},
   "outputs": [],
   "source": [
    "# a=list(range(244))\n",
    "# for i in range(len(a)):\n",
    "#     a[i]=symbols('a['+str(i)+\"]\")"
   ]
  },
  {
   "cell_type": "code",
   "execution_count": 26,
   "metadata": {},
   "outputs": [],
   "source": [
    "matrix=[]\n",
    "for i in range(len(promotionTotalDateMatix)):\n",
    "    mask = np.isin(promotionTotalDateList,promotionTotalDateMatix[i])\n",
    "    mask=mask.astype(int)\n",
    "    matrix.append(list(mask))"
   ]
  },
  {
   "cell_type": "code",
   "execution_count": 27,
   "metadata": {},
   "outputs": [],
   "source": [
    "answer=np.array(list(Counter(Member).values()))"
   ]
  },
  {
   "cell_type": "markdown",
   "metadata": {},
   "source": [
    "### (d)  找出能吸引顧客的促消搭配"
   ]
  },
  {
   "cell_type": "code",
   "execution_count": 28,
   "metadata": {
    "scrolled": true
   },
   "outputs": [
    {
     "data": {
      "text/plain": [
       "array([   7,   10,   12, ..., 1987, 2008, 2462])"
      ]
     },
     "execution_count": 28,
     "metadata": {},
     "output_type": "execute_result"
    }
   ],
   "source": [
    "answer1=answer.copy()\n",
    "answer1.sort()\n",
    "answer1"
   ]
  },
  {
   "cell_type": "code",
   "execution_count": 29,
   "metadata": {
    "scrolled": true
   },
   "outputs": [],
   "source": [
    "first=list(Counter(Member).keys())[list(Counter(Member).values()).index(answer1[-1])]\n",
    "second=list(Counter(Member).keys())[list(Counter(Member).values()).index(answer1[-2])]\n",
    "third=list(Counter(Member).keys())[list(Counter(Member).values()).index(answer1[-3])]\n",
    "forth=list(Counter(Member).keys())[list(Counter(Member).values()).index(answer1[-4])]\n",
    "fifth=list(Counter(Member).keys())[list(Counter(Member).values()).index(answer1[-5])]"
   ]
  },
  {
   "cell_type": "code",
   "execution_count": 30,
   "metadata": {},
   "outputs": [
    {
     "name": "stdout",
     "output_type": "stream",
     "text": [
      "No1.\tDate:2016-11-11\t number:2462\n",
      "No2.\tDate:2016-07-08\t number:2008\n",
      "No3.\tDate:2016-11-13\t number:1987\n",
      "No4.\tDate:2016-09-28\t number:1852\n",
      "No5.\tDate:2016-09-27\t number:1809\n"
     ]
    }
   ],
   "source": [
    "print(\"No1.\\tDate:\"+str(first)+\"\\t number:\"+str(answer1[-1]))\n",
    "print(\"No2.\\tDate:\"+str(second)+\"\\t number:\"+str(answer1[-2]))\n",
    "print(\"No3.\\tDate:\"+str(third)+\"\\t number:\"+str(answer1[-3]))\n",
    "print(\"No4.\\tDate:\"+str(forth)+\"\\t number:\"+str(answer1[-4]))\n",
    "print(\"No5.\\tDate:\"+str(fifth)+\"\\t number:\"+str(answer1[-5]))"
   ]
  },
  {
   "cell_type": "code",
   "execution_count": 31,
   "metadata": {
    "scrolled": false
   },
   "outputs": [
    {
     "data": {
      "text/html": [
       "<div>\n",
       "<style scoped>\n",
       "    .dataframe tbody tr th:only-of-type {\n",
       "        vertical-align: middle;\n",
       "    }\n",
       "\n",
       "    .dataframe tbody tr th {\n",
       "        vertical-align: top;\n",
       "    }\n",
       "\n",
       "    .dataframe thead th {\n",
       "        text-align: right;\n",
       "    }\n",
       "</style>\n",
       "<table border=\"1\" class=\"dataframe\">\n",
       "  <thead>\n",
       "    <tr style=\"text-align: right;\">\n",
       "      <th></th>\n",
       "      <th>PromotionId</th>\n",
       "      <th>DiscountType</th>\n",
       "      <th>PromotionCondition_DiscountPrice</th>\n",
       "      <th>PromotionCondition_DiscountRate</th>\n",
       "      <th>PromotionCondition_TotalPrice</th>\n",
       "      <th>PromotionCondition_TotalQty</th>\n",
       "      <th>PromotionStartDateTime</th>\n",
       "      <th>PromotionEndDateTime</th>\n",
       "    </tr>\n",
       "  </thead>\n",
       "  <tbody>\n",
       "    <tr>\n",
       "      <th>58</th>\n",
       "      <td>37453</td>\n",
       "      <td>滿額折現</td>\n",
       "      <td>100.0</td>\n",
       "      <td>0.0</td>\n",
       "      <td>888.0</td>\n",
       "      <td>0</td>\n",
       "      <td>2016-11-10 10:00:00.000</td>\n",
       "      <td>2016-11-11 09:59:00.000</td>\n",
       "    </tr>\n",
       "  </tbody>\n",
       "</table>\n",
       "</div>"
      ],
      "text/plain": [
       "   PromotionId DiscountType  PromotionCondition_DiscountPrice  \\\n",
       "58       37453         滿額折現                             100.0   \n",
       "\n",
       "    PromotionCondition_DiscountRate  PromotionCondition_TotalPrice  \\\n",
       "58                              0.0                          888.0   \n",
       "\n",
       "    PromotionCondition_TotalQty   PromotionStartDateTime  \\\n",
       "58                            0  2016-11-10 10:00:00.000   \n",
       "\n",
       "       PromotionEndDateTime  \n",
       "58  2016-11-11 09:59:00.000  "
      ]
     },
     "execution_count": 31,
     "metadata": {},
     "output_type": "execute_result"
    }
   ],
   "source": [
    "temp=promotionData[promotionData[\"PromotionStartDateTime\"]<first]\n",
    "firstPromotion=temp[temp[\"PromotionEndDateTime\"]>first]\n",
    "firstPromotion"
   ]
  },
  {
   "cell_type": "code",
   "execution_count": 32,
   "metadata": {},
   "outputs": [
    {
     "data": {
      "text/html": [
       "<div>\n",
       "<style scoped>\n",
       "    .dataframe tbody tr th:only-of-type {\n",
       "        vertical-align: middle;\n",
       "    }\n",
       "\n",
       "    .dataframe tbody tr th {\n",
       "        vertical-align: top;\n",
       "    }\n",
       "\n",
       "    .dataframe thead th {\n",
       "        text-align: right;\n",
       "    }\n",
       "</style>\n",
       "<table border=\"1\" class=\"dataframe\">\n",
       "  <thead>\n",
       "    <tr style=\"text-align: right;\">\n",
       "      <th></th>\n",
       "      <th>PromotionId</th>\n",
       "      <th>DiscountType</th>\n",
       "      <th>PromotionCondition_DiscountPrice</th>\n",
       "      <th>PromotionCondition_DiscountRate</th>\n",
       "      <th>PromotionCondition_TotalPrice</th>\n",
       "      <th>PromotionCondition_TotalQty</th>\n",
       "      <th>PromotionStartDateTime</th>\n",
       "      <th>PromotionEndDateTime</th>\n",
       "    </tr>\n",
       "  </thead>\n",
       "  <tbody>\n",
       "    <tr>\n",
       "      <th>18</th>\n",
       "      <td>20625</td>\n",
       "      <td>任選優惠價</td>\n",
       "      <td>198.0</td>\n",
       "      <td>0.0</td>\n",
       "      <td>0.0</td>\n",
       "      <td>2</td>\n",
       "      <td>2016-03-14 14:00:00.000</td>\n",
       "      <td>2016-11-10 09:59:00.000</td>\n",
       "    </tr>\n",
       "    <tr>\n",
       "      <th>26</th>\n",
       "      <td>24782</td>\n",
       "      <td>任選優惠價</td>\n",
       "      <td>550.0</td>\n",
       "      <td>0.0</td>\n",
       "      <td>0.0</td>\n",
       "      <td>2</td>\n",
       "      <td>2016-05-24 16:10:00.000</td>\n",
       "      <td>2016-07-13 17:59:00.000</td>\n",
       "    </tr>\n",
       "    <tr>\n",
       "      <th>29</th>\n",
       "      <td>25991</td>\n",
       "      <td>任選優惠價</td>\n",
       "      <td>250.0</td>\n",
       "      <td>0.0</td>\n",
       "      <td>0.0</td>\n",
       "      <td>2</td>\n",
       "      <td>2016-06-08 18:00:00.000</td>\n",
       "      <td>2016-08-17 18:49:00.000</td>\n",
       "    </tr>\n",
       "    <tr>\n",
       "      <th>32</th>\n",
       "      <td>26944</td>\n",
       "      <td>任選優惠價</td>\n",
       "      <td>388.0</td>\n",
       "      <td>0.0</td>\n",
       "      <td>0.0</td>\n",
       "      <td>2</td>\n",
       "      <td>2016-06-27 11:00:00.000</td>\n",
       "      <td>2016-07-20 18:05:00.000</td>\n",
       "    </tr>\n",
       "    <tr>\n",
       "      <th>35</th>\n",
       "      <td>27904</td>\n",
       "      <td>任選優惠價</td>\n",
       "      <td>299.0</td>\n",
       "      <td>0.0</td>\n",
       "      <td>0.0</td>\n",
       "      <td>2</td>\n",
       "      <td>2016-07-06 18:00:00.000</td>\n",
       "      <td>2016-07-27 18:02:00.000</td>\n",
       "    </tr>\n",
       "  </tbody>\n",
       "</table>\n",
       "</div>"
      ],
      "text/plain": [
       "   PromotionId DiscountType  PromotionCondition_DiscountPrice  \\\n",
       "18       20625        任選優惠價                             198.0   \n",
       "26       24782        任選優惠價                             550.0   \n",
       "29       25991        任選優惠價                             250.0   \n",
       "32       26944        任選優惠價                             388.0   \n",
       "35       27904        任選優惠價                             299.0   \n",
       "\n",
       "    PromotionCondition_DiscountRate  PromotionCondition_TotalPrice  \\\n",
       "18                              0.0                            0.0   \n",
       "26                              0.0                            0.0   \n",
       "29                              0.0                            0.0   \n",
       "32                              0.0                            0.0   \n",
       "35                              0.0                            0.0   \n",
       "\n",
       "    PromotionCondition_TotalQty   PromotionStartDateTime  \\\n",
       "18                            2  2016-03-14 14:00:00.000   \n",
       "26                            2  2016-05-24 16:10:00.000   \n",
       "29                            2  2016-06-08 18:00:00.000   \n",
       "32                            2  2016-06-27 11:00:00.000   \n",
       "35                            2  2016-07-06 18:00:00.000   \n",
       "\n",
       "       PromotionEndDateTime  \n",
       "18  2016-11-10 09:59:00.000  \n",
       "26  2016-07-13 17:59:00.000  \n",
       "29  2016-08-17 18:49:00.000  \n",
       "32  2016-07-20 18:05:00.000  \n",
       "35  2016-07-27 18:02:00.000  "
      ]
     },
     "execution_count": 32,
     "metadata": {},
     "output_type": "execute_result"
    }
   ],
   "source": [
    "temp=promotionData[promotionData[\"PromotionStartDateTime\"]<second]\n",
    "secondPromotion=temp[temp[\"PromotionEndDateTime\"]>second]\n",
    "secondPromotion"
   ]
  },
  {
   "cell_type": "code",
   "execution_count": 33,
   "metadata": {},
   "outputs": [
    {
     "data": {
      "text/html": [
       "<div>\n",
       "<style scoped>\n",
       "    .dataframe tbody tr th:only-of-type {\n",
       "        vertical-align: middle;\n",
       "    }\n",
       "\n",
       "    .dataframe tbody tr th {\n",
       "        vertical-align: top;\n",
       "    }\n",
       "\n",
       "    .dataframe thead th {\n",
       "        text-align: right;\n",
       "    }\n",
       "</style>\n",
       "<table border=\"1\" class=\"dataframe\">\n",
       "  <thead>\n",
       "    <tr style=\"text-align: right;\">\n",
       "      <th></th>\n",
       "      <th>PromotionId</th>\n",
       "      <th>DiscountType</th>\n",
       "      <th>PromotionCondition_DiscountPrice</th>\n",
       "      <th>PromotionCondition_DiscountRate</th>\n",
       "      <th>PromotionCondition_TotalPrice</th>\n",
       "      <th>PromotionCondition_TotalQty</th>\n",
       "      <th>PromotionStartDateTime</th>\n",
       "      <th>PromotionEndDateTime</th>\n",
       "    </tr>\n",
       "  </thead>\n",
       "  <tbody>\n",
       "    <tr>\n",
       "      <th>59</th>\n",
       "      <td>37454</td>\n",
       "      <td>滿額折現</td>\n",
       "      <td>120.0</td>\n",
       "      <td>0.0</td>\n",
       "      <td>1000.0</td>\n",
       "      <td>0</td>\n",
       "      <td>2016-11-11 10:00:00.000</td>\n",
       "      <td>2016-11-14 14:00:00.000</td>\n",
       "    </tr>\n",
       "  </tbody>\n",
       "</table>\n",
       "</div>"
      ],
      "text/plain": [
       "   PromotionId DiscountType  PromotionCondition_DiscountPrice  \\\n",
       "59       37454         滿額折現                             120.0   \n",
       "\n",
       "    PromotionCondition_DiscountRate  PromotionCondition_TotalPrice  \\\n",
       "59                              0.0                         1000.0   \n",
       "\n",
       "    PromotionCondition_TotalQty   PromotionStartDateTime  \\\n",
       "59                            0  2016-11-11 10:00:00.000   \n",
       "\n",
       "       PromotionEndDateTime  \n",
       "59  2016-11-14 14:00:00.000  "
      ]
     },
     "execution_count": 33,
     "metadata": {},
     "output_type": "execute_result"
    }
   ],
   "source": [
    "temp=promotionData[promotionData[\"PromotionStartDateTime\"]<third]\n",
    "thirdPromotion=temp[temp[\"PromotionEndDateTime\"]>third]\n",
    "thirdPromotion"
   ]
  },
  {
   "cell_type": "code",
   "execution_count": 34,
   "metadata": {},
   "outputs": [
    {
     "data": {
      "text/html": [
       "<div>\n",
       "<style scoped>\n",
       "    .dataframe tbody tr th:only-of-type {\n",
       "        vertical-align: middle;\n",
       "    }\n",
       "\n",
       "    .dataframe tbody tr th {\n",
       "        vertical-align: top;\n",
       "    }\n",
       "\n",
       "    .dataframe thead th {\n",
       "        text-align: right;\n",
       "    }\n",
       "</style>\n",
       "<table border=\"1\" class=\"dataframe\">\n",
       "  <thead>\n",
       "    <tr style=\"text-align: right;\">\n",
       "      <th></th>\n",
       "      <th>PromotionId</th>\n",
       "      <th>DiscountType</th>\n",
       "      <th>PromotionCondition_DiscountPrice</th>\n",
       "      <th>PromotionCondition_DiscountRate</th>\n",
       "      <th>PromotionCondition_TotalPrice</th>\n",
       "      <th>PromotionCondition_TotalQty</th>\n",
       "      <th>PromotionStartDateTime</th>\n",
       "      <th>PromotionEndDateTime</th>\n",
       "    </tr>\n",
       "  </thead>\n",
       "  <tbody>\n",
       "    <tr>\n",
       "      <th>18</th>\n",
       "      <td>20625</td>\n",
       "      <td>任選優惠價</td>\n",
       "      <td>198.0</td>\n",
       "      <td>0.0</td>\n",
       "      <td>0.0</td>\n",
       "      <td>2</td>\n",
       "      <td>2016-03-14 14:00:00.000</td>\n",
       "      <td>2016-11-10 09:59:00.000</td>\n",
       "    </tr>\n",
       "    <tr>\n",
       "      <th>36</th>\n",
       "      <td>28348</td>\n",
       "      <td>任選優惠價</td>\n",
       "      <td>550.0</td>\n",
       "      <td>0.0</td>\n",
       "      <td>0.0</td>\n",
       "      <td>2</td>\n",
       "      <td>2016-07-13 18:00:00.000</td>\n",
       "      <td>2016-11-10 09:59:00.000</td>\n",
       "    </tr>\n",
       "    <tr>\n",
       "      <th>43</th>\n",
       "      <td>31863</td>\n",
       "      <td>任選優惠價</td>\n",
       "      <td>250.0</td>\n",
       "      <td>0.0</td>\n",
       "      <td>0.0</td>\n",
       "      <td>2</td>\n",
       "      <td>2016-08-31 18:26:00.000</td>\n",
       "      <td>2016-11-10 09:59:00.000</td>\n",
       "    </tr>\n",
       "    <tr>\n",
       "      <th>46</th>\n",
       "      <td>33116</td>\n",
       "      <td>任選優惠價</td>\n",
       "      <td>388.0</td>\n",
       "      <td>0.0</td>\n",
       "      <td>0.0</td>\n",
       "      <td>2</td>\n",
       "      <td>2016-09-14 16:36:00.000</td>\n",
       "      <td>2016-10-19 18:30:00.000</td>\n",
       "    </tr>\n",
       "    <tr>\n",
       "      <th>48</th>\n",
       "      <td>33467</td>\n",
       "      <td>任選優惠價</td>\n",
       "      <td>299.0</td>\n",
       "      <td>0.0</td>\n",
       "      <td>0.0</td>\n",
       "      <td>2</td>\n",
       "      <td>2016-09-21 18:00:00.000</td>\n",
       "      <td>2016-10-05 18:15:00.000</td>\n",
       "    </tr>\n",
       "  </tbody>\n",
       "</table>\n",
       "</div>"
      ],
      "text/plain": [
       "   PromotionId DiscountType  PromotionCondition_DiscountPrice  \\\n",
       "18       20625        任選優惠價                             198.0   \n",
       "36       28348        任選優惠價                             550.0   \n",
       "43       31863        任選優惠價                             250.0   \n",
       "46       33116        任選優惠價                             388.0   \n",
       "48       33467        任選優惠價                             299.0   \n",
       "\n",
       "    PromotionCondition_DiscountRate  PromotionCondition_TotalPrice  \\\n",
       "18                              0.0                            0.0   \n",
       "36                              0.0                            0.0   \n",
       "43                              0.0                            0.0   \n",
       "46                              0.0                            0.0   \n",
       "48                              0.0                            0.0   \n",
       "\n",
       "    PromotionCondition_TotalQty   PromotionStartDateTime  \\\n",
       "18                            2  2016-03-14 14:00:00.000   \n",
       "36                            2  2016-07-13 18:00:00.000   \n",
       "43                            2  2016-08-31 18:26:00.000   \n",
       "46                            2  2016-09-14 16:36:00.000   \n",
       "48                            2  2016-09-21 18:00:00.000   \n",
       "\n",
       "       PromotionEndDateTime  \n",
       "18  2016-11-10 09:59:00.000  \n",
       "36  2016-11-10 09:59:00.000  \n",
       "43  2016-11-10 09:59:00.000  \n",
       "46  2016-10-19 18:30:00.000  \n",
       "48  2016-10-05 18:15:00.000  "
      ]
     },
     "execution_count": 34,
     "metadata": {},
     "output_type": "execute_result"
    }
   ],
   "source": [
    "temp=promotionData[promotionData[\"PromotionStartDateTime\"]<forth]\n",
    "forthPromotion=temp[temp[\"PromotionEndDateTime\"]>forth]\n",
    "forthPromotion"
   ]
  },
  {
   "cell_type": "code",
   "execution_count": 35,
   "metadata": {},
   "outputs": [
    {
     "data": {
      "text/html": [
       "<div>\n",
       "<style scoped>\n",
       "    .dataframe tbody tr th:only-of-type {\n",
       "        vertical-align: middle;\n",
       "    }\n",
       "\n",
       "    .dataframe tbody tr th {\n",
       "        vertical-align: top;\n",
       "    }\n",
       "\n",
       "    .dataframe thead th {\n",
       "        text-align: right;\n",
       "    }\n",
       "</style>\n",
       "<table border=\"1\" class=\"dataframe\">\n",
       "  <thead>\n",
       "    <tr style=\"text-align: right;\">\n",
       "      <th></th>\n",
       "      <th>PromotionId</th>\n",
       "      <th>DiscountType</th>\n",
       "      <th>PromotionCondition_DiscountPrice</th>\n",
       "      <th>PromotionCondition_DiscountRate</th>\n",
       "      <th>PromotionCondition_TotalPrice</th>\n",
       "      <th>PromotionCondition_TotalQty</th>\n",
       "      <th>PromotionStartDateTime</th>\n",
       "      <th>PromotionEndDateTime</th>\n",
       "    </tr>\n",
       "  </thead>\n",
       "  <tbody>\n",
       "    <tr>\n",
       "      <th>18</th>\n",
       "      <td>20625</td>\n",
       "      <td>任選優惠價</td>\n",
       "      <td>198.0</td>\n",
       "      <td>0.0</td>\n",
       "      <td>0.0</td>\n",
       "      <td>2</td>\n",
       "      <td>2016-03-14 14:00:00.000</td>\n",
       "      <td>2016-11-10 09:59:00.000</td>\n",
       "    </tr>\n",
       "    <tr>\n",
       "      <th>36</th>\n",
       "      <td>28348</td>\n",
       "      <td>任選優惠價</td>\n",
       "      <td>550.0</td>\n",
       "      <td>0.0</td>\n",
       "      <td>0.0</td>\n",
       "      <td>2</td>\n",
       "      <td>2016-07-13 18:00:00.000</td>\n",
       "      <td>2016-11-10 09:59:00.000</td>\n",
       "    </tr>\n",
       "    <tr>\n",
       "      <th>43</th>\n",
       "      <td>31863</td>\n",
       "      <td>任選優惠價</td>\n",
       "      <td>250.0</td>\n",
       "      <td>0.0</td>\n",
       "      <td>0.0</td>\n",
       "      <td>2</td>\n",
       "      <td>2016-08-31 18:26:00.000</td>\n",
       "      <td>2016-11-10 09:59:00.000</td>\n",
       "    </tr>\n",
       "    <tr>\n",
       "      <th>46</th>\n",
       "      <td>33116</td>\n",
       "      <td>任選優惠價</td>\n",
       "      <td>388.0</td>\n",
       "      <td>0.0</td>\n",
       "      <td>0.0</td>\n",
       "      <td>2</td>\n",
       "      <td>2016-09-14 16:36:00.000</td>\n",
       "      <td>2016-10-19 18:30:00.000</td>\n",
       "    </tr>\n",
       "    <tr>\n",
       "      <th>48</th>\n",
       "      <td>33467</td>\n",
       "      <td>任選優惠價</td>\n",
       "      <td>299.0</td>\n",
       "      <td>0.0</td>\n",
       "      <td>0.0</td>\n",
       "      <td>2</td>\n",
       "      <td>2016-09-21 18:00:00.000</td>\n",
       "      <td>2016-10-05 18:15:00.000</td>\n",
       "    </tr>\n",
       "  </tbody>\n",
       "</table>\n",
       "</div>"
      ],
      "text/plain": [
       "   PromotionId DiscountType  PromotionCondition_DiscountPrice  \\\n",
       "18       20625        任選優惠價                             198.0   \n",
       "36       28348        任選優惠價                             550.0   \n",
       "43       31863        任選優惠價                             250.0   \n",
       "46       33116        任選優惠價                             388.0   \n",
       "48       33467        任選優惠價                             299.0   \n",
       "\n",
       "    PromotionCondition_DiscountRate  PromotionCondition_TotalPrice  \\\n",
       "18                              0.0                            0.0   \n",
       "36                              0.0                            0.0   \n",
       "43                              0.0                            0.0   \n",
       "46                              0.0                            0.0   \n",
       "48                              0.0                            0.0   \n",
       "\n",
       "    PromotionCondition_TotalQty   PromotionStartDateTime  \\\n",
       "18                            2  2016-03-14 14:00:00.000   \n",
       "36                            2  2016-07-13 18:00:00.000   \n",
       "43                            2  2016-08-31 18:26:00.000   \n",
       "46                            2  2016-09-14 16:36:00.000   \n",
       "48                            2  2016-09-21 18:00:00.000   \n",
       "\n",
       "       PromotionEndDateTime  \n",
       "18  2016-11-10 09:59:00.000  \n",
       "36  2016-11-10 09:59:00.000  \n",
       "43  2016-11-10 09:59:00.000  \n",
       "46  2016-10-19 18:30:00.000  \n",
       "48  2016-10-05 18:15:00.000  "
      ]
     },
     "execution_count": 35,
     "metadata": {},
     "output_type": "execute_result"
    }
   ],
   "source": [
    "temp=promotionData[promotionData[\"PromotionStartDateTime\"]<fifth]\n",
    "fifthPromotion=temp[temp[\"PromotionEndDateTime\"]>fifth]\n",
    "fifthPromotion"
   ]
  },
  {
   "cell_type": "markdown",
   "metadata": {},
   "source": [
    "### (e) 假設促銷有加成性，使用linear regression的方尋找每個促銷活動吸引的人數"
   ]
  },
  {
   "cell_type": "code",
   "execution_count": 41,
   "metadata": {},
   "outputs": [],
   "source": [
    "# equal=[]\n",
    "# for i in range(len(ee)):\n",
    "#     equal.append(np.dot(ee[i],a))"
   ]
  },
  {
   "cell_type": "code",
   "execution_count": 43,
   "metadata": {},
   "outputs": [],
   "source": [
    "# from scipy.optimize import fsolve\n",
    "# r = scipy.optimize.fsolve(equal,list(Counter(Member).values()))\n",
    "# print (r)"
   ]
  },
  {
   "cell_type": "code",
   "execution_count": 44,
   "metadata": {},
   "outputs": [],
   "source": [
    "# a2 = np.array(ee)\n",
    "# b2 = np.array(list(Counter(Member).values()))\n",
    "# sol = np.linalg.lstsq(a2,b2)"
   ]
  },
  {
   "cell_type": "code",
   "execution_count": 36,
   "metadata": {},
   "outputs": [],
   "source": [
    "ee=np.array(matrix).T\n",
    "ee=ee[0:1076]"
   ]
  },
  {
   "cell_type": "code",
   "execution_count": 37,
   "metadata": {},
   "outputs": [
    {
     "data": {
      "text/plain": [
       "(1076, 244)"
      ]
     },
     "execution_count": 37,
     "metadata": {},
     "output_type": "execute_result"
    }
   ],
   "source": [
    "ee.shape"
   ]
  },
  {
   "cell_type": "code",
   "execution_count": 38,
   "metadata": {},
   "outputs": [
    {
     "data": {
      "text/plain": [
       "array([  7,  10,  18, ..., 295, 388, 183])"
      ]
     },
     "execution_count": 38,
     "metadata": {},
     "output_type": "execute_result"
    }
   ],
   "source": [
    "answer"
   ]
  },
  {
   "cell_type": "code",
   "execution_count": 39,
   "metadata": {},
   "outputs": [],
   "source": [
    "from sklearn import linear_model\n",
    "clf = linear_model.LinearRegression()"
   ]
  },
  {
   "cell_type": "code",
   "execution_count": 40,
   "metadata": {
    "scrolled": false
   },
   "outputs": [
    {
     "data": {
      "text/plain": [
       "LinearRegression(copy_X=True, fit_intercept=True, n_jobs=1, normalize=False)"
      ]
     },
     "execution_count": 40,
     "metadata": {},
     "output_type": "execute_result"
    }
   ],
   "source": [
    "clf.fit(ee,answer)"
   ]
  },
  {
   "cell_type": "code",
   "execution_count": 41,
   "metadata": {
    "scrolled": true
   },
   "outputs": [],
   "source": [
    "bestPromotionList=clf.coef_\n",
    "bestPromotionList.sort()"
   ]
  },
  {
   "cell_type": "code",
   "execution_count": 42,
   "metadata": {},
   "outputs": [
    {
     "data": {
      "text/html": [
       "<div>\n",
       "<style scoped>\n",
       "    .dataframe tbody tr th:only-of-type {\n",
       "        vertical-align: middle;\n",
       "    }\n",
       "\n",
       "    .dataframe tbody tr th {\n",
       "        vertical-align: top;\n",
       "    }\n",
       "\n",
       "    .dataframe thead th {\n",
       "        text-align: right;\n",
       "    }\n",
       "</style>\n",
       "<table border=\"1\" class=\"dataframe\">\n",
       "  <thead>\n",
       "    <tr style=\"text-align: right;\">\n",
       "      <th></th>\n",
       "      <th>PromotionId</th>\n",
       "      <th>DiscountType</th>\n",
       "      <th>PromotionCondition_DiscountPrice</th>\n",
       "      <th>PromotionCondition_DiscountRate</th>\n",
       "      <th>PromotionCondition_TotalPrice</th>\n",
       "      <th>PromotionCondition_TotalQty</th>\n",
       "      <th>PromotionStartDateTime</th>\n",
       "      <th>PromotionEndDateTime</th>\n",
       "    </tr>\n",
       "  </thead>\n",
       "  <tbody>\n",
       "    <tr>\n",
       "      <th>242</th>\n",
       "      <td>96537</td>\n",
       "      <td>任選優惠價</td>\n",
       "      <td>198.0</td>\n",
       "      <td>0.0</td>\n",
       "      <td>0.0</td>\n",
       "      <td>2</td>\n",
       "      <td>2018-04-20 14:56:00.000</td>\n",
       "      <td>2018-04-30 10:59:00.000</td>\n",
       "    </tr>\n",
       "  </tbody>\n",
       "</table>\n",
       "</div>"
      ],
      "text/plain": [
       "    PromotionId DiscountType  PromotionCondition_DiscountPrice  \\\n",
       "242       96537        任選優惠價                             198.0   \n",
       "\n",
       "     PromotionCondition_DiscountRate  PromotionCondition_TotalPrice  \\\n",
       "242                              0.0                            0.0   \n",
       "\n",
       "     PromotionCondition_TotalQty   PromotionStartDateTime  \\\n",
       "242                            2  2018-04-20 14:56:00.000   \n",
       "\n",
       "        PromotionEndDateTime  \n",
       "242  2018-04-30 10:59:00.000  "
      ]
     },
     "execution_count": 42,
     "metadata": {},
     "output_type": "execute_result"
    }
   ],
   "source": [
    "promotionData[promotionData[\"PromotionStartDateTime\"]==promotionDate[list(clf.coef_).index(bestPromotionList[-1])][0]]"
   ]
  },
  {
   "cell_type": "code",
   "execution_count": 43,
   "metadata": {},
   "outputs": [
    {
     "data": {
      "text/html": [
       "<div>\n",
       "<style scoped>\n",
       "    .dataframe tbody tr th:only-of-type {\n",
       "        vertical-align: middle;\n",
       "    }\n",
       "\n",
       "    .dataframe tbody tr th {\n",
       "        vertical-align: top;\n",
       "    }\n",
       "\n",
       "    .dataframe thead th {\n",
       "        text-align: right;\n",
       "    }\n",
       "</style>\n",
       "<table border=\"1\" class=\"dataframe\">\n",
       "  <thead>\n",
       "    <tr style=\"text-align: right;\">\n",
       "      <th></th>\n",
       "      <th>PromotionId</th>\n",
       "      <th>DiscountType</th>\n",
       "      <th>PromotionCondition_DiscountPrice</th>\n",
       "      <th>PromotionCondition_DiscountRate</th>\n",
       "      <th>PromotionCondition_TotalPrice</th>\n",
       "      <th>PromotionCondition_TotalQty</th>\n",
       "      <th>PromotionStartDateTime</th>\n",
       "      <th>PromotionEndDateTime</th>\n",
       "    </tr>\n",
       "  </thead>\n",
       "  <tbody>\n",
       "    <tr>\n",
       "      <th>241</th>\n",
       "      <td>96536</td>\n",
       "      <td>任選優惠價</td>\n",
       "      <td>250.0</td>\n",
       "      <td>0.0</td>\n",
       "      <td>0.0</td>\n",
       "      <td>2</td>\n",
       "      <td>2018-04-20 14:51:00.000</td>\n",
       "      <td>2018-04-30 10:59:00.000</td>\n",
       "    </tr>\n",
       "  </tbody>\n",
       "</table>\n",
       "</div>"
      ],
      "text/plain": [
       "    PromotionId DiscountType  PromotionCondition_DiscountPrice  \\\n",
       "241       96536        任選優惠價                             250.0   \n",
       "\n",
       "     PromotionCondition_DiscountRate  PromotionCondition_TotalPrice  \\\n",
       "241                              0.0                            0.0   \n",
       "\n",
       "     PromotionCondition_TotalQty   PromotionStartDateTime  \\\n",
       "241                            2  2018-04-20 14:51:00.000   \n",
       "\n",
       "        PromotionEndDateTime  \n",
       "241  2018-04-30 10:59:00.000  "
      ]
     },
     "execution_count": 43,
     "metadata": {},
     "output_type": "execute_result"
    }
   ],
   "source": [
    "promotionData[promotionData[\"PromotionStartDateTime\"]==promotionDate[list(clf.coef_).index(bestPromotionList[-2])][0]]"
   ]
  },
  {
   "cell_type": "code",
   "execution_count": 44,
   "metadata": {},
   "outputs": [
    {
     "data": {
      "text/html": [
       "<div>\n",
       "<style scoped>\n",
       "    .dataframe tbody tr th:only-of-type {\n",
       "        vertical-align: middle;\n",
       "    }\n",
       "\n",
       "    .dataframe tbody tr th {\n",
       "        vertical-align: top;\n",
       "    }\n",
       "\n",
       "    .dataframe thead th {\n",
       "        text-align: right;\n",
       "    }\n",
       "</style>\n",
       "<table border=\"1\" class=\"dataframe\">\n",
       "  <thead>\n",
       "    <tr style=\"text-align: right;\">\n",
       "      <th></th>\n",
       "      <th>PromotionId</th>\n",
       "      <th>DiscountType</th>\n",
       "      <th>PromotionCondition_DiscountPrice</th>\n",
       "      <th>PromotionCondition_DiscountRate</th>\n",
       "      <th>PromotionCondition_TotalPrice</th>\n",
       "      <th>PromotionCondition_TotalQty</th>\n",
       "      <th>PromotionStartDateTime</th>\n",
       "      <th>PromotionEndDateTime</th>\n",
       "    </tr>\n",
       "  </thead>\n",
       "  <tbody>\n",
       "    <tr>\n",
       "      <th>240</th>\n",
       "      <td>95771</td>\n",
       "      <td>滿額贈</td>\n",
       "      <td>0.0</td>\n",
       "      <td>0.0</td>\n",
       "      <td>500.0</td>\n",
       "      <td>0</td>\n",
       "      <td>2018-04-17 11:00:00.000</td>\n",
       "      <td>2018-05-02 10:59:00.000</td>\n",
       "    </tr>\n",
       "  </tbody>\n",
       "</table>\n",
       "</div>"
      ],
      "text/plain": [
       "    PromotionId DiscountType  PromotionCondition_DiscountPrice  \\\n",
       "240       95771          滿額贈                               0.0   \n",
       "\n",
       "     PromotionCondition_DiscountRate  PromotionCondition_TotalPrice  \\\n",
       "240                              0.0                          500.0   \n",
       "\n",
       "     PromotionCondition_TotalQty   PromotionStartDateTime  \\\n",
       "240                            0  2018-04-17 11:00:00.000   \n",
       "\n",
       "        PromotionEndDateTime  \n",
       "240  2018-05-02 10:59:00.000  "
      ]
     },
     "execution_count": 44,
     "metadata": {},
     "output_type": "execute_result"
    }
   ],
   "source": [
    "promotionData[promotionData[\"PromotionStartDateTime\"]==promotionDate[list(clf.coef_).index(bestPromotionList[-3])][0]]"
   ]
  },
  {
   "cell_type": "code",
   "execution_count": 45,
   "metadata": {},
   "outputs": [
    {
     "data": {
      "text/html": [
       "<div>\n",
       "<style scoped>\n",
       "    .dataframe tbody tr th:only-of-type {\n",
       "        vertical-align: middle;\n",
       "    }\n",
       "\n",
       "    .dataframe tbody tr th {\n",
       "        vertical-align: top;\n",
       "    }\n",
       "\n",
       "    .dataframe thead th {\n",
       "        text-align: right;\n",
       "    }\n",
       "</style>\n",
       "<table border=\"1\" class=\"dataframe\">\n",
       "  <thead>\n",
       "    <tr style=\"text-align: right;\">\n",
       "      <th></th>\n",
       "      <th>PromotionId</th>\n",
       "      <th>DiscountType</th>\n",
       "      <th>PromotionCondition_DiscountPrice</th>\n",
       "      <th>PromotionCondition_DiscountRate</th>\n",
       "      <th>PromotionCondition_TotalPrice</th>\n",
       "      <th>PromotionCondition_TotalQty</th>\n",
       "      <th>PromotionStartDateTime</th>\n",
       "      <th>PromotionEndDateTime</th>\n",
       "    </tr>\n",
       "  </thead>\n",
       "  <tbody>\n",
       "    <tr>\n",
       "      <th>239</th>\n",
       "      <td>93897</td>\n",
       "      <td>滿額贈</td>\n",
       "      <td>0.0</td>\n",
       "      <td>0.0</td>\n",
       "      <td>1500.0</td>\n",
       "      <td>0</td>\n",
       "      <td>2018-03-30 11:00:00.000</td>\n",
       "      <td>2018-05-02 10:59:00.000</td>\n",
       "    </tr>\n",
       "  </tbody>\n",
       "</table>\n",
       "</div>"
      ],
      "text/plain": [
       "    PromotionId DiscountType  PromotionCondition_DiscountPrice  \\\n",
       "239       93897          滿額贈                               0.0   \n",
       "\n",
       "     PromotionCondition_DiscountRate  PromotionCondition_TotalPrice  \\\n",
       "239                              0.0                         1500.0   \n",
       "\n",
       "     PromotionCondition_TotalQty   PromotionStartDateTime  \\\n",
       "239                            0  2018-03-30 11:00:00.000   \n",
       "\n",
       "        PromotionEndDateTime  \n",
       "239  2018-05-02 10:59:00.000  "
      ]
     },
     "execution_count": 45,
     "metadata": {},
     "output_type": "execute_result"
    }
   ],
   "source": [
    "promotionData[promotionData[\"PromotionStartDateTime\"]==promotionDate[list(clf.coef_).index(bestPromotionList[-4])][0]]"
   ]
  },
  {
   "cell_type": "code",
   "execution_count": 46,
   "metadata": {},
   "outputs": [
    {
     "data": {
      "text/html": [
       "<div>\n",
       "<style scoped>\n",
       "    .dataframe tbody tr th:only-of-type {\n",
       "        vertical-align: middle;\n",
       "    }\n",
       "\n",
       "    .dataframe tbody tr th {\n",
       "        vertical-align: top;\n",
       "    }\n",
       "\n",
       "    .dataframe thead th {\n",
       "        text-align: right;\n",
       "    }\n",
       "</style>\n",
       "<table border=\"1\" class=\"dataframe\">\n",
       "  <thead>\n",
       "    <tr style=\"text-align: right;\">\n",
       "      <th></th>\n",
       "      <th>PromotionId</th>\n",
       "      <th>DiscountType</th>\n",
       "      <th>PromotionCondition_DiscountPrice</th>\n",
       "      <th>PromotionCondition_DiscountRate</th>\n",
       "      <th>PromotionCondition_TotalPrice</th>\n",
       "      <th>PromotionCondition_TotalQty</th>\n",
       "      <th>PromotionStartDateTime</th>\n",
       "      <th>PromotionEndDateTime</th>\n",
       "    </tr>\n",
       "  </thead>\n",
       "  <tbody>\n",
       "    <tr>\n",
       "      <th>234</th>\n",
       "      <td>93501</td>\n",
       "      <td>任選優惠價</td>\n",
       "      <td>120.0</td>\n",
       "      <td>0.0</td>\n",
       "      <td>0.0</td>\n",
       "      <td>2</td>\n",
       "      <td>2018-03-27 12:00:00.000</td>\n",
       "      <td>2018-04-30 10:59:00.000</td>\n",
       "    </tr>\n",
       "    <tr>\n",
       "      <th>235</th>\n",
       "      <td>93502</td>\n",
       "      <td>任選優惠價</td>\n",
       "      <td>198.0</td>\n",
       "      <td>0.0</td>\n",
       "      <td>0.0</td>\n",
       "      <td>2</td>\n",
       "      <td>2018-03-27 12:00:00.000</td>\n",
       "      <td>2018-04-20 14:55:00.000</td>\n",
       "    </tr>\n",
       "    <tr>\n",
       "      <th>236</th>\n",
       "      <td>93503</td>\n",
       "      <td>任選優惠價</td>\n",
       "      <td>250.0</td>\n",
       "      <td>0.0</td>\n",
       "      <td>0.0</td>\n",
       "      <td>2</td>\n",
       "      <td>2018-03-27 12:00:00.000</td>\n",
       "      <td>2018-04-20 14:50:00.000</td>\n",
       "    </tr>\n",
       "    <tr>\n",
       "      <th>237</th>\n",
       "      <td>93505</td>\n",
       "      <td>任選優惠價</td>\n",
       "      <td>299.0</td>\n",
       "      <td>0.0</td>\n",
       "      <td>0.0</td>\n",
       "      <td>2</td>\n",
       "      <td>2018-03-27 12:00:00.000</td>\n",
       "      <td>2018-04-30 10:59:00.000</td>\n",
       "    </tr>\n",
       "    <tr>\n",
       "      <th>238</th>\n",
       "      <td>93506</td>\n",
       "      <td>任選優惠價</td>\n",
       "      <td>388.0</td>\n",
       "      <td>0.0</td>\n",
       "      <td>0.0</td>\n",
       "      <td>2</td>\n",
       "      <td>2018-03-27 12:00:00.000</td>\n",
       "      <td>2018-04-30 10:59:00.000</td>\n",
       "    </tr>\n",
       "  </tbody>\n",
       "</table>\n",
       "</div>"
      ],
      "text/plain": [
       "    PromotionId DiscountType  PromotionCondition_DiscountPrice  \\\n",
       "234       93501        任選優惠價                             120.0   \n",
       "235       93502        任選優惠價                             198.0   \n",
       "236       93503        任選優惠價                             250.0   \n",
       "237       93505        任選優惠價                             299.0   \n",
       "238       93506        任選優惠價                             388.0   \n",
       "\n",
       "     PromotionCondition_DiscountRate  PromotionCondition_TotalPrice  \\\n",
       "234                              0.0                            0.0   \n",
       "235                              0.0                            0.0   \n",
       "236                              0.0                            0.0   \n",
       "237                              0.0                            0.0   \n",
       "238                              0.0                            0.0   \n",
       "\n",
       "     PromotionCondition_TotalQty   PromotionStartDateTime  \\\n",
       "234                            2  2018-03-27 12:00:00.000   \n",
       "235                            2  2018-03-27 12:00:00.000   \n",
       "236                            2  2018-03-27 12:00:00.000   \n",
       "237                            2  2018-03-27 12:00:00.000   \n",
       "238                            2  2018-03-27 12:00:00.000   \n",
       "\n",
       "        PromotionEndDateTime  \n",
       "234  2018-04-30 10:59:00.000  \n",
       "235  2018-04-20 14:55:00.000  \n",
       "236  2018-04-20 14:50:00.000  \n",
       "237  2018-04-30 10:59:00.000  \n",
       "238  2018-04-30 10:59:00.000  "
      ]
     },
     "execution_count": 46,
     "metadata": {},
     "output_type": "execute_result"
    }
   ],
   "source": [
    "promotionData[promotionData[\"PromotionStartDateTime\"]==promotionDate[list(clf.coef_).index(bestPromotionList[-5])][0]]"
   ]
  },
  {
   "cell_type": "markdown",
   "metadata": {},
   "source": [
    "##  (2)   促銷活動對沉睡客群喚醒人數的影響"
   ]
  },
  {
   "cell_type": "markdown",
   "metadata": {},
   "source": [
    "### (a)  找出每天喚醒的人數"
   ]
  },
  {
   "cell_type": "code",
   "execution_count": 47,
   "metadata": {
    "scrolled": true
   },
   "outputs": [
    {
     "name": "stderr",
     "output_type": "stream",
     "text": [
      "c:\\users\\alex\\appdata\\local\\programs\\python\\python36\\lib\\site-packages\\ipykernel_launcher.py:1: DeprecationWarning: \n",
      ".ix is deprecated. Please use\n",
      ".loc for label based indexing or\n",
      ".iloc for positional indexing\n",
      "\n",
      "See the documentation here:\n",
      "http://pandas.pydata.org/pandas-docs/stable/indexing.html#ix-indexer-is-deprecated\n",
      "  \"\"\"Entry point for launching an IPython kernel.\n"
     ]
    }
   ],
   "source": [
    "dataInterest=shopping_data.ix[:,[\"DateId\",\"MemberId\"]]\n",
    "dataInterest[\"DateId\"]=pd.to_datetime(dataInterest[\"DateId\"],format=\"%Y%m%h\")"
   ]
  },
  {
   "cell_type": "code",
   "execution_count": 48,
   "metadata": {},
   "outputs": [],
   "source": [
    "dateShopping=dataInterest.groupby('DateId').MemberId.nunique()"
   ]
  },
  {
   "cell_type": "code",
   "execution_count": 49,
   "metadata": {},
   "outputs": [],
   "source": [
    "wakeUpMember=np.array(dateShopping.values)-answer"
   ]
  },
  {
   "cell_type": "markdown",
   "metadata": {},
   "source": [
    "### (b) 找出能喚醒顧客的促消搭配"
   ]
  },
  {
   "cell_type": "code",
   "execution_count": 50,
   "metadata": {},
   "outputs": [],
   "source": [
    "wakeUpMember1=wakeUpMember.copy()\n",
    "wakeUpMember1.sort()"
   ]
  },
  {
   "cell_type": "code",
   "execution_count": 51,
   "metadata": {},
   "outputs": [],
   "source": [
    "first=list(dateShopping.keys())[list(wakeUpMember).index(wakeUpMember1[-1])]\n",
    "second=list(dateShopping.keys())[list(wakeUpMember).index(wakeUpMember1[-2])]\n",
    "third=list(dateShopping.keys())[list(wakeUpMember).index(wakeUpMember1[-3])]\n",
    "forth=list(dateShopping.keys())[list(wakeUpMember).index(wakeUpMember1[-4])]\n",
    "fifth=list(dateShopping.keys())[list(wakeUpMember).index(wakeUpMember1[-5])]"
   ]
  },
  {
   "cell_type": "code",
   "execution_count": 52,
   "metadata": {},
   "outputs": [
    {
     "name": "stdout",
     "output_type": "stream",
     "text": [
      "No1.\tDate:2017-11-11 00:00:00\t number:2462\n",
      "No2.\tDate:2016-11-11 00:00:00\t number:2008\n",
      "No3.\tDate:2017-11-14 00:00:00\t number:1987\n",
      "No4.\tDate:2017-11-15 00:00:00\t number:1852\n",
      "No5.\tDate:2017-11-12 00:00:00\t number:1809\n"
     ]
    }
   ],
   "source": [
    "print(\"No1.\\tDate:\"+str(first)+\"\\t number:\"+str(answer1[-1]))\n",
    "print(\"No2.\\tDate:\"+str(second)+\"\\t number:\"+str(answer1[-2]))\n",
    "print(\"No3.\\tDate:\"+str(third)+\"\\t number:\"+str(answer1[-3]))\n",
    "print(\"No4.\\tDate:\"+str(forth)+\"\\t number:\"+str(answer1[-4]))\n",
    "print(\"No5.\\tDate:\"+str(fifth)+\"\\t number:\"+str(answer1[-5]))"
   ]
  },
  {
   "cell_type": "code",
   "execution_count": 53,
   "metadata": {},
   "outputs": [
    {
     "data": {
      "text/html": [
       "<div>\n",
       "<style scoped>\n",
       "    .dataframe tbody tr th:only-of-type {\n",
       "        vertical-align: middle;\n",
       "    }\n",
       "\n",
       "    .dataframe tbody tr th {\n",
       "        vertical-align: top;\n",
       "    }\n",
       "\n",
       "    .dataframe thead th {\n",
       "        text-align: right;\n",
       "    }\n",
       "</style>\n",
       "<table border=\"1\" class=\"dataframe\">\n",
       "  <thead>\n",
       "    <tr style=\"text-align: right;\">\n",
       "      <th></th>\n",
       "      <th>PromotionId</th>\n",
       "      <th>DiscountType</th>\n",
       "      <th>PromotionCondition_DiscountPrice</th>\n",
       "      <th>PromotionCondition_DiscountRate</th>\n",
       "      <th>PromotionCondition_TotalPrice</th>\n",
       "      <th>PromotionCondition_TotalQty</th>\n",
       "      <th>PromotionStartDateTime</th>\n",
       "      <th>PromotionEndDateTime</th>\n",
       "    </tr>\n",
       "  </thead>\n",
       "  <tbody>\n",
       "    <tr>\n",
       "      <th>145</th>\n",
       "      <td>70160</td>\n",
       "      <td>會員滿額打折</td>\n",
       "      <td>0.0</td>\n",
       "      <td>0.90</td>\n",
       "      <td>1.0</td>\n",
       "      <td>0</td>\n",
       "      <td>2017-09-11 16:00:00.000</td>\n",
       "      <td>2019-09-11 21:57:11.303</td>\n",
       "    </tr>\n",
       "    <tr>\n",
       "      <th>146</th>\n",
       "      <td>70161</td>\n",
       "      <td>會員滿額打折</td>\n",
       "      <td>0.0</td>\n",
       "      <td>0.90</td>\n",
       "      <td>2500.0</td>\n",
       "      <td>0</td>\n",
       "      <td>2017-09-11 16:00:00.000</td>\n",
       "      <td>2019-09-11 21:58:53.140</td>\n",
       "    </tr>\n",
       "    <tr>\n",
       "      <th>169</th>\n",
       "      <td>76161</td>\n",
       "      <td>滿額贈</td>\n",
       "      <td>0.0</td>\n",
       "      <td>0.00</td>\n",
       "      <td>1000.0</td>\n",
       "      <td>0</td>\n",
       "      <td>2017-11-01 11:00:00.000</td>\n",
       "      <td>2017-11-17 10:59:00.000</td>\n",
       "    </tr>\n",
       "    <tr>\n",
       "      <th>170</th>\n",
       "      <td>76167</td>\n",
       "      <td>滿額贈</td>\n",
       "      <td>0.0</td>\n",
       "      <td>0.00</td>\n",
       "      <td>3500.0</td>\n",
       "      <td>0</td>\n",
       "      <td>2017-11-01 11:00:00.000</td>\n",
       "      <td>2017-11-17 10:59:00.000</td>\n",
       "    </tr>\n",
       "    <tr>\n",
       "      <th>175</th>\n",
       "      <td>77395</td>\n",
       "      <td>滿件打折</td>\n",
       "      <td>0.0</td>\n",
       "      <td>0.88</td>\n",
       "      <td>0.0</td>\n",
       "      <td>2</td>\n",
       "      <td>2017-11-10 00:00:00.000</td>\n",
       "      <td>2017-11-15 10:59:00.000</td>\n",
       "    </tr>\n",
       "  </tbody>\n",
       "</table>\n",
       "</div>"
      ],
      "text/plain": [
       "    PromotionId DiscountType  PromotionCondition_DiscountPrice  \\\n",
       "145       70160       會員滿額打折                               0.0   \n",
       "146       70161       會員滿額打折                               0.0   \n",
       "169       76161          滿額贈                               0.0   \n",
       "170       76167          滿額贈                               0.0   \n",
       "175       77395         滿件打折                               0.0   \n",
       "\n",
       "     PromotionCondition_DiscountRate  PromotionCondition_TotalPrice  \\\n",
       "145                             0.90                            1.0   \n",
       "146                             0.90                         2500.0   \n",
       "169                             0.00                         1000.0   \n",
       "170                             0.00                         3500.0   \n",
       "175                             0.88                            0.0   \n",
       "\n",
       "     PromotionCondition_TotalQty   PromotionStartDateTime  \\\n",
       "145                            0  2017-09-11 16:00:00.000   \n",
       "146                            0  2017-09-11 16:00:00.000   \n",
       "169                            0  2017-11-01 11:00:00.000   \n",
       "170                            0  2017-11-01 11:00:00.000   \n",
       "175                            2  2017-11-10 00:00:00.000   \n",
       "\n",
       "        PromotionEndDateTime  \n",
       "145  2019-09-11 21:57:11.303  \n",
       "146  2019-09-11 21:58:53.140  \n",
       "169  2017-11-17 10:59:00.000  \n",
       "170  2017-11-17 10:59:00.000  \n",
       "175  2017-11-15 10:59:00.000  "
      ]
     },
     "execution_count": 53,
     "metadata": {},
     "output_type": "execute_result"
    }
   ],
   "source": [
    "temp=promotionData[promotionData[\"PromotionStartDateTime\"]<str(first)]\n",
    "firstPromotion=temp[temp[\"PromotionEndDateTime\"]>str(first)]\n",
    "firstPromotion"
   ]
  },
  {
   "cell_type": "code",
   "execution_count": 54,
   "metadata": {},
   "outputs": [
    {
     "data": {
      "text/html": [
       "<div>\n",
       "<style scoped>\n",
       "    .dataframe tbody tr th:only-of-type {\n",
       "        vertical-align: middle;\n",
       "    }\n",
       "\n",
       "    .dataframe tbody tr th {\n",
       "        vertical-align: top;\n",
       "    }\n",
       "\n",
       "    .dataframe thead th {\n",
       "        text-align: right;\n",
       "    }\n",
       "</style>\n",
       "<table border=\"1\" class=\"dataframe\">\n",
       "  <thead>\n",
       "    <tr style=\"text-align: right;\">\n",
       "      <th></th>\n",
       "      <th>PromotionId</th>\n",
       "      <th>DiscountType</th>\n",
       "      <th>PromotionCondition_DiscountPrice</th>\n",
       "      <th>PromotionCondition_DiscountRate</th>\n",
       "      <th>PromotionCondition_TotalPrice</th>\n",
       "      <th>PromotionCondition_TotalQty</th>\n",
       "      <th>PromotionStartDateTime</th>\n",
       "      <th>PromotionEndDateTime</th>\n",
       "    </tr>\n",
       "  </thead>\n",
       "  <tbody>\n",
       "    <tr>\n",
       "      <th>58</th>\n",
       "      <td>37453</td>\n",
       "      <td>滿額折現</td>\n",
       "      <td>100.0</td>\n",
       "      <td>0.0</td>\n",
       "      <td>888.0</td>\n",
       "      <td>0</td>\n",
       "      <td>2016-11-10 10:00:00.000</td>\n",
       "      <td>2016-11-11 09:59:00.000</td>\n",
       "    </tr>\n",
       "  </tbody>\n",
       "</table>\n",
       "</div>"
      ],
      "text/plain": [
       "   PromotionId DiscountType  PromotionCondition_DiscountPrice  \\\n",
       "58       37453         滿額折現                             100.0   \n",
       "\n",
       "    PromotionCondition_DiscountRate  PromotionCondition_TotalPrice  \\\n",
       "58                              0.0                          888.0   \n",
       "\n",
       "    PromotionCondition_TotalQty   PromotionStartDateTime  \\\n",
       "58                            0  2016-11-10 10:00:00.000   \n",
       "\n",
       "       PromotionEndDateTime  \n",
       "58  2016-11-11 09:59:00.000  "
      ]
     },
     "execution_count": 54,
     "metadata": {},
     "output_type": "execute_result"
    }
   ],
   "source": [
    "temp=promotionData[promotionData[\"PromotionStartDateTime\"]<str(second)]\n",
    "secondPromotion=temp[temp[\"PromotionEndDateTime\"]>str(second)]\n",
    "secondPromotion"
   ]
  },
  {
   "cell_type": "code",
   "execution_count": 55,
   "metadata": {},
   "outputs": [
    {
     "data": {
      "text/html": [
       "<div>\n",
       "<style scoped>\n",
       "    .dataframe tbody tr th:only-of-type {\n",
       "        vertical-align: middle;\n",
       "    }\n",
       "\n",
       "    .dataframe tbody tr th {\n",
       "        vertical-align: top;\n",
       "    }\n",
       "\n",
       "    .dataframe thead th {\n",
       "        text-align: right;\n",
       "    }\n",
       "</style>\n",
       "<table border=\"1\" class=\"dataframe\">\n",
       "  <thead>\n",
       "    <tr style=\"text-align: right;\">\n",
       "      <th></th>\n",
       "      <th>PromotionId</th>\n",
       "      <th>DiscountType</th>\n",
       "      <th>PromotionCondition_DiscountPrice</th>\n",
       "      <th>PromotionCondition_DiscountRate</th>\n",
       "      <th>PromotionCondition_TotalPrice</th>\n",
       "      <th>PromotionCondition_TotalQty</th>\n",
       "      <th>PromotionStartDateTime</th>\n",
       "      <th>PromotionEndDateTime</th>\n",
       "    </tr>\n",
       "  </thead>\n",
       "  <tbody>\n",
       "    <tr>\n",
       "      <th>145</th>\n",
       "      <td>70160</td>\n",
       "      <td>會員滿額打折</td>\n",
       "      <td>0.0</td>\n",
       "      <td>0.90</td>\n",
       "      <td>1.0</td>\n",
       "      <td>0</td>\n",
       "      <td>2017-09-11 16:00:00.000</td>\n",
       "      <td>2019-09-11 21:57:11.303</td>\n",
       "    </tr>\n",
       "    <tr>\n",
       "      <th>146</th>\n",
       "      <td>70161</td>\n",
       "      <td>會員滿額打折</td>\n",
       "      <td>0.0</td>\n",
       "      <td>0.90</td>\n",
       "      <td>2500.0</td>\n",
       "      <td>0</td>\n",
       "      <td>2017-09-11 16:00:00.000</td>\n",
       "      <td>2019-09-11 21:58:53.140</td>\n",
       "    </tr>\n",
       "    <tr>\n",
       "      <th>169</th>\n",
       "      <td>76161</td>\n",
       "      <td>滿額贈</td>\n",
       "      <td>0.0</td>\n",
       "      <td>0.00</td>\n",
       "      <td>1000.0</td>\n",
       "      <td>0</td>\n",
       "      <td>2017-11-01 11:00:00.000</td>\n",
       "      <td>2017-11-17 10:59:00.000</td>\n",
       "    </tr>\n",
       "    <tr>\n",
       "      <th>170</th>\n",
       "      <td>76167</td>\n",
       "      <td>滿額贈</td>\n",
       "      <td>0.0</td>\n",
       "      <td>0.00</td>\n",
       "      <td>3500.0</td>\n",
       "      <td>0</td>\n",
       "      <td>2017-11-01 11:00:00.000</td>\n",
       "      <td>2017-11-17 10:59:00.000</td>\n",
       "    </tr>\n",
       "    <tr>\n",
       "      <th>175</th>\n",
       "      <td>77395</td>\n",
       "      <td>滿件打折</td>\n",
       "      <td>0.0</td>\n",
       "      <td>0.88</td>\n",
       "      <td>0.0</td>\n",
       "      <td>2</td>\n",
       "      <td>2017-11-10 00:00:00.000</td>\n",
       "      <td>2017-11-15 10:59:00.000</td>\n",
       "    </tr>\n",
       "  </tbody>\n",
       "</table>\n",
       "</div>"
      ],
      "text/plain": [
       "    PromotionId DiscountType  PromotionCondition_DiscountPrice  \\\n",
       "145       70160       會員滿額打折                               0.0   \n",
       "146       70161       會員滿額打折                               0.0   \n",
       "169       76161          滿額贈                               0.0   \n",
       "170       76167          滿額贈                               0.0   \n",
       "175       77395         滿件打折                               0.0   \n",
       "\n",
       "     PromotionCondition_DiscountRate  PromotionCondition_TotalPrice  \\\n",
       "145                             0.90                            1.0   \n",
       "146                             0.90                         2500.0   \n",
       "169                             0.00                         1000.0   \n",
       "170                             0.00                         3500.0   \n",
       "175                             0.88                            0.0   \n",
       "\n",
       "     PromotionCondition_TotalQty   PromotionStartDateTime  \\\n",
       "145                            0  2017-09-11 16:00:00.000   \n",
       "146                            0  2017-09-11 16:00:00.000   \n",
       "169                            0  2017-11-01 11:00:00.000   \n",
       "170                            0  2017-11-01 11:00:00.000   \n",
       "175                            2  2017-11-10 00:00:00.000   \n",
       "\n",
       "        PromotionEndDateTime  \n",
       "145  2019-09-11 21:57:11.303  \n",
       "146  2019-09-11 21:58:53.140  \n",
       "169  2017-11-17 10:59:00.000  \n",
       "170  2017-11-17 10:59:00.000  \n",
       "175  2017-11-15 10:59:00.000  "
      ]
     },
     "execution_count": 55,
     "metadata": {},
     "output_type": "execute_result"
    }
   ],
   "source": [
    "temp=promotionData[promotionData[\"PromotionStartDateTime\"]<str(third)]\n",
    "thirdPromotion=temp[temp[\"PromotionEndDateTime\"]>str(third)]\n",
    "thirdPromotion"
   ]
  },
  {
   "cell_type": "code",
   "execution_count": 56,
   "metadata": {},
   "outputs": [
    {
     "data": {
      "text/html": [
       "<div>\n",
       "<style scoped>\n",
       "    .dataframe tbody tr th:only-of-type {\n",
       "        vertical-align: middle;\n",
       "    }\n",
       "\n",
       "    .dataframe tbody tr th {\n",
       "        vertical-align: top;\n",
       "    }\n",
       "\n",
       "    .dataframe thead th {\n",
       "        text-align: right;\n",
       "    }\n",
       "</style>\n",
       "<table border=\"1\" class=\"dataframe\">\n",
       "  <thead>\n",
       "    <tr style=\"text-align: right;\">\n",
       "      <th></th>\n",
       "      <th>PromotionId</th>\n",
       "      <th>DiscountType</th>\n",
       "      <th>PromotionCondition_DiscountPrice</th>\n",
       "      <th>PromotionCondition_DiscountRate</th>\n",
       "      <th>PromotionCondition_TotalPrice</th>\n",
       "      <th>PromotionCondition_TotalQty</th>\n",
       "      <th>PromotionStartDateTime</th>\n",
       "      <th>PromotionEndDateTime</th>\n",
       "    </tr>\n",
       "  </thead>\n",
       "  <tbody>\n",
       "    <tr>\n",
       "      <th>145</th>\n",
       "      <td>70160</td>\n",
       "      <td>會員滿額打折</td>\n",
       "      <td>0.0</td>\n",
       "      <td>0.90</td>\n",
       "      <td>1.0</td>\n",
       "      <td>0</td>\n",
       "      <td>2017-09-11 16:00:00.000</td>\n",
       "      <td>2019-09-11 21:57:11.303</td>\n",
       "    </tr>\n",
       "    <tr>\n",
       "      <th>146</th>\n",
       "      <td>70161</td>\n",
       "      <td>會員滿額打折</td>\n",
       "      <td>0.0</td>\n",
       "      <td>0.90</td>\n",
       "      <td>2500.0</td>\n",
       "      <td>0</td>\n",
       "      <td>2017-09-11 16:00:00.000</td>\n",
       "      <td>2019-09-11 21:58:53.140</td>\n",
       "    </tr>\n",
       "    <tr>\n",
       "      <th>169</th>\n",
       "      <td>76161</td>\n",
       "      <td>滿額贈</td>\n",
       "      <td>0.0</td>\n",
       "      <td>0.00</td>\n",
       "      <td>1000.0</td>\n",
       "      <td>0</td>\n",
       "      <td>2017-11-01 11:00:00.000</td>\n",
       "      <td>2017-11-17 10:59:00.000</td>\n",
       "    </tr>\n",
       "    <tr>\n",
       "      <th>170</th>\n",
       "      <td>76167</td>\n",
       "      <td>滿額贈</td>\n",
       "      <td>0.0</td>\n",
       "      <td>0.00</td>\n",
       "      <td>3500.0</td>\n",
       "      <td>0</td>\n",
       "      <td>2017-11-01 11:00:00.000</td>\n",
       "      <td>2017-11-17 10:59:00.000</td>\n",
       "    </tr>\n",
       "    <tr>\n",
       "      <th>175</th>\n",
       "      <td>77395</td>\n",
       "      <td>滿件打折</td>\n",
       "      <td>0.0</td>\n",
       "      <td>0.88</td>\n",
       "      <td>0.0</td>\n",
       "      <td>2</td>\n",
       "      <td>2017-11-10 00:00:00.000</td>\n",
       "      <td>2017-11-15 10:59:00.000</td>\n",
       "    </tr>\n",
       "  </tbody>\n",
       "</table>\n",
       "</div>"
      ],
      "text/plain": [
       "    PromotionId DiscountType  PromotionCondition_DiscountPrice  \\\n",
       "145       70160       會員滿額打折                               0.0   \n",
       "146       70161       會員滿額打折                               0.0   \n",
       "169       76161          滿額贈                               0.0   \n",
       "170       76167          滿額贈                               0.0   \n",
       "175       77395         滿件打折                               0.0   \n",
       "\n",
       "     PromotionCondition_DiscountRate  PromotionCondition_TotalPrice  \\\n",
       "145                             0.90                            1.0   \n",
       "146                             0.90                         2500.0   \n",
       "169                             0.00                         1000.0   \n",
       "170                             0.00                         3500.0   \n",
       "175                             0.88                            0.0   \n",
       "\n",
       "     PromotionCondition_TotalQty   PromotionStartDateTime  \\\n",
       "145                            0  2017-09-11 16:00:00.000   \n",
       "146                            0  2017-09-11 16:00:00.000   \n",
       "169                            0  2017-11-01 11:00:00.000   \n",
       "170                            0  2017-11-01 11:00:00.000   \n",
       "175                            2  2017-11-10 00:00:00.000   \n",
       "\n",
       "        PromotionEndDateTime  \n",
       "145  2019-09-11 21:57:11.303  \n",
       "146  2019-09-11 21:58:53.140  \n",
       "169  2017-11-17 10:59:00.000  \n",
       "170  2017-11-17 10:59:00.000  \n",
       "175  2017-11-15 10:59:00.000  "
      ]
     },
     "execution_count": 56,
     "metadata": {},
     "output_type": "execute_result"
    }
   ],
   "source": [
    "temp=promotionData[promotionData[\"PromotionStartDateTime\"]<str(forth)]\n",
    "forthPromotion=temp[temp[\"PromotionEndDateTime\"]>str(forth)]\n",
    "forthPromotion"
   ]
  },
  {
   "cell_type": "code",
   "execution_count": 57,
   "metadata": {},
   "outputs": [
    {
     "data": {
      "text/html": [
       "<div>\n",
       "<style scoped>\n",
       "    .dataframe tbody tr th:only-of-type {\n",
       "        vertical-align: middle;\n",
       "    }\n",
       "\n",
       "    .dataframe tbody tr th {\n",
       "        vertical-align: top;\n",
       "    }\n",
       "\n",
       "    .dataframe thead th {\n",
       "        text-align: right;\n",
       "    }\n",
       "</style>\n",
       "<table border=\"1\" class=\"dataframe\">\n",
       "  <thead>\n",
       "    <tr style=\"text-align: right;\">\n",
       "      <th></th>\n",
       "      <th>PromotionId</th>\n",
       "      <th>DiscountType</th>\n",
       "      <th>PromotionCondition_DiscountPrice</th>\n",
       "      <th>PromotionCondition_DiscountRate</th>\n",
       "      <th>PromotionCondition_TotalPrice</th>\n",
       "      <th>PromotionCondition_TotalQty</th>\n",
       "      <th>PromotionStartDateTime</th>\n",
       "      <th>PromotionEndDateTime</th>\n",
       "    </tr>\n",
       "  </thead>\n",
       "  <tbody>\n",
       "    <tr>\n",
       "      <th>145</th>\n",
       "      <td>70160</td>\n",
       "      <td>會員滿額打折</td>\n",
       "      <td>0.0</td>\n",
       "      <td>0.90</td>\n",
       "      <td>1.0</td>\n",
       "      <td>0</td>\n",
       "      <td>2017-09-11 16:00:00.000</td>\n",
       "      <td>2019-09-11 21:57:11.303</td>\n",
       "    </tr>\n",
       "    <tr>\n",
       "      <th>146</th>\n",
       "      <td>70161</td>\n",
       "      <td>會員滿額打折</td>\n",
       "      <td>0.0</td>\n",
       "      <td>0.90</td>\n",
       "      <td>2500.0</td>\n",
       "      <td>0</td>\n",
       "      <td>2017-09-11 16:00:00.000</td>\n",
       "      <td>2019-09-11 21:58:53.140</td>\n",
       "    </tr>\n",
       "    <tr>\n",
       "      <th>169</th>\n",
       "      <td>76161</td>\n",
       "      <td>滿額贈</td>\n",
       "      <td>0.0</td>\n",
       "      <td>0.00</td>\n",
       "      <td>1000.0</td>\n",
       "      <td>0</td>\n",
       "      <td>2017-11-01 11:00:00.000</td>\n",
       "      <td>2017-11-17 10:59:00.000</td>\n",
       "    </tr>\n",
       "    <tr>\n",
       "      <th>170</th>\n",
       "      <td>76167</td>\n",
       "      <td>滿額贈</td>\n",
       "      <td>0.0</td>\n",
       "      <td>0.00</td>\n",
       "      <td>3500.0</td>\n",
       "      <td>0</td>\n",
       "      <td>2017-11-01 11:00:00.000</td>\n",
       "      <td>2017-11-17 10:59:00.000</td>\n",
       "    </tr>\n",
       "    <tr>\n",
       "      <th>175</th>\n",
       "      <td>77395</td>\n",
       "      <td>滿件打折</td>\n",
       "      <td>0.0</td>\n",
       "      <td>0.88</td>\n",
       "      <td>0.0</td>\n",
       "      <td>2</td>\n",
       "      <td>2017-11-10 00:00:00.000</td>\n",
       "      <td>2017-11-15 10:59:00.000</td>\n",
       "    </tr>\n",
       "  </tbody>\n",
       "</table>\n",
       "</div>"
      ],
      "text/plain": [
       "    PromotionId DiscountType  PromotionCondition_DiscountPrice  \\\n",
       "145       70160       會員滿額打折                               0.0   \n",
       "146       70161       會員滿額打折                               0.0   \n",
       "169       76161          滿額贈                               0.0   \n",
       "170       76167          滿額贈                               0.0   \n",
       "175       77395         滿件打折                               0.0   \n",
       "\n",
       "     PromotionCondition_DiscountRate  PromotionCondition_TotalPrice  \\\n",
       "145                             0.90                            1.0   \n",
       "146                             0.90                         2500.0   \n",
       "169                             0.00                         1000.0   \n",
       "170                             0.00                         3500.0   \n",
       "175                             0.88                            0.0   \n",
       "\n",
       "     PromotionCondition_TotalQty   PromotionStartDateTime  \\\n",
       "145                            0  2017-09-11 16:00:00.000   \n",
       "146                            0  2017-09-11 16:00:00.000   \n",
       "169                            0  2017-11-01 11:00:00.000   \n",
       "170                            0  2017-11-01 11:00:00.000   \n",
       "175                            2  2017-11-10 00:00:00.000   \n",
       "\n",
       "        PromotionEndDateTime  \n",
       "145  2019-09-11 21:57:11.303  \n",
       "146  2019-09-11 21:58:53.140  \n",
       "169  2017-11-17 10:59:00.000  \n",
       "170  2017-11-17 10:59:00.000  \n",
       "175  2017-11-15 10:59:00.000  "
      ]
     },
     "execution_count": 57,
     "metadata": {},
     "output_type": "execute_result"
    }
   ],
   "source": [
    "temp=promotionData[promotionData[\"PromotionStartDateTime\"]<str(fifth)]\n",
    "fifthPromotion=temp[temp[\"PromotionEndDateTime\"]>str(fifth)]\n",
    "fifthPromotion"
   ]
  },
  {
   "cell_type": "markdown",
   "metadata": {},
   "source": [
    "### (c) 假設促銷有加成性，使用linear regression的方尋找每個促銷活動喚醒的人數"
   ]
  },
  {
   "cell_type": "code",
   "execution_count": 58,
   "metadata": {},
   "outputs": [
    {
     "data": {
      "text/plain": [
       "1076"
      ]
     },
     "execution_count": 58,
     "metadata": {},
     "output_type": "execute_result"
    }
   ],
   "source": [
    "len(wakeUpMember)"
   ]
  },
  {
   "cell_type": "code",
   "execution_count": 59,
   "metadata": {},
   "outputs": [
    {
     "data": {
      "text/plain": [
       "(1076, 244)"
      ]
     },
     "execution_count": 59,
     "metadata": {},
     "output_type": "execute_result"
    }
   ],
   "source": [
    "ee.shape"
   ]
  },
  {
   "cell_type": "code",
   "execution_count": 60,
   "metadata": {},
   "outputs": [
    {
     "data": {
      "text/plain": [
       "LinearRegression(copy_X=True, fit_intercept=True, n_jobs=1, normalize=False)"
      ]
     },
     "execution_count": 60,
     "metadata": {},
     "output_type": "execute_result"
    }
   ],
   "source": [
    "from sklearn import linear_model\n",
    "clf = linear_model.LinearRegression()\n",
    "clf.fit(ee,wakeUpMember)"
   ]
  },
  {
   "cell_type": "code",
   "execution_count": 61,
   "metadata": {},
   "outputs": [],
   "source": [
    "bestPromotionList=clf.coef_\n",
    "bestPromotionList.sort()"
   ]
  },
  {
   "cell_type": "code",
   "execution_count": 62,
   "metadata": {},
   "outputs": [
    {
     "data": {
      "text/html": [
       "<div>\n",
       "<style scoped>\n",
       "    .dataframe tbody tr th:only-of-type {\n",
       "        vertical-align: middle;\n",
       "    }\n",
       "\n",
       "    .dataframe tbody tr th {\n",
       "        vertical-align: top;\n",
       "    }\n",
       "\n",
       "    .dataframe thead th {\n",
       "        text-align: right;\n",
       "    }\n",
       "</style>\n",
       "<table border=\"1\" class=\"dataframe\">\n",
       "  <thead>\n",
       "    <tr style=\"text-align: right;\">\n",
       "      <th></th>\n",
       "      <th>PromotionId</th>\n",
       "      <th>DiscountType</th>\n",
       "      <th>PromotionCondition_DiscountPrice</th>\n",
       "      <th>PromotionCondition_DiscountRate</th>\n",
       "      <th>PromotionCondition_TotalPrice</th>\n",
       "      <th>PromotionCondition_TotalQty</th>\n",
       "      <th>PromotionStartDateTime</th>\n",
       "      <th>PromotionEndDateTime</th>\n",
       "    </tr>\n",
       "  </thead>\n",
       "  <tbody>\n",
       "    <tr>\n",
       "      <th>242</th>\n",
       "      <td>96537</td>\n",
       "      <td>任選優惠價</td>\n",
       "      <td>198.0</td>\n",
       "      <td>0.0</td>\n",
       "      <td>0.0</td>\n",
       "      <td>2</td>\n",
       "      <td>2018-04-20 14:56:00.000</td>\n",
       "      <td>2018-04-30 10:59:00.000</td>\n",
       "    </tr>\n",
       "  </tbody>\n",
       "</table>\n",
       "</div>"
      ],
      "text/plain": [
       "    PromotionId DiscountType  PromotionCondition_DiscountPrice  \\\n",
       "242       96537        任選優惠價                             198.0   \n",
       "\n",
       "     PromotionCondition_DiscountRate  PromotionCondition_TotalPrice  \\\n",
       "242                              0.0                            0.0   \n",
       "\n",
       "     PromotionCondition_TotalQty   PromotionStartDateTime  \\\n",
       "242                            2  2018-04-20 14:56:00.000   \n",
       "\n",
       "        PromotionEndDateTime  \n",
       "242  2018-04-30 10:59:00.000  "
      ]
     },
     "execution_count": 62,
     "metadata": {},
     "output_type": "execute_result"
    }
   ],
   "source": [
    "promotionData[promotionData[\"PromotionStartDateTime\"]==promotionDate[list(clf.coef_).index(bestPromotionList[-1])][0]]"
   ]
  },
  {
   "cell_type": "code",
   "execution_count": 63,
   "metadata": {},
   "outputs": [
    {
     "data": {
      "text/html": [
       "<div>\n",
       "<style scoped>\n",
       "    .dataframe tbody tr th:only-of-type {\n",
       "        vertical-align: middle;\n",
       "    }\n",
       "\n",
       "    .dataframe tbody tr th {\n",
       "        vertical-align: top;\n",
       "    }\n",
       "\n",
       "    .dataframe thead th {\n",
       "        text-align: right;\n",
       "    }\n",
       "</style>\n",
       "<table border=\"1\" class=\"dataframe\">\n",
       "  <thead>\n",
       "    <tr style=\"text-align: right;\">\n",
       "      <th></th>\n",
       "      <th>PromotionId</th>\n",
       "      <th>DiscountType</th>\n",
       "      <th>PromotionCondition_DiscountPrice</th>\n",
       "      <th>PromotionCondition_DiscountRate</th>\n",
       "      <th>PromotionCondition_TotalPrice</th>\n",
       "      <th>PromotionCondition_TotalQty</th>\n",
       "      <th>PromotionStartDateTime</th>\n",
       "      <th>PromotionEndDateTime</th>\n",
       "    </tr>\n",
       "  </thead>\n",
       "  <tbody>\n",
       "    <tr>\n",
       "      <th>241</th>\n",
       "      <td>96536</td>\n",
       "      <td>任選優惠價</td>\n",
       "      <td>250.0</td>\n",
       "      <td>0.0</td>\n",
       "      <td>0.0</td>\n",
       "      <td>2</td>\n",
       "      <td>2018-04-20 14:51:00.000</td>\n",
       "      <td>2018-04-30 10:59:00.000</td>\n",
       "    </tr>\n",
       "  </tbody>\n",
       "</table>\n",
       "</div>"
      ],
      "text/plain": [
       "    PromotionId DiscountType  PromotionCondition_DiscountPrice  \\\n",
       "241       96536        任選優惠價                             250.0   \n",
       "\n",
       "     PromotionCondition_DiscountRate  PromotionCondition_TotalPrice  \\\n",
       "241                              0.0                            0.0   \n",
       "\n",
       "     PromotionCondition_TotalQty   PromotionStartDateTime  \\\n",
       "241                            2  2018-04-20 14:51:00.000   \n",
       "\n",
       "        PromotionEndDateTime  \n",
       "241  2018-04-30 10:59:00.000  "
      ]
     },
     "execution_count": 63,
     "metadata": {},
     "output_type": "execute_result"
    }
   ],
   "source": [
    "promotionData[promotionData[\"PromotionStartDateTime\"]==promotionDate[list(clf.coef_).index(bestPromotionList[-2])][0]]"
   ]
  },
  {
   "cell_type": "code",
   "execution_count": 64,
   "metadata": {},
   "outputs": [
    {
     "data": {
      "text/html": [
       "<div>\n",
       "<style scoped>\n",
       "    .dataframe tbody tr th:only-of-type {\n",
       "        vertical-align: middle;\n",
       "    }\n",
       "\n",
       "    .dataframe tbody tr th {\n",
       "        vertical-align: top;\n",
       "    }\n",
       "\n",
       "    .dataframe thead th {\n",
       "        text-align: right;\n",
       "    }\n",
       "</style>\n",
       "<table border=\"1\" class=\"dataframe\">\n",
       "  <thead>\n",
       "    <tr style=\"text-align: right;\">\n",
       "      <th></th>\n",
       "      <th>PromotionId</th>\n",
       "      <th>DiscountType</th>\n",
       "      <th>PromotionCondition_DiscountPrice</th>\n",
       "      <th>PromotionCondition_DiscountRate</th>\n",
       "      <th>PromotionCondition_TotalPrice</th>\n",
       "      <th>PromotionCondition_TotalQty</th>\n",
       "      <th>PromotionStartDateTime</th>\n",
       "      <th>PromotionEndDateTime</th>\n",
       "    </tr>\n",
       "  </thead>\n",
       "  <tbody>\n",
       "    <tr>\n",
       "      <th>240</th>\n",
       "      <td>95771</td>\n",
       "      <td>滿額贈</td>\n",
       "      <td>0.0</td>\n",
       "      <td>0.0</td>\n",
       "      <td>500.0</td>\n",
       "      <td>0</td>\n",
       "      <td>2018-04-17 11:00:00.000</td>\n",
       "      <td>2018-05-02 10:59:00.000</td>\n",
       "    </tr>\n",
       "  </tbody>\n",
       "</table>\n",
       "</div>"
      ],
      "text/plain": [
       "    PromotionId DiscountType  PromotionCondition_DiscountPrice  \\\n",
       "240       95771          滿額贈                               0.0   \n",
       "\n",
       "     PromotionCondition_DiscountRate  PromotionCondition_TotalPrice  \\\n",
       "240                              0.0                          500.0   \n",
       "\n",
       "     PromotionCondition_TotalQty   PromotionStartDateTime  \\\n",
       "240                            0  2018-04-17 11:00:00.000   \n",
       "\n",
       "        PromotionEndDateTime  \n",
       "240  2018-05-02 10:59:00.000  "
      ]
     },
     "execution_count": 64,
     "metadata": {},
     "output_type": "execute_result"
    }
   ],
   "source": [
    "promotionData[promotionData[\"PromotionStartDateTime\"]==promotionDate[list(clf.coef_).index(bestPromotionList[-3])][0]]"
   ]
  },
  {
   "cell_type": "code",
   "execution_count": 65,
   "metadata": {},
   "outputs": [
    {
     "data": {
      "text/html": [
       "<div>\n",
       "<style scoped>\n",
       "    .dataframe tbody tr th:only-of-type {\n",
       "        vertical-align: middle;\n",
       "    }\n",
       "\n",
       "    .dataframe tbody tr th {\n",
       "        vertical-align: top;\n",
       "    }\n",
       "\n",
       "    .dataframe thead th {\n",
       "        text-align: right;\n",
       "    }\n",
       "</style>\n",
       "<table border=\"1\" class=\"dataframe\">\n",
       "  <thead>\n",
       "    <tr style=\"text-align: right;\">\n",
       "      <th></th>\n",
       "      <th>PromotionId</th>\n",
       "      <th>DiscountType</th>\n",
       "      <th>PromotionCondition_DiscountPrice</th>\n",
       "      <th>PromotionCondition_DiscountRate</th>\n",
       "      <th>PromotionCondition_TotalPrice</th>\n",
       "      <th>PromotionCondition_TotalQty</th>\n",
       "      <th>PromotionStartDateTime</th>\n",
       "      <th>PromotionEndDateTime</th>\n",
       "    </tr>\n",
       "  </thead>\n",
       "  <tbody>\n",
       "    <tr>\n",
       "      <th>239</th>\n",
       "      <td>93897</td>\n",
       "      <td>滿額贈</td>\n",
       "      <td>0.0</td>\n",
       "      <td>0.0</td>\n",
       "      <td>1500.0</td>\n",
       "      <td>0</td>\n",
       "      <td>2018-03-30 11:00:00.000</td>\n",
       "      <td>2018-05-02 10:59:00.000</td>\n",
       "    </tr>\n",
       "  </tbody>\n",
       "</table>\n",
       "</div>"
      ],
      "text/plain": [
       "    PromotionId DiscountType  PromotionCondition_DiscountPrice  \\\n",
       "239       93897          滿額贈                               0.0   \n",
       "\n",
       "     PromotionCondition_DiscountRate  PromotionCondition_TotalPrice  \\\n",
       "239                              0.0                         1500.0   \n",
       "\n",
       "     PromotionCondition_TotalQty   PromotionStartDateTime  \\\n",
       "239                            0  2018-03-30 11:00:00.000   \n",
       "\n",
       "        PromotionEndDateTime  \n",
       "239  2018-05-02 10:59:00.000  "
      ]
     },
     "execution_count": 65,
     "metadata": {},
     "output_type": "execute_result"
    }
   ],
   "source": [
    "promotionData[promotionData[\"PromotionStartDateTime\"]==promotionDate[list(clf.coef_).index(bestPromotionList[-4])][0]]"
   ]
  },
  {
   "cell_type": "code",
   "execution_count": 66,
   "metadata": {},
   "outputs": [
    {
     "data": {
      "text/html": [
       "<div>\n",
       "<style scoped>\n",
       "    .dataframe tbody tr th:only-of-type {\n",
       "        vertical-align: middle;\n",
       "    }\n",
       "\n",
       "    .dataframe tbody tr th {\n",
       "        vertical-align: top;\n",
       "    }\n",
       "\n",
       "    .dataframe thead th {\n",
       "        text-align: right;\n",
       "    }\n",
       "</style>\n",
       "<table border=\"1\" class=\"dataframe\">\n",
       "  <thead>\n",
       "    <tr style=\"text-align: right;\">\n",
       "      <th></th>\n",
       "      <th>PromotionId</th>\n",
       "      <th>DiscountType</th>\n",
       "      <th>PromotionCondition_DiscountPrice</th>\n",
       "      <th>PromotionCondition_DiscountRate</th>\n",
       "      <th>PromotionCondition_TotalPrice</th>\n",
       "      <th>PromotionCondition_TotalQty</th>\n",
       "      <th>PromotionStartDateTime</th>\n",
       "      <th>PromotionEndDateTime</th>\n",
       "    </tr>\n",
       "  </thead>\n",
       "  <tbody>\n",
       "    <tr>\n",
       "      <th>234</th>\n",
       "      <td>93501</td>\n",
       "      <td>任選優惠價</td>\n",
       "      <td>120.0</td>\n",
       "      <td>0.0</td>\n",
       "      <td>0.0</td>\n",
       "      <td>2</td>\n",
       "      <td>2018-03-27 12:00:00.000</td>\n",
       "      <td>2018-04-30 10:59:00.000</td>\n",
       "    </tr>\n",
       "    <tr>\n",
       "      <th>235</th>\n",
       "      <td>93502</td>\n",
       "      <td>任選優惠價</td>\n",
       "      <td>198.0</td>\n",
       "      <td>0.0</td>\n",
       "      <td>0.0</td>\n",
       "      <td>2</td>\n",
       "      <td>2018-03-27 12:00:00.000</td>\n",
       "      <td>2018-04-20 14:55:00.000</td>\n",
       "    </tr>\n",
       "    <tr>\n",
       "      <th>236</th>\n",
       "      <td>93503</td>\n",
       "      <td>任選優惠價</td>\n",
       "      <td>250.0</td>\n",
       "      <td>0.0</td>\n",
       "      <td>0.0</td>\n",
       "      <td>2</td>\n",
       "      <td>2018-03-27 12:00:00.000</td>\n",
       "      <td>2018-04-20 14:50:00.000</td>\n",
       "    </tr>\n",
       "    <tr>\n",
       "      <th>237</th>\n",
       "      <td>93505</td>\n",
       "      <td>任選優惠價</td>\n",
       "      <td>299.0</td>\n",
       "      <td>0.0</td>\n",
       "      <td>0.0</td>\n",
       "      <td>2</td>\n",
       "      <td>2018-03-27 12:00:00.000</td>\n",
       "      <td>2018-04-30 10:59:00.000</td>\n",
       "    </tr>\n",
       "    <tr>\n",
       "      <th>238</th>\n",
       "      <td>93506</td>\n",
       "      <td>任選優惠價</td>\n",
       "      <td>388.0</td>\n",
       "      <td>0.0</td>\n",
       "      <td>0.0</td>\n",
       "      <td>2</td>\n",
       "      <td>2018-03-27 12:00:00.000</td>\n",
       "      <td>2018-04-30 10:59:00.000</td>\n",
       "    </tr>\n",
       "  </tbody>\n",
       "</table>\n",
       "</div>"
      ],
      "text/plain": [
       "    PromotionId DiscountType  PromotionCondition_DiscountPrice  \\\n",
       "234       93501        任選優惠價                             120.0   \n",
       "235       93502        任選優惠價                             198.0   \n",
       "236       93503        任選優惠價                             250.0   \n",
       "237       93505        任選優惠價                             299.0   \n",
       "238       93506        任選優惠價                             388.0   \n",
       "\n",
       "     PromotionCondition_DiscountRate  PromotionCondition_TotalPrice  \\\n",
       "234                              0.0                            0.0   \n",
       "235                              0.0                            0.0   \n",
       "236                              0.0                            0.0   \n",
       "237                              0.0                            0.0   \n",
       "238                              0.0                            0.0   \n",
       "\n",
       "     PromotionCondition_TotalQty   PromotionStartDateTime  \\\n",
       "234                            2  2018-03-27 12:00:00.000   \n",
       "235                            2  2018-03-27 12:00:00.000   \n",
       "236                            2  2018-03-27 12:00:00.000   \n",
       "237                            2  2018-03-27 12:00:00.000   \n",
       "238                            2  2018-03-27 12:00:00.000   \n",
       "\n",
       "        PromotionEndDateTime  \n",
       "234  2018-04-30 10:59:00.000  \n",
       "235  2018-04-20 14:55:00.000  \n",
       "236  2018-04-20 14:50:00.000  \n",
       "237  2018-04-30 10:59:00.000  \n",
       "238  2018-04-30 10:59:00.000  "
      ]
     },
     "execution_count": 66,
     "metadata": {},
     "output_type": "execute_result"
    }
   ],
   "source": [
    "promotionData[promotionData[\"PromotionStartDateTime\"]==promotionDate[list(clf.coef_).index(bestPromotionList[-5])][0]]"
   ]
  },
  {
   "cell_type": "markdown",
   "metadata": {},
   "source": [
    "# 3. 促銷活動對業績的影響"
   ]
  },
  {
   "cell_type": "markdown",
   "metadata": {},
   "source": [
    "## (1) 先來看看業績跟換醒人數和新進人數的關係"
   ]
  },
  {
   "cell_type": "code",
   "execution_count": 67,
   "metadata": {},
   "outputs": [
    {
     "name": "stderr",
     "output_type": "stream",
     "text": [
      "c:\\users\\alex\\appdata\\local\\programs\\python\\python36\\lib\\site-packages\\ipykernel_launcher.py:1: DeprecationWarning: \n",
      ".ix is deprecated. Please use\n",
      ".loc for label based indexing or\n",
      ".iloc for positional indexing\n",
      "\n",
      "See the documentation here:\n",
      "http://pandas.pydata.org/pandas-docs/stable/indexing.html#ix-indexer-is-deprecated\n",
      "  \"\"\"Entry point for launching an IPython kernel.\n"
     ]
    }
   ],
   "source": [
    "dataInterest=shopping_data.ix[:,[\"DateId\",\"MemberId\"]]\n",
    "dataInterest[\"DateId\"]=pd.to_datetime(dataInterest[\"DateId\"],format=\"%Y%m%d\")\n",
    "DateInteresting=dataInterest.groupby('DateId').MemberId.nunique().keys()"
   ]
  },
  {
   "cell_type": "code",
   "execution_count": 68,
   "metadata": {},
   "outputs": [],
   "source": [
    "DatePricePd=shopping_data.groupby(by=\"DateId\")[\"SalesOrderSlaveTotalPayment\"].sum()"
   ]
  },
  {
   "cell_type": "code",
   "execution_count": 69,
   "metadata": {},
   "outputs": [],
   "source": [
    "tempDic={\"time\":DateInteresting,\"new\":answer,\"wakeup\":wakeUpMember}\n",
    "tempPan=pd.DataFrame(tempDic)\n",
    "# tempPan[\"time\"]=tempPan[\"time\"].astype(str)\n",
    "tempPan[\"new\"]=tempPan[\"new\"].astype(int)\n",
    "tempPan[\"wakeup\"]=tempPan[\"wakeup\"].astype(int)\n",
    "tempPan=tempPan.set_index(\"time\")"
   ]
  },
  {
   "cell_type": "code",
   "execution_count": 70,
   "metadata": {},
   "outputs": [
    {
     "data": {
      "text/plain": [
       "<matplotlib.axes._subplots.AxesSubplot at 0x1e3b058c390>"
      ]
     },
     "execution_count": 70,
     "metadata": {},
     "output_type": "execute_result"
    },
    {
     "data": {
      "image/png": "[encoded data removed]",
      "text/plain": [
       "<Figure size 1080x360 with 1 Axes>"
      ]
     },
     "metadata": {},
     "output_type": "display_data"
    }
   ],
   "source": [
    "tempPan.plot(figsize=(15,5))"
   ]
  },
  {
   "cell_type": "code",
   "execution_count": 71,
   "metadata": {},
   "outputs": [
    {
     "data": {
      "text/plain": [
       "<seaborn.axisgrid.PairGrid at 0x1e3b065e588>"
      ]
     },
     "execution_count": 71,
     "metadata": {},
     "output_type": "execute_result"
    },
    {
     "data": {
      "image/png": "[encoded data removed]",
      "text/plain": [
       "<Figure size 540x540 with 12 Axes>"
      ]
     },
     "metadata": {},
     "output_type": "display_data"
    }
   ],
   "source": [
    "tempPan[\"interest\"]=DatePricePd\n",
    "import seaborn as sns\n",
    "sns.pairplot(tempPan, vars=[\"new\",\"wakeup\",\"interest\"],kind='reg')"
   ]
  },
  {
   "cell_type": "code",
   "execution_count": 72,
   "metadata": {},
   "outputs": [
    {
     "data": {
      "text/html": [
       "<div>\n",
       "<style scoped>\n",
       "    .dataframe tbody tr th:only-of-type {\n",
       "        vertical-align: middle;\n",
       "    }\n",
       "\n",
       "    .dataframe tbody tr th {\n",
       "        vertical-align: top;\n",
       "    }\n",
       "\n",
       "    .dataframe thead th {\n",
       "        text-align: right;\n",
       "    }\n",
       "</style>\n",
       "<table border=\"1\" class=\"dataframe\">\n",
       "  <thead>\n",
       "    <tr style=\"text-align: right;\">\n",
       "      <th></th>\n",
       "      <th>new</th>\n",
       "      <th>wakeup</th>\n",
       "      <th>interest</th>\n",
       "    </tr>\n",
       "  </thead>\n",
       "  <tbody>\n",
       "    <tr>\n",
       "      <th>new</th>\n",
       "      <td>1.000000</td>\n",
       "      <td>0.588185</td>\n",
       "      <td>0.763550</td>\n",
       "    </tr>\n",
       "    <tr>\n",
       "      <th>wakeup</th>\n",
       "      <td>0.588185</td>\n",
       "      <td>1.000000</td>\n",
       "      <td>0.947732</td>\n",
       "    </tr>\n",
       "    <tr>\n",
       "      <th>interest</th>\n",
       "      <td>0.763550</td>\n",
       "      <td>0.947732</td>\n",
       "      <td>1.000000</td>\n",
       "    </tr>\n",
       "  </tbody>\n",
       "</table>\n",
       "</div>"
      ],
      "text/plain": [
       "               new    wakeup  interest\n",
       "new       1.000000  0.588185  0.763550\n",
       "wakeup    0.588185  1.000000  0.947732\n",
       "interest  0.763550  0.947732  1.000000"
      ]
     },
     "execution_count": 72,
     "metadata": {},
     "output_type": "execute_result"
    }
   ],
   "source": [
    "tempPan.corr()"
   ]
  },
  {
   "cell_type": "code",
   "execution_count": 73,
   "metadata": {},
   "outputs": [
    {
     "data": {
      "text/html": [
       "<div>\n",
       "<style scoped>\n",
       "    .dataframe tbody tr th:only-of-type {\n",
       "        vertical-align: middle;\n",
       "    }\n",
       "\n",
       "    .dataframe tbody tr th {\n",
       "        vertical-align: top;\n",
       "    }\n",
       "\n",
       "    .dataframe thead th {\n",
       "        text-align: right;\n",
       "    }\n",
       "</style>\n",
       "<table border=\"1\" class=\"dataframe\">\n",
       "  <thead>\n",
       "    <tr style=\"text-align: right;\">\n",
       "      <th></th>\n",
       "      <th>new</th>\n",
       "      <th>wakeup</th>\n",
       "      <th>interest</th>\n",
       "    </tr>\n",
       "  </thead>\n",
       "  <tbody>\n",
       "    <tr>\n",
       "      <th>new</th>\n",
       "      <td>1.000000</td>\n",
       "      <td>0.406034</td>\n",
       "      <td>0.56681</td>\n",
       "    </tr>\n",
       "    <tr>\n",
       "      <th>wakeup</th>\n",
       "      <td>0.406034</td>\n",
       "      <td>1.000000</td>\n",
       "      <td>0.79004</td>\n",
       "    </tr>\n",
       "    <tr>\n",
       "      <th>interest</th>\n",
       "      <td>0.566810</td>\n",
       "      <td>0.790040</td>\n",
       "      <td>1.00000</td>\n",
       "    </tr>\n",
       "  </tbody>\n",
       "</table>\n",
       "</div>"
      ],
      "text/plain": [
       "               new    wakeup  interest\n",
       "new       1.000000  0.406034   0.56681\n",
       "wakeup    0.406034  1.000000   0.79004\n",
       "interest  0.566810  0.790040   1.00000"
      ]
     },
     "execution_count": 73,
     "metadata": {},
     "output_type": "execute_result"
    }
   ],
   "source": [
    "tempPan.corr('kendall')"
   ]
  },
  {
   "cell_type": "code",
   "execution_count": 74,
   "metadata": {},
   "outputs": [
    {
     "data": {
      "text/html": [
       "<div>\n",
       "<style scoped>\n",
       "    .dataframe tbody tr th:only-of-type {\n",
       "        vertical-align: middle;\n",
       "    }\n",
       "\n",
       "    .dataframe tbody tr th {\n",
       "        vertical-align: top;\n",
       "    }\n",
       "\n",
       "    .dataframe thead th {\n",
       "        text-align: right;\n",
       "    }\n",
       "</style>\n",
       "<table border=\"1\" class=\"dataframe\">\n",
       "  <thead>\n",
       "    <tr style=\"text-align: right;\">\n",
       "      <th></th>\n",
       "      <th>new</th>\n",
       "      <th>wakeup</th>\n",
       "      <th>interest</th>\n",
       "    </tr>\n",
       "  </thead>\n",
       "  <tbody>\n",
       "    <tr>\n",
       "      <th>new</th>\n",
       "      <td>1.000000</td>\n",
       "      <td>0.562967</td>\n",
       "      <td>0.754965</td>\n",
       "    </tr>\n",
       "    <tr>\n",
       "      <th>wakeup</th>\n",
       "      <td>0.562967</td>\n",
       "      <td>1.000000</td>\n",
       "      <td>0.935817</td>\n",
       "    </tr>\n",
       "    <tr>\n",
       "      <th>interest</th>\n",
       "      <td>0.754965</td>\n",
       "      <td>0.935817</td>\n",
       "      <td>1.000000</td>\n",
       "    </tr>\n",
       "  </tbody>\n",
       "</table>\n",
       "</div>"
      ],
      "text/plain": [
       "               new    wakeup  interest\n",
       "new       1.000000  0.562967  0.754965\n",
       "wakeup    0.562967  1.000000  0.935817\n",
       "interest  0.754965  0.935817  1.000000"
      ]
     },
     "execution_count": 74,
     "metadata": {},
     "output_type": "execute_result"
    }
   ],
   "source": [
    "tempPan.corr('spearman')"
   ]
  },
  {
   "cell_type": "markdown",
   "metadata": {},
   "source": [
    "#### Pearson積差相關係數 \n",
    "兩個連續變量間呈線性相關時，使用Pearson積差相關係數，不滿足積差相關分析的適用條件時，使用Spearman秩相關係數來描述. \n",
    "\n",
    "#### Spearman相關係數\n",
    "Spearman相關係數又稱秩相關係數，是利用兩變量的秩次大小作線性相關分析，對原始變量的分佈不作要求，屬於非參數統計方法，適用範圍要廣些。對於服從Pearson相關係數的數據亦可計算Spearman相關係數，但統計效能要低一些。Spearman相關係數的計算公式可以完全套用Spearman相關係數計算公式，但公式中的x和y用相應的秩次代替即可。\n",
    "\n",
    "#### Kendall's tau-b等級相關係數\n",
    "Kendall's tau-b等級相關係數：用於反映分類變量相關性的指標，適用於兩個分類變量均為有序分類的情況。對相關的有序變量進行非參數相關檢驗；取值範圍在-1-1之間，此檢驗適合於正方形表格；"
   ]
  },
  {
   "cell_type": "code",
   "execution_count": 75,
   "metadata": {
    "scrolled": true
   },
   "outputs": [],
   "source": [
    "import datetime\n",
    "# def CalculateInterest(str1,str2,str3):\n",
    "#     temp=tempPan[tempPan.index>=str1]\n",
    "#     temp1=temp[temp.index<=str2]\n",
    "#     return(temp1[str3].values.sum()/len(temp1))"
   ]
  },
  {
   "cell_type": "code",
   "execution_count": 76,
   "metadata": {},
   "outputs": [],
   "source": [
    "temp=tempPan[tempPan.index>=promotionData['PromotionStartDateTime'][49]]"
   ]
  },
  {
   "cell_type": "code",
   "execution_count": 77,
   "metadata": {},
   "outputs": [
    {
     "data": {
      "text/plain": [
       "'2016-09-29 13:45:00.000'"
      ]
     },
     "execution_count": 77,
     "metadata": {},
     "output_type": "execute_result"
    }
   ],
   "source": [
    "promotionData['PromotionStartDateTime'][49]"
   ]
  },
  {
   "cell_type": "code",
   "execution_count": 78,
   "metadata": {},
   "outputs": [
    {
     "data": {
      "text/plain": [
       "734.4047619047619"
      ]
     },
     "execution_count": 78,
     "metadata": {},
     "output_type": "execute_result"
    }
   ],
   "source": [
    "temp1=temp[temp.index<=promotionData['PromotionEndDateTime'][49]]\n",
    "temp1[\"new\"].sum()/len(temp1)"
   ]
  },
  {
   "cell_type": "code",
   "execution_count": 79,
   "metadata": {},
   "outputs": [
    {
     "data": {
      "text/html": [
       "<div>\n",
       "<style scoped>\n",
       "    .dataframe tbody tr th:only-of-type {\n",
       "        vertical-align: middle;\n",
       "    }\n",
       "\n",
       "    .dataframe tbody tr th {\n",
       "        vertical-align: top;\n",
       "    }\n",
       "\n",
       "    .dataframe thead th {\n",
       "        text-align: right;\n",
       "    }\n",
       "</style>\n",
       "<table border=\"1\" class=\"dataframe\">\n",
       "  <thead>\n",
       "    <tr style=\"text-align: right;\">\n",
       "      <th></th>\n",
       "      <th>new</th>\n",
       "      <th>wakeup</th>\n",
       "      <th>interest</th>\n",
       "    </tr>\n",
       "    <tr>\n",
       "      <th>time</th>\n",
       "      <th></th>\n",
       "      <th></th>\n",
       "      <th></th>\n",
       "    </tr>\n",
       "  </thead>\n",
       "  <tbody>\n",
       "    <tr>\n",
       "      <th>2016-09-30</th>\n",
       "      <td>930</td>\n",
       "      <td>957</td>\n",
       "      <td>1933235.0</td>\n",
       "    </tr>\n",
       "    <tr>\n",
       "      <th>2016-10-01</th>\n",
       "      <td>1004</td>\n",
       "      <td>1129</td>\n",
       "      <td>2153083.0</td>\n",
       "    </tr>\n",
       "    <tr>\n",
       "      <th>2016-10-02</th>\n",
       "      <td>1168</td>\n",
       "      <td>1109</td>\n",
       "      <td>2318521.0</td>\n",
       "    </tr>\n",
       "    <tr>\n",
       "      <th>2016-10-03</th>\n",
       "      <td>622</td>\n",
       "      <td>803</td>\n",
       "      <td>1544087.0</td>\n",
       "    </tr>\n",
       "    <tr>\n",
       "      <th>2016-10-04</th>\n",
       "      <td>619</td>\n",
       "      <td>983</td>\n",
       "      <td>1883952.0</td>\n",
       "    </tr>\n",
       "    <tr>\n",
       "      <th>2016-10-05</th>\n",
       "      <td>615</td>\n",
       "      <td>944</td>\n",
       "      <td>1774519.0</td>\n",
       "    </tr>\n",
       "    <tr>\n",
       "      <th>2016-10-06</th>\n",
       "      <td>621</td>\n",
       "      <td>910</td>\n",
       "      <td>1749925.0</td>\n",
       "    </tr>\n",
       "    <tr>\n",
       "      <th>2016-10-07</th>\n",
       "      <td>540</td>\n",
       "      <td>762</td>\n",
       "      <td>1485732.0</td>\n",
       "    </tr>\n",
       "    <tr>\n",
       "      <th>2016-10-08</th>\n",
       "      <td>624</td>\n",
       "      <td>800</td>\n",
       "      <td>1621116.0</td>\n",
       "    </tr>\n",
       "    <tr>\n",
       "      <th>2016-10-09</th>\n",
       "      <td>679</td>\n",
       "      <td>841</td>\n",
       "      <td>1726626.0</td>\n",
       "    </tr>\n",
       "    <tr>\n",
       "      <th>2016-10-10</th>\n",
       "      <td>830</td>\n",
       "      <td>965</td>\n",
       "      <td>2090288.0</td>\n",
       "    </tr>\n",
       "    <tr>\n",
       "      <th>2016-10-11</th>\n",
       "      <td>606</td>\n",
       "      <td>1007</td>\n",
       "      <td>1908588.0</td>\n",
       "    </tr>\n",
       "    <tr>\n",
       "      <th>2016-10-12</th>\n",
       "      <td>780</td>\n",
       "      <td>1193</td>\n",
       "      <td>2280030.0</td>\n",
       "    </tr>\n",
       "    <tr>\n",
       "      <th>2016-10-13</th>\n",
       "      <td>887</td>\n",
       "      <td>1103</td>\n",
       "      <td>2214681.0</td>\n",
       "    </tr>\n",
       "    <tr>\n",
       "      <th>2016-10-14</th>\n",
       "      <td>845</td>\n",
       "      <td>1010</td>\n",
       "      <td>2057810.0</td>\n",
       "    </tr>\n",
       "    <tr>\n",
       "      <th>2016-10-15</th>\n",
       "      <td>973</td>\n",
       "      <td>1077</td>\n",
       "      <td>2252147.0</td>\n",
       "    </tr>\n",
       "    <tr>\n",
       "      <th>2016-10-16</th>\n",
       "      <td>879</td>\n",
       "      <td>904</td>\n",
       "      <td>1993762.0</td>\n",
       "    </tr>\n",
       "    <tr>\n",
       "      <th>2016-10-17</th>\n",
       "      <td>552</td>\n",
       "      <td>610</td>\n",
       "      <td>1265188.0</td>\n",
       "    </tr>\n",
       "    <tr>\n",
       "      <th>2016-10-18</th>\n",
       "      <td>524</td>\n",
       "      <td>768</td>\n",
       "      <td>1438846.0</td>\n",
       "    </tr>\n",
       "    <tr>\n",
       "      <th>2016-10-19</th>\n",
       "      <td>428</td>\n",
       "      <td>674</td>\n",
       "      <td>1239557.0</td>\n",
       "    </tr>\n",
       "    <tr>\n",
       "      <th>2016-10-20</th>\n",
       "      <td>494</td>\n",
       "      <td>732</td>\n",
       "      <td>1300970.0</td>\n",
       "    </tr>\n",
       "    <tr>\n",
       "      <th>2016-10-21</th>\n",
       "      <td>431</td>\n",
       "      <td>654</td>\n",
       "      <td>1197875.0</td>\n",
       "    </tr>\n",
       "    <tr>\n",
       "      <th>2016-10-22</th>\n",
       "      <td>529</td>\n",
       "      <td>675</td>\n",
       "      <td>1271742.0</td>\n",
       "    </tr>\n",
       "    <tr>\n",
       "      <th>2016-10-23</th>\n",
       "      <td>529</td>\n",
       "      <td>605</td>\n",
       "      <td>1232599.0</td>\n",
       "    </tr>\n",
       "    <tr>\n",
       "      <th>2016-10-24</th>\n",
       "      <td>456</td>\n",
       "      <td>796</td>\n",
       "      <td>1242184.0</td>\n",
       "    </tr>\n",
       "    <tr>\n",
       "      <th>2016-10-25</th>\n",
       "      <td>608</td>\n",
       "      <td>1171</td>\n",
       "      <td>1716236.0</td>\n",
       "    </tr>\n",
       "    <tr>\n",
       "      <th>2016-10-26</th>\n",
       "      <td>515</td>\n",
       "      <td>841</td>\n",
       "      <td>1275024.0</td>\n",
       "    </tr>\n",
       "    <tr>\n",
       "      <th>2016-10-27</th>\n",
       "      <td>479</td>\n",
       "      <td>784</td>\n",
       "      <td>1212080.0</td>\n",
       "    </tr>\n",
       "    <tr>\n",
       "      <th>2016-10-28</th>\n",
       "      <td>495</td>\n",
       "      <td>702</td>\n",
       "      <td>1207933.0</td>\n",
       "    </tr>\n",
       "    <tr>\n",
       "      <th>2016-10-29</th>\n",
       "      <td>709</td>\n",
       "      <td>960</td>\n",
       "      <td>1610924.0</td>\n",
       "    </tr>\n",
       "    <tr>\n",
       "      <th>2016-10-30</th>\n",
       "      <td>954</td>\n",
       "      <td>1372</td>\n",
       "      <td>2176244.0</td>\n",
       "    </tr>\n",
       "    <tr>\n",
       "      <th>2016-10-31</th>\n",
       "      <td>1084</td>\n",
       "      <td>1472</td>\n",
       "      <td>2388885.0</td>\n",
       "    </tr>\n",
       "    <tr>\n",
       "      <th>2016-11-01</th>\n",
       "      <td>682</td>\n",
       "      <td>933</td>\n",
       "      <td>1812750.0</td>\n",
       "    </tr>\n",
       "    <tr>\n",
       "      <th>2016-11-02</th>\n",
       "      <td>778</td>\n",
       "      <td>1118</td>\n",
       "      <td>2152838.0</td>\n",
       "    </tr>\n",
       "    <tr>\n",
       "      <th>2016-11-03</th>\n",
       "      <td>829</td>\n",
       "      <td>1063</td>\n",
       "      <td>2185094.0</td>\n",
       "    </tr>\n",
       "    <tr>\n",
       "      <th>2016-11-04</th>\n",
       "      <td>911</td>\n",
       "      <td>967</td>\n",
       "      <td>2161409.0</td>\n",
       "    </tr>\n",
       "    <tr>\n",
       "      <th>2016-11-05</th>\n",
       "      <td>897</td>\n",
       "      <td>980</td>\n",
       "      <td>2095051.0</td>\n",
       "    </tr>\n",
       "    <tr>\n",
       "      <th>2016-11-06</th>\n",
       "      <td>1085</td>\n",
       "      <td>937</td>\n",
       "      <td>2268338.0</td>\n",
       "    </tr>\n",
       "    <tr>\n",
       "      <th>2016-11-07</th>\n",
       "      <td>728</td>\n",
       "      <td>789</td>\n",
       "      <td>1731750.0</td>\n",
       "    </tr>\n",
       "    <tr>\n",
       "      <th>2016-11-08</th>\n",
       "      <td>733</td>\n",
       "      <td>1087</td>\n",
       "      <td>2055610.0</td>\n",
       "    </tr>\n",
       "    <tr>\n",
       "      <th>2016-11-09</th>\n",
       "      <td>873</td>\n",
       "      <td>1201</td>\n",
       "      <td>2344910.0</td>\n",
       "    </tr>\n",
       "    <tr>\n",
       "      <th>2016-11-10</th>\n",
       "      <td>1320</td>\n",
       "      <td>1898</td>\n",
       "      <td>3478329.0</td>\n",
       "    </tr>\n",
       "  </tbody>\n",
       "</table>\n",
       "</div>"
      ],
      "text/plain": [
       "             new  wakeup   interest\n",
       "time                               \n",
       "2016-09-30   930     957  1933235.0\n",
       "2016-10-01  1004    1129  2153083.0\n",
       "2016-10-02  1168    1109  2318521.0\n",
       "2016-10-03   622     803  1544087.0\n",
       "2016-10-04   619     983  1883952.0\n",
       "2016-10-05   615     944  1774519.0\n",
       "2016-10-06   621     910  1749925.0\n",
       "2016-10-07   540     762  1485732.0\n",
       "2016-10-08   624     800  1621116.0\n",
       "2016-10-09   679     841  1726626.0\n",
       "2016-10-10   830     965  2090288.0\n",
       "2016-10-11   606    1007  1908588.0\n",
       "2016-10-12   780    1193  2280030.0\n",
       "2016-10-13   887    1103  2214681.0\n",
       "2016-10-14   845    1010  2057810.0\n",
       "2016-10-15   973    1077  2252147.0\n",
       "2016-10-16   879     904  1993762.0\n",
       "2016-10-17   552     610  1265188.0\n",
       "2016-10-18   524     768  1438846.0\n",
       "2016-10-19   428     674  1239557.0\n",
       "2016-10-20   494     732  1300970.0\n",
       "2016-10-21   431     654  1197875.0\n",
       "2016-10-22   529     675  1271742.0\n",
       "2016-10-23   529     605  1232599.0\n",
       "2016-10-24   456     796  1242184.0\n",
       "2016-10-25   608    1171  1716236.0\n",
       "2016-10-26   515     841  1275024.0\n",
       "2016-10-27   479     784  1212080.0\n",
       "2016-10-28   495     702  1207933.0\n",
       "2016-10-29   709     960  1610924.0\n",
       "2016-10-30   954    1372  2176244.0\n",
       "2016-10-31  1084    1472  2388885.0\n",
       "2016-11-01   682     933  1812750.0\n",
       "2016-11-02   778    1118  2152838.0\n",
       "2016-11-03   829    1063  2185094.0\n",
       "2016-11-04   911     967  2161409.0\n",
       "2016-11-05   897     980  2095051.0\n",
       "2016-11-06  1085     937  2268338.0\n",
       "2016-11-07   728     789  1731750.0\n",
       "2016-11-08   733    1087  2055610.0\n",
       "2016-11-09   873    1201  2344910.0\n",
       "2016-11-10  1320    1898  3478329.0"
      ]
     },
     "execution_count": 79,
     "metadata": {},
     "output_type": "execute_result"
    }
   ],
   "source": [
    "temp1"
   ]
  },
  {
   "cell_type": "code",
   "execution_count": 80,
   "metadata": {},
   "outputs": [
    {
     "data": {
      "text/plain": [
       "Int64Index([135, 137, 136, 144, 193, 192, 209, 225, 243,   0,\n",
       "            ...\n",
       "            233, 234, 235, 236, 237, 238, 239, 240, 241, 242],\n",
       "           dtype='int64', length=244)"
      ]
     },
     "execution_count": 80,
     "metadata": {},
     "output_type": "execute_result"
    }
   ],
   "source": [
    "promotionData.index"
   ]
  },
  {
   "cell_type": "code",
   "execution_count": 81,
   "metadata": {},
   "outputs": [
    {
     "data": {
      "text/plain": [
       "'2015-06-02 16:00:00.000'"
      ]
     },
     "execution_count": 81,
     "metadata": {},
     "output_type": "execute_result"
    }
   ],
   "source": [
    "promotionData['PromotionStartDateTime'][135]"
   ]
  },
  {
   "cell_type": "code",
   "execution_count": 82,
   "metadata": {},
   "outputs": [
    {
     "name": "stderr",
     "output_type": "stream",
     "text": [
      "c:\\users\\alex\\appdata\\local\\programs\\python\\python36\\lib\\site-packages\\ipykernel_launcher.py:11: RuntimeWarning: invalid value encountered in double_scalars\n",
      "  # This is added back by InteractiveShellApp.init_path()\n",
      "c:\\users\\alex\\appdata\\local\\programs\\python\\python36\\lib\\site-packages\\ipykernel_launcher.py:12: RuntimeWarning: invalid value encountered in longlong_scalars\n",
      "  if sys.path[0] == '':\n",
      "c:\\users\\alex\\appdata\\local\\programs\\python\\python36\\lib\\site-packages\\ipykernel_launcher.py:13: RuntimeWarning: invalid value encountered in longlong_scalars\n",
      "  del sys.path[0]\n"
     ]
    }
   ],
   "source": [
    "dateInterestList=[]\n",
    "newPerDayList=[]\n",
    "wakeUpPerDayList=[]\n",
    "lenn=[]\n",
    "summ=[]\n",
    "for i in list(promotionData.index):\n",
    "    temp=tempPan[tempPan.index>=promotionData['PromotionStartDateTime'][i]]\n",
    "    temp1=temp[temp.index<=promotionData['PromotionEndDateTime'][i]]\n",
    "    lenn.append(len(temp1))\n",
    "    summ.append(temp1[\"new\"].sum())\n",
    "    dateInterestList.append(temp1[\"interest\"].sum()/len(temp1))\n",
    "    newPerDayList.append(temp1[\"new\"].sum()/len(temp1))\n",
    "    wakeUpPerDayList.append(temp1[\"wakeup\"].sum()/len(temp1))"
   ]
  },
  {
   "cell_type": "code",
   "execution_count": 83,
   "metadata": {},
   "outputs": [
    {
     "data": {
      "text/plain": [
       "array([  7,  10,  18, ..., 295, 388, 183])"
      ]
     },
     "execution_count": 83,
     "metadata": {},
     "output_type": "execute_result"
    }
   ],
   "source": [
    "answer"
   ]
  },
  {
   "cell_type": "code",
   "execution_count": 84,
   "metadata": {},
   "outputs": [
    {
     "data": {
      "text/plain": [
       "nan"
      ]
     },
     "execution_count": 84,
     "metadata": {},
     "output_type": "execute_result"
    }
   ],
   "source": [
    "wakeUpPerDayList[-1]"
   ]
  },
  {
   "cell_type": "code",
   "execution_count": 85,
   "metadata": {},
   "outputs": [],
   "source": [
    "promotionDataInteresting=promotionData.copy()\n",
    "promotionDataInteresting[\"Interest per day\"]=dateInterestList\n",
    "promotionDataInteresting[\"newcustomer per day\"]=newPerDayList\n",
    "promotionDataInteresting[\"wake up customer per day\"]=wakeUpPerDayList\n",
    "promotionDataInteresting[\"lenn\"]=lenn\n",
    "promotionDataInteresting[\"summ\"]=summ"
   ]
  },
  {
   "cell_type": "code",
   "execution_count": 86,
   "metadata": {},
   "outputs": [
    {
     "data": {
      "text/html": [
       "<div>\n",
       "<style scoped>\n",
       "    .dataframe tbody tr th:only-of-type {\n",
       "        vertical-align: middle;\n",
       "    }\n",
       "\n",
       "    .dataframe tbody tr th {\n",
       "        vertical-align: top;\n",
       "    }\n",
       "\n",
       "    .dataframe thead th {\n",
       "        text-align: right;\n",
       "    }\n",
       "</style>\n",
       "<table border=\"1\" class=\"dataframe\">\n",
       "  <thead>\n",
       "    <tr style=\"text-align: right;\">\n",
       "      <th></th>\n",
       "      <th>PromotionId</th>\n",
       "      <th>DiscountType</th>\n",
       "      <th>PromotionCondition_DiscountPrice</th>\n",
       "      <th>PromotionCondition_DiscountRate</th>\n",
       "      <th>PromotionCondition_TotalPrice</th>\n",
       "      <th>PromotionCondition_TotalQty</th>\n",
       "      <th>PromotionStartDateTime</th>\n",
       "      <th>PromotionEndDateTime</th>\n",
       "      <th>Interest per day</th>\n",
       "      <th>newcustomer per day</th>\n",
       "      <th>wake up customer per day</th>\n",
       "      <th>lenn</th>\n",
       "      <th>summ</th>\n",
       "    </tr>\n",
       "  </thead>\n",
       "  <tbody>\n",
       "    <tr>\n",
       "      <th>58</th>\n",
       "      <td>37453</td>\n",
       "      <td>滿額折現</td>\n",
       "      <td>100.0</td>\n",
       "      <td>0.00</td>\n",
       "      <td>888.0</td>\n",
       "      <td>0</td>\n",
       "      <td>2016-11-10 10:00:00.000</td>\n",
       "      <td>2016-11-11 09:59:00.000</td>\n",
       "      <td>6.020827e+06</td>\n",
       "      <td>2462.000000</td>\n",
       "      <td>3106.000000</td>\n",
       "      <td>1</td>\n",
       "      <td>2462</td>\n",
       "    </tr>\n",
       "    <tr>\n",
       "      <th>175</th>\n",
       "      <td>77395</td>\n",
       "      <td>滿件打折</td>\n",
       "      <td>0.0</td>\n",
       "      <td>0.88</td>\n",
       "      <td>0.0</td>\n",
       "      <td>2</td>\n",
       "      <td>2017-11-10 00:00:00.000</td>\n",
       "      <td>2017-11-15 10:59:00.000</td>\n",
       "      <td>3.534610e+06</td>\n",
       "      <td>980.333333</td>\n",
       "      <td>2181.666667</td>\n",
       "      <td>6</td>\n",
       "      <td>5882</td>\n",
       "    </tr>\n",
       "    <tr>\n",
       "      <th>59</th>\n",
       "      <td>37454</td>\n",
       "      <td>滿額折現</td>\n",
       "      <td>120.0</td>\n",
       "      <td>0.00</td>\n",
       "      <td>1000.0</td>\n",
       "      <td>0</td>\n",
       "      <td>2016-11-11 10:00:00.000</td>\n",
       "      <td>2016-11-14 14:00:00.000</td>\n",
       "      <td>3.531532e+06</td>\n",
       "      <td>1645.666667</td>\n",
       "      <td>1593.000000</td>\n",
       "      <td>3</td>\n",
       "      <td>4937</td>\n",
       "    </tr>\n",
       "    <tr>\n",
       "      <th>60</th>\n",
       "      <td>37646</td>\n",
       "      <td>滿額折現</td>\n",
       "      <td>100.0</td>\n",
       "      <td>0.00</td>\n",
       "      <td>800.0</td>\n",
       "      <td>0</td>\n",
       "      <td>2016-11-08 10:00:00.000</td>\n",
       "      <td>2016-11-10 09:59:00.000</td>\n",
       "      <td>2.911620e+06</td>\n",
       "      <td>1096.500000</td>\n",
       "      <td>1549.500000</td>\n",
       "      <td>2</td>\n",
       "      <td>2193</td>\n",
       "    </tr>\n",
       "    <tr>\n",
       "      <th>75</th>\n",
       "      <td>41127</td>\n",
       "      <td>滿額打折</td>\n",
       "      <td>0.0</td>\n",
       "      <td>0.65</td>\n",
       "      <td>1200.0</td>\n",
       "      <td>0</td>\n",
       "      <td>2016-12-12 11:00:00.000</td>\n",
       "      <td>2016-12-16 10:59:00.000</td>\n",
       "      <td>2.843884e+06</td>\n",
       "      <td>821.500000</td>\n",
       "      <td>1439.750000</td>\n",
       "      <td>4</td>\n",
       "      <td>3286</td>\n",
       "    </tr>\n",
       "  </tbody>\n",
       "</table>\n",
       "</div>"
      ],
      "text/plain": [
       "    PromotionId DiscountType  PromotionCondition_DiscountPrice  \\\n",
       "58        37453         滿額折現                             100.0   \n",
       "175       77395         滿件打折                               0.0   \n",
       "59        37454         滿額折現                             120.0   \n",
       "60        37646         滿額折現                             100.0   \n",
       "75        41127         滿額打折                               0.0   \n",
       "\n",
       "     PromotionCondition_DiscountRate  PromotionCondition_TotalPrice  \\\n",
       "58                              0.00                          888.0   \n",
       "175                             0.88                            0.0   \n",
       "59                              0.00                         1000.0   \n",
       "60                              0.00                          800.0   \n",
       "75                              0.65                         1200.0   \n",
       "\n",
       "     PromotionCondition_TotalQty   PromotionStartDateTime  \\\n",
       "58                             0  2016-11-10 10:00:00.000   \n",
       "175                            2  2017-11-10 00:00:00.000   \n",
       "59                             0  2016-11-11 10:00:00.000   \n",
       "60                             0  2016-11-08 10:00:00.000   \n",
       "75                             0  2016-12-12 11:00:00.000   \n",
       "\n",
       "        PromotionEndDateTime  Interest per day  newcustomer per day  \\\n",
       "58   2016-11-11 09:59:00.000      6.020827e+06          2462.000000   \n",
       "175  2017-11-15 10:59:00.000      3.534610e+06           980.333333   \n",
       "59   2016-11-14 14:00:00.000      3.531532e+06          1645.666667   \n",
       "60   2016-11-10 09:59:00.000      2.911620e+06          1096.500000   \n",
       "75   2016-12-16 10:59:00.000      2.843884e+06           821.500000   \n",
       "\n",
       "     wake up customer per day  lenn  summ  \n",
       "58                3106.000000     1  2462  \n",
       "175               2181.666667     6  5882  \n",
       "59                1593.000000     3  4937  \n",
       "60                1549.500000     2  2193  \n",
       "75                1439.750000     4  3286  "
      ]
     },
     "execution_count": 86,
     "metadata": {},
     "output_type": "execute_result"
    }
   ],
   "source": [
    "promotionDataInteresting.sort_values(by=[\"Interest per day\"],ascending=False).head()"
   ]
  },
  {
   "cell_type": "code",
   "execution_count": 87,
   "metadata": {},
   "outputs": [
    {
     "data": {
      "text/html": [
       "<div>\n",
       "<style scoped>\n",
       "    .dataframe tbody tr th:only-of-type {\n",
       "        vertical-align: middle;\n",
       "    }\n",
       "\n",
       "    .dataframe tbody tr th {\n",
       "        vertical-align: top;\n",
       "    }\n",
       "\n",
       "    .dataframe thead th {\n",
       "        text-align: right;\n",
       "    }\n",
       "</style>\n",
       "<table border=\"1\" class=\"dataframe\">\n",
       "  <thead>\n",
       "    <tr style=\"text-align: right;\">\n",
       "      <th></th>\n",
       "      <th>PromotionId</th>\n",
       "      <th>DiscountType</th>\n",
       "      <th>PromotionCondition_DiscountPrice</th>\n",
       "      <th>PromotionCondition_DiscountRate</th>\n",
       "      <th>PromotionCondition_TotalPrice</th>\n",
       "      <th>PromotionCondition_TotalQty</th>\n",
       "      <th>PromotionStartDateTime</th>\n",
       "      <th>PromotionEndDateTime</th>\n",
       "      <th>Interest per day</th>\n",
       "      <th>newcustomer per day</th>\n",
       "      <th>wake up customer per day</th>\n",
       "      <th>lenn</th>\n",
       "      <th>summ</th>\n",
       "    </tr>\n",
       "  </thead>\n",
       "  <tbody>\n",
       "    <tr>\n",
       "      <th>58</th>\n",
       "      <td>37453</td>\n",
       "      <td>滿額折現</td>\n",
       "      <td>100.0</td>\n",
       "      <td>0.0</td>\n",
       "      <td>888.0</td>\n",
       "      <td>0</td>\n",
       "      <td>2016-11-10 10:00:00.000</td>\n",
       "      <td>2016-11-11 09:59:00.000</td>\n",
       "      <td>6.020827e+06</td>\n",
       "      <td>2462.000000</td>\n",
       "      <td>3106.000000</td>\n",
       "      <td>1</td>\n",
       "      <td>2462</td>\n",
       "    </tr>\n",
       "    <tr>\n",
       "      <th>59</th>\n",
       "      <td>37454</td>\n",
       "      <td>滿額折現</td>\n",
       "      <td>120.0</td>\n",
       "      <td>0.0</td>\n",
       "      <td>1000.0</td>\n",
       "      <td>0</td>\n",
       "      <td>2016-11-11 10:00:00.000</td>\n",
       "      <td>2016-11-14 14:00:00.000</td>\n",
       "      <td>3.531532e+06</td>\n",
       "      <td>1645.666667</td>\n",
       "      <td>1593.000000</td>\n",
       "      <td>3</td>\n",
       "      <td>4937</td>\n",
       "    </tr>\n",
       "    <tr>\n",
       "      <th>17</th>\n",
       "      <td>20131</td>\n",
       "      <td>任選優惠價</td>\n",
       "      <td>299.0</td>\n",
       "      <td>0.0</td>\n",
       "      <td>0.0</td>\n",
       "      <td>2</td>\n",
       "      <td>2016-03-03 10:00:00.000</td>\n",
       "      <td>2016-03-16 17:59:00.000</td>\n",
       "      <td>1.653838e+06</td>\n",
       "      <td>1147.384615</td>\n",
       "      <td>703.538462</td>\n",
       "      <td>13</td>\n",
       "      <td>14916</td>\n",
       "    </tr>\n",
       "    <tr>\n",
       "      <th>32</th>\n",
       "      <td>26944</td>\n",
       "      <td>任選優惠價</td>\n",
       "      <td>388.0</td>\n",
       "      <td>0.0</td>\n",
       "      <td>0.0</td>\n",
       "      <td>2</td>\n",
       "      <td>2016-06-27 11:00:00.000</td>\n",
       "      <td>2016-07-20 18:05:00.000</td>\n",
       "      <td>1.889682e+06</td>\n",
       "      <td>1110.130435</td>\n",
       "      <td>1100.521739</td>\n",
       "      <td>23</td>\n",
       "      <td>25533</td>\n",
       "    </tr>\n",
       "    <tr>\n",
       "      <th>60</th>\n",
       "      <td>37646</td>\n",
       "      <td>滿額折現</td>\n",
       "      <td>100.0</td>\n",
       "      <td>0.0</td>\n",
       "      <td>800.0</td>\n",
       "      <td>0</td>\n",
       "      <td>2016-11-08 10:00:00.000</td>\n",
       "      <td>2016-11-10 09:59:00.000</td>\n",
       "      <td>2.911620e+06</td>\n",
       "      <td>1096.500000</td>\n",
       "      <td>1549.500000</td>\n",
       "      <td>2</td>\n",
       "      <td>2193</td>\n",
       "    </tr>\n",
       "  </tbody>\n",
       "</table>\n",
       "</div>"
      ],
      "text/plain": [
       "   PromotionId DiscountType  PromotionCondition_DiscountPrice  \\\n",
       "58       37453         滿額折現                             100.0   \n",
       "59       37454         滿額折現                             120.0   \n",
       "17       20131        任選優惠價                             299.0   \n",
       "32       26944        任選優惠價                             388.0   \n",
       "60       37646         滿額折現                             100.0   \n",
       "\n",
       "    PromotionCondition_DiscountRate  PromotionCondition_TotalPrice  \\\n",
       "58                              0.0                          888.0   \n",
       "59                              0.0                         1000.0   \n",
       "17                              0.0                            0.0   \n",
       "32                              0.0                            0.0   \n",
       "60                              0.0                          800.0   \n",
       "\n",
       "    PromotionCondition_TotalQty   PromotionStartDateTime  \\\n",
       "58                            0  2016-11-10 10:00:00.000   \n",
       "59                            0  2016-11-11 10:00:00.000   \n",
       "17                            2  2016-03-03 10:00:00.000   \n",
       "32                            2  2016-06-27 11:00:00.000   \n",
       "60                            0  2016-11-08 10:00:00.000   \n",
       "\n",
       "       PromotionEndDateTime  Interest per day  newcustomer per day  \\\n",
       "58  2016-11-11 09:59:00.000      6.020827e+06          2462.000000   \n",
       "59  2016-11-14 14:00:00.000      3.531532e+06          1645.666667   \n",
       "17  2016-03-16 17:59:00.000      1.653838e+06          1147.384615   \n",
       "32  2016-07-20 18:05:00.000      1.889682e+06          1110.130435   \n",
       "60  2016-11-10 09:59:00.000      2.911620e+06          1096.500000   \n",
       "\n",
       "    wake up customer per day  lenn   summ  \n",
       "58               3106.000000     1   2462  \n",
       "59               1593.000000     3   4937  \n",
       "17                703.538462    13  14916  \n",
       "32               1100.521739    23  25533  \n",
       "60               1549.500000     2   2193  "
      ]
     },
     "execution_count": 87,
     "metadata": {},
     "output_type": "execute_result"
    }
   ],
   "source": [
    "promotionDataInteresting.sort_values(by=[\"newcustomer per day\"],ascending=False).head()"
   ]
  },
  {
   "cell_type": "code",
   "execution_count": 88,
   "metadata": {},
   "outputs": [
    {
     "data": {
      "text/html": [
       "<div>\n",
       "<style scoped>\n",
       "    .dataframe tbody tr th:only-of-type {\n",
       "        vertical-align: middle;\n",
       "    }\n",
       "\n",
       "    .dataframe tbody tr th {\n",
       "        vertical-align: top;\n",
       "    }\n",
       "\n",
       "    .dataframe thead th {\n",
       "        text-align: right;\n",
       "    }\n",
       "</style>\n",
       "<table border=\"1\" class=\"dataframe\">\n",
       "  <thead>\n",
       "    <tr style=\"text-align: right;\">\n",
       "      <th></th>\n",
       "      <th>PromotionId</th>\n",
       "      <th>DiscountType</th>\n",
       "      <th>PromotionCondition_DiscountPrice</th>\n",
       "      <th>PromotionCondition_DiscountRate</th>\n",
       "      <th>PromotionCondition_TotalPrice</th>\n",
       "      <th>PromotionCondition_TotalQty</th>\n",
       "      <th>PromotionStartDateTime</th>\n",
       "      <th>PromotionEndDateTime</th>\n",
       "      <th>Interest per day</th>\n",
       "      <th>newcustomer per day</th>\n",
       "      <th>wake up customer per day</th>\n",
       "      <th>lenn</th>\n",
       "      <th>summ</th>\n",
       "    </tr>\n",
       "  </thead>\n",
       "  <tbody>\n",
       "    <tr>\n",
       "      <th>58</th>\n",
       "      <td>37453</td>\n",
       "      <td>滿額折現</td>\n",
       "      <td>100.0</td>\n",
       "      <td>0.00</td>\n",
       "      <td>888.0</td>\n",
       "      <td>0</td>\n",
       "      <td>2016-11-10 10:00:00.000</td>\n",
       "      <td>2016-11-11 09:59:00.000</td>\n",
       "      <td>6.020827e+06</td>\n",
       "      <td>2462.000000</td>\n",
       "      <td>3106.000000</td>\n",
       "      <td>1</td>\n",
       "      <td>2462</td>\n",
       "    </tr>\n",
       "    <tr>\n",
       "      <th>175</th>\n",
       "      <td>77395</td>\n",
       "      <td>滿件打折</td>\n",
       "      <td>0.0</td>\n",
       "      <td>0.88</td>\n",
       "      <td>0.0</td>\n",
       "      <td>2</td>\n",
       "      <td>2017-11-10 00:00:00.000</td>\n",
       "      <td>2017-11-15 10:59:00.000</td>\n",
       "      <td>3.534610e+06</td>\n",
       "      <td>980.333333</td>\n",
       "      <td>2181.666667</td>\n",
       "      <td>6</td>\n",
       "      <td>5882</td>\n",
       "    </tr>\n",
       "    <tr>\n",
       "      <th>59</th>\n",
       "      <td>37454</td>\n",
       "      <td>滿額折現</td>\n",
       "      <td>120.0</td>\n",
       "      <td>0.00</td>\n",
       "      <td>1000.0</td>\n",
       "      <td>0</td>\n",
       "      <td>2016-11-11 10:00:00.000</td>\n",
       "      <td>2016-11-14 14:00:00.000</td>\n",
       "      <td>3.531532e+06</td>\n",
       "      <td>1645.666667</td>\n",
       "      <td>1593.000000</td>\n",
       "      <td>3</td>\n",
       "      <td>4937</td>\n",
       "    </tr>\n",
       "    <tr>\n",
       "      <th>60</th>\n",
       "      <td>37646</td>\n",
       "      <td>滿額折現</td>\n",
       "      <td>100.0</td>\n",
       "      <td>0.00</td>\n",
       "      <td>800.0</td>\n",
       "      <td>0</td>\n",
       "      <td>2016-11-08 10:00:00.000</td>\n",
       "      <td>2016-11-10 09:59:00.000</td>\n",
       "      <td>2.911620e+06</td>\n",
       "      <td>1096.500000</td>\n",
       "      <td>1549.500000</td>\n",
       "      <td>2</td>\n",
       "      <td>2193</td>\n",
       "    </tr>\n",
       "    <tr>\n",
       "      <th>110</th>\n",
       "      <td>57995</td>\n",
       "      <td>滿額折現</td>\n",
       "      <td>100.0</td>\n",
       "      <td>0.00</td>\n",
       "      <td>1000.0</td>\n",
       "      <td>0</td>\n",
       "      <td>2017-05-26 11:00:00.000</td>\n",
       "      <td>2017-05-31 10:59:00.000</td>\n",
       "      <td>2.313416e+06</td>\n",
       "      <td>869.600000</td>\n",
       "      <td>1511.200000</td>\n",
       "      <td>5</td>\n",
       "      <td>4348</td>\n",
       "    </tr>\n",
       "  </tbody>\n",
       "</table>\n",
       "</div>"
      ],
      "text/plain": [
       "    PromotionId DiscountType  PromotionCondition_DiscountPrice  \\\n",
       "58        37453         滿額折現                             100.0   \n",
       "175       77395         滿件打折                               0.0   \n",
       "59        37454         滿額折現                             120.0   \n",
       "60        37646         滿額折現                             100.0   \n",
       "110       57995         滿額折現                             100.0   \n",
       "\n",
       "     PromotionCondition_DiscountRate  PromotionCondition_TotalPrice  \\\n",
       "58                              0.00                          888.0   \n",
       "175                             0.88                            0.0   \n",
       "59                              0.00                         1000.0   \n",
       "60                              0.00                          800.0   \n",
       "110                             0.00                         1000.0   \n",
       "\n",
       "     PromotionCondition_TotalQty   PromotionStartDateTime  \\\n",
       "58                             0  2016-11-10 10:00:00.000   \n",
       "175                            2  2017-11-10 00:00:00.000   \n",
       "59                             0  2016-11-11 10:00:00.000   \n",
       "60                             0  2016-11-08 10:00:00.000   \n",
       "110                            0  2017-05-26 11:00:00.000   \n",
       "\n",
       "        PromotionEndDateTime  Interest per day  newcustomer per day  \\\n",
       "58   2016-11-11 09:59:00.000      6.020827e+06          2462.000000   \n",
       "175  2017-11-15 10:59:00.000      3.534610e+06           980.333333   \n",
       "59   2016-11-14 14:00:00.000      3.531532e+06          1645.666667   \n",
       "60   2016-11-10 09:59:00.000      2.911620e+06          1096.500000   \n",
       "110  2017-05-31 10:59:00.000      2.313416e+06           869.600000   \n",
       "\n",
       "     wake up customer per day  lenn  summ  \n",
       "58                3106.000000     1  2462  \n",
       "175               2181.666667     6  5882  \n",
       "59                1593.000000     3  4937  \n",
       "60                1549.500000     2  2193  \n",
       "110               1511.200000     5  4348  "
      ]
     },
     "execution_count": 88,
     "metadata": {},
     "output_type": "execute_result"
    }
   ],
   "source": [
    "promotionDataInteresting.sort_values(by=[\"wake up customer per day\"],ascending=False).head()"
   ]
  },
  {
   "cell_type": "code",
   "execution_count": 104,
   "metadata": {},
   "outputs": [],
   "source": [
    "def Caculate(list1,list2):\n",
    "    set1=set(list1)\n",
    "    temp={\"list1\":list1,\"list2\":list2}\n",
    "    temp=pd.DataFrame(temp)\n",
    "    templist1=[]\n",
    "    templist2=[]\n",
    "    for item in set1:\n",
    "        temp1=temp[temp[\"list1\"]==item]\n",
    "        templist1.append(item)\n",
    "        templist2.append(temp1[\"list2\"].sum()/len(temp1))\n",
    "    return templist1,templist2"
   ]
  },
  {
   "cell_type": "code",
   "execution_count": 124,
   "metadata": {},
   "outputs": [
    {
     "data": {
      "text/html": [
       "<div>\n",
       "<style scoped>\n",
       "    .dataframe tbody tr th:only-of-type {\n",
       "        vertical-align: middle;\n",
       "    }\n",
       "\n",
       "    .dataframe tbody tr th {\n",
       "        vertical-align: top;\n",
       "    }\n",
       "\n",
       "    .dataframe thead th {\n",
       "        text-align: right;\n",
       "    }\n",
       "</style>\n",
       "<table border=\"1\" class=\"dataframe\">\n",
       "  <thead>\n",
       "    <tr style=\"text-align: right;\">\n",
       "      <th></th>\n",
       "      <th>PromotionId</th>\n",
       "      <th>DiscountType</th>\n",
       "      <th>PromotionCondition_DiscountPrice</th>\n",
       "      <th>PromotionCondition_DiscountRate</th>\n",
       "      <th>PromotionCondition_TotalPrice</th>\n",
       "      <th>PromotionCondition_TotalQty</th>\n",
       "      <th>PromotionStartDateTime</th>\n",
       "      <th>PromotionEndDateTime</th>\n",
       "      <th>Interest per day</th>\n",
       "      <th>newcustomer per day</th>\n",
       "      <th>wake up customer per day</th>\n",
       "      <th>lenn</th>\n",
       "      <th>summ</th>\n",
       "    </tr>\n",
       "  </thead>\n",
       "  <tbody>\n",
       "    <tr>\n",
       "      <th>3</th>\n",
       "      <td>10705</td>\n",
       "      <td>任選優惠價</td>\n",
       "      <td>399.0</td>\n",
       "      <td>0.0</td>\n",
       "      <td>0.0</td>\n",
       "      <td>3</td>\n",
       "      <td>2015-09-04 11:00:00.000</td>\n",
       "      <td>2016-05-04 10:04:00.000</td>\n",
       "      <td>995470.119342</td>\n",
       "      <td>634.119342</td>\n",
       "      <td>449.596708</td>\n",
       "      <td>243</td>\n",
       "      <td>154091</td>\n",
       "    </tr>\n",
       "  </tbody>\n",
       "</table>\n",
       "</div>"
      ],
      "text/plain": [
       "  PromotionId DiscountType  PromotionCondition_DiscountPrice  \\\n",
       "3       10705        任選優惠價                             399.0   \n",
       "\n",
       "   PromotionCondition_DiscountRate  PromotionCondition_TotalPrice  \\\n",
       "3                              0.0                            0.0   \n",
       "\n",
       "   PromotionCondition_TotalQty   PromotionStartDateTime  \\\n",
       "3                            3  2015-09-04 11:00:00.000   \n",
       "\n",
       "      PromotionEndDateTime  Interest per day  newcustomer per day  \\\n",
       "3  2016-05-04 10:04:00.000     995470.119342           634.119342   \n",
       "\n",
       "   wake up customer per day  lenn    summ  \n",
       "3                449.596708   243  154091  "
      ]
     },
     "execution_count": 124,
     "metadata": {},
     "output_type": "execute_result"
    }
   ],
   "source": [
    "DiscountType1[DiscountType1[\"PromotionCondition_TotalQty\"]!=2]"
   ]
  },
  {
   "cell_type": "code",
   "execution_count": 90,
   "metadata": {
    "scrolled": false
   },
   "outputs": [
    {
     "data": {
      "text/plain": [
       "<matplotlib.axes._subplots.AxesSubplot at 0x1e3b0de9e80>"
      ]
     },
     "execution_count": 90,
     "metadata": {},
     "output_type": "execute_result"
    },
    {
     "data": {
      "image/png": "[encoded data removed]",
      "text/plain": [
       "<Figure size 1080x360 with 1 Axes>"
      ]
     },
     "metadata": {},
     "output_type": "display_data"
    }
   ],
   "source": [
    "DiscountType1=promotionDataInteresting[promotionDataInteresting[\"DiscountType\"]==\"任選優惠價\"]\n",
    "caculateList=Caculate(DiscountType1[\"PromotionCondition_DiscountPrice\"],DiscountType1[\"Interest per day\"])\n",
    "tempDic={\"price\":caculateList[0],\"interest\":caculateList[1]}\n",
    "tempPan=pd.DataFrame(tempDic)\n",
    "tempPan=tempPan.sort_values(by=\"price\")\n",
    "tempPan=tempPan.set_index(\"price\")\n",
    "tempPan.plot(figsize=(15,5))"
   ]
  },
  {
   "cell_type": "code",
   "execution_count": 128,
   "metadata": {},
   "outputs": [
    {
     "data": {
      "text/html": [
       "<div>\n",
       "<style scoped>\n",
       "    .dataframe tbody tr th:only-of-type {\n",
       "        vertical-align: middle;\n",
       "    }\n",
       "\n",
       "    .dataframe tbody tr th {\n",
       "        vertical-align: top;\n",
       "    }\n",
       "\n",
       "    .dataframe thead th {\n",
       "        text-align: right;\n",
       "    }\n",
       "</style>\n",
       "<table border=\"1\" class=\"dataframe\">\n",
       "  <thead>\n",
       "    <tr style=\"text-align: right;\">\n",
       "      <th></th>\n",
       "      <th>PromotionId</th>\n",
       "      <th>DiscountType</th>\n",
       "      <th>PromotionCondition_DiscountPrice</th>\n",
       "      <th>PromotionCondition_DiscountRate</th>\n",
       "      <th>PromotionCondition_TotalPrice</th>\n",
       "      <th>PromotionCondition_TotalQty</th>\n",
       "      <th>PromotionStartDateTime</th>\n",
       "      <th>PromotionEndDateTime</th>\n",
       "      <th>Interest per day</th>\n",
       "      <th>newcustomer per day</th>\n",
       "      <th>wake up customer per day</th>\n",
       "      <th>lenn</th>\n",
       "      <th>summ</th>\n",
       "    </tr>\n",
       "  </thead>\n",
       "  <tbody>\n",
       "    <tr>\n",
       "      <th>134</th>\n",
       "      <td>67076</td>\n",
       "      <td>滿件打折</td>\n",
       "      <td>0.0</td>\n",
       "      <td>0.79</td>\n",
       "      <td>0.0</td>\n",
       "      <td>4</td>\n",
       "      <td>2017-08-16 11:00:00.000</td>\n",
       "      <td>2017-08-18 12:59:00.000</td>\n",
       "      <td>1.021313e+06</td>\n",
       "      <td>345.500000</td>\n",
       "      <td>692.000000</td>\n",
       "      <td>2</td>\n",
       "      <td>691</td>\n",
       "    </tr>\n",
       "    <tr>\n",
       "      <th>138</th>\n",
       "      <td>67366</td>\n",
       "      <td>滿件打折</td>\n",
       "      <td>0.0</td>\n",
       "      <td>0.79</td>\n",
       "      <td>0.0</td>\n",
       "      <td>4</td>\n",
       "      <td>2017-08-18 13:00:00.000</td>\n",
       "      <td>2017-08-31 10:59:00.000</td>\n",
       "      <td>1.138353e+06</td>\n",
       "      <td>366.307692</td>\n",
       "      <td>750.769231</td>\n",
       "      <td>13</td>\n",
       "      <td>4762</td>\n",
       "    </tr>\n",
       "    <tr>\n",
       "      <th>142</th>\n",
       "      <td>68609</td>\n",
       "      <td>滿件打折</td>\n",
       "      <td>0.0</td>\n",
       "      <td>0.79</td>\n",
       "      <td>0.0</td>\n",
       "      <td>4</td>\n",
       "      <td>2017-08-31 11:00:00.000</td>\n",
       "      <td>2017-09-15 10:59:00.000</td>\n",
       "      <td>1.128324e+06</td>\n",
       "      <td>372.133333</td>\n",
       "      <td>769.866667</td>\n",
       "      <td>15</td>\n",
       "      <td>5582</td>\n",
       "    </tr>\n",
       "  </tbody>\n",
       "</table>\n",
       "</div>"
      ],
      "text/plain": [
       "    PromotionId DiscountType  PromotionCondition_DiscountPrice  \\\n",
       "134       67076         滿件打折                               0.0   \n",
       "138       67366         滿件打折                               0.0   \n",
       "142       68609         滿件打折                               0.0   \n",
       "\n",
       "     PromotionCondition_DiscountRate  PromotionCondition_TotalPrice  \\\n",
       "134                             0.79                            0.0   \n",
       "138                             0.79                            0.0   \n",
       "142                             0.79                            0.0   \n",
       "\n",
       "     PromotionCondition_TotalQty   PromotionStartDateTime  \\\n",
       "134                            4  2017-08-16 11:00:00.000   \n",
       "138                            4  2017-08-18 13:00:00.000   \n",
       "142                            4  2017-08-31 11:00:00.000   \n",
       "\n",
       "        PromotionEndDateTime  Interest per day  newcustomer per day  \\\n",
       "134  2017-08-18 12:59:00.000      1.021313e+06           345.500000   \n",
       "138  2017-08-31 10:59:00.000      1.138353e+06           366.307692   \n",
       "142  2017-09-15 10:59:00.000      1.128324e+06           372.133333   \n",
       "\n",
       "     wake up customer per day  lenn  summ  \n",
       "134                692.000000     2   691  \n",
       "138                750.769231    13  4762  \n",
       "142                769.866667    15  5582  "
      ]
     },
     "execution_count": 128,
     "metadata": {},
     "output_type": "execute_result"
    }
   ],
   "source": [
    "DiscountType2=promotionDataInteresting[promotionDataInteresting[\"DiscountType\"]==\"滿件打折\"]\n",
    "DiscountType2=DiscountType2[DiscountType2[\"PromotionCondition_DiscountRate\"]!=0]\n",
    "DiscountType2[DiscountType2[\"PromotionCondition_TotalQty\"]!=2]"
   ]
  },
  {
   "cell_type": "code",
   "execution_count": 129,
   "metadata": {
    "scrolled": false
   },
   "outputs": [
    {
     "data": {
      "text/plain": [
       "<matplotlib.axes._subplots.AxesSubplot at 0x1e3ba2cac88>"
      ]
     },
     "execution_count": 129,
     "metadata": {},
     "output_type": "execute_result"
    },
    {
     "data": {
      "image/png": "[encoded data removed]",
      "text/plain": [
       "<Figure size 1080x360 with 1 Axes>"
      ]
     },
     "metadata": {},
     "output_type": "display_data"
    }
   ],
   "source": [
    "DiscountType2=promotionDataInteresting[promotionDataInteresting[\"DiscountType\"]==\"滿件打折\"]\n",
    "DiscountType2=DiscountType2[DiscountType2[\"PromotionCondition_TotalQty\"]==2]\n",
    "caculateList=Caculate(DiscountType2[\"PromotionCondition_DiscountRate\"],DiscountType2[\"Interest per day\"])\n",
    "tempDic={\"price\":caculateList[0],\"interest\":caculateList[1]}\n",
    "tempPan=pd.DataFrame(tempDic)\n",
    "tempPan=tempPan.sort_values(by=\"price\")\n",
    "tempPan=tempPan.set_index(\"price\")\n",
    "tempPan.plot(figsize=(15,5))"
   ]
  },
  {
   "cell_type": "code",
   "execution_count": 115,
   "metadata": {
    "scrolled": false
   },
   "outputs": [
    {
     "name": "stdout",
     "output_type": "stream",
     "text": [
      "<class 'pandas.core.frame.DataFrame'>\n",
      "Int64Index: 41 entries, 144 to 230\n",
      "Data columns (total 13 columns):\n",
      "PromotionId                         41 non-null object\n",
      "DiscountType                        41 non-null object\n",
      "PromotionCondition_DiscountPrice    41 non-null float64\n",
      "PromotionCondition_DiscountRate     41 non-null float64\n",
      "PromotionCondition_TotalPrice       41 non-null float64\n",
      "PromotionCondition_TotalQty         41 non-null int64\n",
      "PromotionStartDateTime              41 non-null object\n",
      "PromotionEndDateTime                41 non-null object\n",
      "Interest per day                    41 non-null float64\n",
      "newcustomer per day                 41 non-null float64\n",
      "wake up customer per day            41 non-null float64\n",
      "lenn                                41 non-null int64\n",
      "summ                                41 non-null int64\n",
      "dtypes: float64(6), int64(3), object(4)\n",
      "memory usage: 4.5+ KB\n"
     ]
    }
   ],
   "source": [
    "DiscountType3.info()"
   ]
  },
  {
   "cell_type": "code",
   "execution_count": 120,
   "metadata": {
    "scrolled": true
   },
   "outputs": [
    {
     "data": {
      "text/html": [
       "<div>\n",
       "<style scoped>\n",
       "    .dataframe tbody tr th:only-of-type {\n",
       "        vertical-align: middle;\n",
       "    }\n",
       "\n",
       "    .dataframe tbody tr th {\n",
       "        vertical-align: top;\n",
       "    }\n",
       "\n",
       "    .dataframe thead th {\n",
       "        text-align: right;\n",
       "    }\n",
       "</style>\n",
       "<table border=\"1\" class=\"dataframe\">\n",
       "  <thead>\n",
       "    <tr style=\"text-align: right;\">\n",
       "      <th></th>\n",
       "      <th>interest</th>\n",
       "    </tr>\n",
       "    <tr>\n",
       "      <th>price</th>\n",
       "      <th></th>\n",
       "    </tr>\n",
       "  </thead>\n",
       "  <tbody>\n",
       "    <tr>\n",
       "      <th>100.01000.0</th>\n",
       "      <td>1.216674e+06</td>\n",
       "    </tr>\n",
       "    <tr>\n",
       "      <th>100.0800.0</th>\n",
       "      <td>1.595370e+06</td>\n",
       "    </tr>\n",
       "    <tr>\n",
       "      <th>100.0888.0</th>\n",
       "      <td>6.020827e+06</td>\n",
       "    </tr>\n",
       "    <tr>\n",
       "      <th>100.0899.0</th>\n",
       "      <td>1.950429e+06</td>\n",
       "    </tr>\n",
       "    <tr>\n",
       "      <th>111.01111.0</th>\n",
       "      <td>1.840787e+06</td>\n",
       "    </tr>\n",
       "    <tr>\n",
       "      <th>120.01000.0</th>\n",
       "      <td>2.562900e+06</td>\n",
       "    </tr>\n",
       "    <tr>\n",
       "      <th>120.01200.0</th>\n",
       "      <td>1.464348e+06</td>\n",
       "    </tr>\n",
       "    <tr>\n",
       "      <th>150.01000.0</th>\n",
       "      <td>1.846792e+06</td>\n",
       "    </tr>\n",
       "    <tr>\n",
       "      <th>150.01200.0</th>\n",
       "      <td>1.430817e+06</td>\n",
       "    </tr>\n",
       "    <tr>\n",
       "      <th>150.01500.0</th>\n",
       "      <td>1.712699e+06</td>\n",
       "    </tr>\n",
       "    <tr>\n",
       "      <th>150.0777.0</th>\n",
       "      <td>1.026975e+06</td>\n",
       "    </tr>\n",
       "    <tr>\n",
       "      <th>150.0800.0</th>\n",
       "      <td>6.893213e+05</td>\n",
       "    </tr>\n",
       "    <tr>\n",
       "      <th>150.0888.0</th>\n",
       "      <td>1.065718e+06</td>\n",
       "    </tr>\n",
       "    <tr>\n",
       "      <th>200.01200.0</th>\n",
       "      <td>1.511544e+06</td>\n",
       "    </tr>\n",
       "    <tr>\n",
       "      <th>300.01000.0</th>\n",
       "      <td>3.581855e+05</td>\n",
       "    </tr>\n",
       "    <tr>\n",
       "      <th>38.0299.0</th>\n",
       "      <td>1.321223e+06</td>\n",
       "    </tr>\n",
       "    <tr>\n",
       "      <th>39.0399.0</th>\n",
       "      <td>1.079419e+06</td>\n",
       "    </tr>\n",
       "    <tr>\n",
       "      <th>80.0800.0</th>\n",
       "      <td>1.898804e+06</td>\n",
       "    </tr>\n",
       "  </tbody>\n",
       "</table>\n",
       "</div>"
      ],
      "text/plain": [
       "                 interest\n",
       "price                    \n",
       "100.01000.0  1.216674e+06\n",
       "100.0800.0   1.595370e+06\n",
       "100.0888.0   6.020827e+06\n",
       "100.0899.0   1.950429e+06\n",
       "111.01111.0  1.840787e+06\n",
       "120.01000.0  2.562900e+06\n",
       "120.01200.0  1.464348e+06\n",
       "150.01000.0  1.846792e+06\n",
       "150.01200.0  1.430817e+06\n",
       "150.01500.0  1.712699e+06\n",
       "150.0777.0   1.026975e+06\n",
       "150.0800.0   6.893213e+05\n",
       "150.0888.0   1.065718e+06\n",
       "200.01200.0  1.511544e+06\n",
       "300.01000.0  3.581855e+05\n",
       "38.0299.0    1.321223e+06\n",
       "39.0399.0    1.079419e+06\n",
       "80.0800.0    1.898804e+06"
      ]
     },
     "execution_count": 120,
     "metadata": {},
     "output_type": "execute_result"
    }
   ],
   "source": [
    "tempPan"
   ]
  },
  {
   "cell_type": "code",
   "execution_count": 119,
   "metadata": {},
   "outputs": [
    {
     "name": "stderr",
     "output_type": "stream",
     "text": [
      "c:\\users\\alex\\appdata\\local\\programs\\python\\python36\\lib\\site-packages\\ipykernel_launcher.py:2: SettingWithCopyWarning: \n",
      "A value is trying to be set on a copy of a slice from a DataFrame.\n",
      "Try using .loc[row_indexer,col_indexer] = value instead\n",
      "\n",
      "See the caveats in the documentation: http://pandas.pydata.org/pandas-docs/stable/indexing.html#indexing-view-versus-copy\n",
      "  \n",
      "c:\\users\\alex\\appdata\\local\\programs\\python\\python36\\lib\\site-packages\\ipykernel_launcher.py:3: SettingWithCopyWarning: \n",
      "A value is trying to be set on a copy of a slice from a DataFrame.\n",
      "Try using .loc[row_indexer,col_indexer] = value instead\n",
      "\n",
      "See the caveats in the documentation: http://pandas.pydata.org/pandas-docs/stable/indexing.html#indexing-view-versus-copy\n",
      "  This is separate from the ipykernel package so we can avoid doing imports until\n",
      "c:\\users\\alex\\appdata\\local\\programs\\python\\python36\\lib\\site-packages\\ipykernel_launcher.py:4: SettingWithCopyWarning: \n",
      "A value is trying to be set on a copy of a slice from a DataFrame.\n",
      "Try using .loc[row_indexer,col_indexer] = value instead\n",
      "\n",
      "See the caveats in the documentation: http://pandas.pydata.org/pandas-docs/stable/indexing.html#indexing-view-versus-copy\n",
      "  after removing the cwd from sys.path.\n"
     ]
    },
    {
     "data": {
      "text/plain": [
       "<matplotlib.axes._subplots.AxesSubplot at 0x1e3b9b0b470>"
      ]
     },
     "execution_count": 119,
     "metadata": {},
     "output_type": "execute_result"
    },
    {
     "data": {
      "image/png": "[encoded data removed]",
      "text/plain": [
       "<Figure size 1080x360 with 1 Axes>"
      ]
     },
     "metadata": {},
     "output_type": "display_data"
    }
   ],
   "source": [
    "DiscountType3=promotionDataInteresting[promotionDataInteresting[\"DiscountType\"]==\"滿額折現\"]\n",
    "DiscountType3[\"PromotionCondition_DiscountPrice\"]=DiscountType3[\"PromotionCondition_DiscountPrice\"].astype(str)\n",
    "DiscountType3[\"PromotionCondition_TotalPrice\"]=DiscountType3[\"PromotionCondition_TotalPrice\"].astype(str)\n",
    "DiscountType3[\"PromotionConditionData\"]=DiscountType3[\"PromotionCondition_DiscountPrice\"]+DiscountType3[\"PromotionCondition_TotalPrice\"]\n",
    "caculateList=Caculate(DiscountType3[\"PromotionConditionData\"],DiscountType3[\"Interest per day\"])\n",
    "tempDic={\"price\":caculateList[0],\"interest\":caculateList[1]}\n",
    "tempPan=pd.DataFrame(tempDic)\n",
    "tempPan=tempPan.sort_values(by=\"price\")\n",
    "tempPan=tempPan.dropna()\n",
    "tempPan=tempPan.set_index(\"price\")\n",
    "tempPan.plot(figsize=(15,5))"
   ]
  },
  {
   "cell_type": "code",
   "execution_count": 132,
   "metadata": {},
   "outputs": [
    {
     "data": {
      "text/plain": [
       "['任選優惠價', '會員滿額打折', '滿件打折', '滿件折現', '滿額打折', '滿額折現', '滿額贈']"
      ]
     },
     "execution_count": 132,
     "metadata": {},
     "output_type": "execute_result"
    }
   ],
   "source": [
    "ooo=list(set(promotionDataInteresting[\"DiscountType\"]))\n",
    "ooo.sort()\n",
    "ooo"
   ]
  },
  {
   "cell_type": "code",
   "execution_count": 135,
   "metadata": {},
   "outputs": [
    {
     "data": {
      "text/html": [
       "<div>\n",
       "<style scoped>\n",
       "    .dataframe tbody tr th:only-of-type {\n",
       "        vertical-align: middle;\n",
       "    }\n",
       "\n",
       "    .dataframe tbody tr th {\n",
       "        vertical-align: top;\n",
       "    }\n",
       "\n",
       "    .dataframe thead th {\n",
       "        text-align: right;\n",
       "    }\n",
       "</style>\n",
       "<table border=\"1\" class=\"dataframe\">\n",
       "  <thead>\n",
       "    <tr style=\"text-align: right;\">\n",
       "      <th></th>\n",
       "      <th>PromotionId</th>\n",
       "      <th>DiscountType</th>\n",
       "      <th>PromotionCondition_DiscountPrice</th>\n",
       "      <th>PromotionCondition_DiscountRate</th>\n",
       "      <th>PromotionCondition_TotalPrice</th>\n",
       "      <th>PromotionCondition_TotalQty</th>\n",
       "      <th>PromotionStartDateTime</th>\n",
       "      <th>PromotionEndDateTime</th>\n",
       "      <th>Interest per day</th>\n",
       "      <th>newcustomer per day</th>\n",
       "      <th>wake up customer per day</th>\n",
       "      <th>lenn</th>\n",
       "      <th>summ</th>\n",
       "    </tr>\n",
       "  </thead>\n",
       "  <tbody>\n",
       "    <tr>\n",
       "      <th>145</th>\n",
       "      <td>70160</td>\n",
       "      <td>會員滿額打折</td>\n",
       "      <td>0.0</td>\n",
       "      <td>0.9</td>\n",
       "      <td>1.0</td>\n",
       "      <td>0</td>\n",
       "      <td>2017-09-11 16:00:00.000</td>\n",
       "      <td>2019-09-11 21:57:11.303</td>\n",
       "      <td>1.358528e+06</td>\n",
       "      <td>385.291667</td>\n",
       "      <td>828.638889</td>\n",
       "      <td>216</td>\n",
       "      <td>83223</td>\n",
       "    </tr>\n",
       "    <tr>\n",
       "      <th>146</th>\n",
       "      <td>70161</td>\n",
       "      <td>會員滿額打折</td>\n",
       "      <td>0.0</td>\n",
       "      <td>0.9</td>\n",
       "      <td>2500.0</td>\n",
       "      <td>0</td>\n",
       "      <td>2017-09-11 16:00:00.000</td>\n",
       "      <td>2019-09-11 21:58:53.140</td>\n",
       "      <td>1.358528e+06</td>\n",
       "      <td>385.291667</td>\n",
       "      <td>828.638889</td>\n",
       "      <td>216</td>\n",
       "      <td>83223</td>\n",
       "    </tr>\n",
       "  </tbody>\n",
       "</table>\n",
       "</div>"
      ],
      "text/plain": [
       "    PromotionId DiscountType  PromotionCondition_DiscountPrice  \\\n",
       "145       70160       會員滿額打折                               0.0   \n",
       "146       70161       會員滿額打折                               0.0   \n",
       "\n",
       "     PromotionCondition_DiscountRate  PromotionCondition_TotalPrice  \\\n",
       "145                              0.9                            1.0   \n",
       "146                              0.9                         2500.0   \n",
       "\n",
       "     PromotionCondition_TotalQty   PromotionStartDateTime  \\\n",
       "145                            0  2017-09-11 16:00:00.000   \n",
       "146                            0  2017-09-11 16:00:00.000   \n",
       "\n",
       "        PromotionEndDateTime  Interest per day  newcustomer per day  \\\n",
       "145  2019-09-11 21:57:11.303      1.358528e+06           385.291667   \n",
       "146  2019-09-11 21:58:53.140      1.358528e+06           385.291667   \n",
       "\n",
       "     wake up customer per day  lenn   summ  \n",
       "145                828.638889   216  83223  \n",
       "146                828.638889   216  83223  "
      ]
     },
     "execution_count": 135,
     "metadata": {},
     "output_type": "execute_result"
    }
   ],
   "source": [
    "DiscountType4=promotionDataInteresting[promotionDataInteresting[\"DiscountType\"]==\"會員滿額打折\"]\n",
    "DiscountType4"
   ]
  },
  {
   "cell_type": "code",
   "execution_count": 141,
   "metadata": {},
   "outputs": [
    {
     "name": "stderr",
     "output_type": "stream",
     "text": [
      "c:\\users\\alex\\appdata\\local\\programs\\python\\python36\\lib\\site-packages\\ipykernel_launcher.py:2: SettingWithCopyWarning: \n",
      "A value is trying to be set on a copy of a slice from a DataFrame.\n",
      "Try using .loc[row_indexer,col_indexer] = value instead\n",
      "\n",
      "See the caveats in the documentation: http://pandas.pydata.org/pandas-docs/stable/indexing.html#indexing-view-versus-copy\n",
      "  \n",
      "c:\\users\\alex\\appdata\\local\\programs\\python\\python36\\lib\\site-packages\\ipykernel_launcher.py:3: SettingWithCopyWarning: \n",
      "A value is trying to be set on a copy of a slice from a DataFrame.\n",
      "Try using .loc[row_indexer,col_indexer] = value instead\n",
      "\n",
      "See the caveats in the documentation: http://pandas.pydata.org/pandas-docs/stable/indexing.html#indexing-view-versus-copy\n",
      "  This is separate from the ipykernel package so we can avoid doing imports until\n",
      "c:\\users\\alex\\appdata\\local\\programs\\python\\python36\\lib\\site-packages\\ipykernel_launcher.py:4: SettingWithCopyWarning: \n",
      "A value is trying to be set on a copy of a slice from a DataFrame.\n",
      "Try using .loc[row_indexer,col_indexer] = value instead\n",
      "\n",
      "See the caveats in the documentation: http://pandas.pydata.org/pandas-docs/stable/indexing.html#indexing-view-versus-copy\n",
      "  after removing the cwd from sys.path.\n"
     ]
    },
    {
     "data": {
      "text/plain": [
       "<matplotlib.axes._subplots.AxesSubplot at 0x1e3b9f2b588>"
      ]
     },
     "execution_count": 141,
     "metadata": {},
     "output_type": "execute_result"
    },
    {
     "data": {
      "image/png": "[encoded data removed]",
      "text/plain": [
       "<Figure size 1080x360 with 1 Axes>"
      ]
     },
     "metadata": {},
     "output_type": "display_data"
    }
   ],
   "source": [
    "DiscountType5=promotionDataInteresting[promotionDataInteresting[\"DiscountType\"]==\"滿件折現\"]\n",
    "DiscountType5[\"PromotionCondition_DiscountPrice\"]=DiscountType5[\"PromotionCondition_DiscountPrice\"].astype(str)\n",
    "DiscountType5[\"PromotionCondition_TotalQty\"]=DiscountType5[\"PromotionCondition_TotalQty\"].astype(str)\n",
    "DiscountType5[\"PromotionConditionData\"]=DiscountType5[\"PromotionCondition_DiscountPrice\"]+DiscountType5[\"PromotionCondition_TotalQty\"]\n",
    "caculateList=Caculate(DiscountType5[\"PromotionConditionData\"],DiscountType5[\"Interest per day\"])\n",
    "tempDic={\"price\":caculateList[0],\"interest\":caculateList[1]}\n",
    "tempPan=pd.DataFrame(tempDic)\n",
    "tempPan=tempPan.sort_values(by=\"price\")\n",
    "tempPan=tempPan.dropna()\n",
    "tempPan=tempPan.set_index(\"price\")\n",
    "tempPan.plot(figsize=(15,5))"
   ]
  },
  {
   "cell_type": "code",
   "execution_count": 142,
   "metadata": {},
   "outputs": [
    {
     "name": "stderr",
     "output_type": "stream",
     "text": [
      "c:\\users\\alex\\appdata\\local\\programs\\python\\python36\\lib\\site-packages\\ipykernel_launcher.py:2: SettingWithCopyWarning: \n",
      "A value is trying to be set on a copy of a slice from a DataFrame.\n",
      "Try using .loc[row_indexer,col_indexer] = value instead\n",
      "\n",
      "See the caveats in the documentation: http://pandas.pydata.org/pandas-docs/stable/indexing.html#indexing-view-versus-copy\n",
      "  \n",
      "c:\\users\\alex\\appdata\\local\\programs\\python\\python36\\lib\\site-packages\\ipykernel_launcher.py:3: SettingWithCopyWarning: \n",
      "A value is trying to be set on a copy of a slice from a DataFrame.\n",
      "Try using .loc[row_indexer,col_indexer] = value instead\n",
      "\n",
      "See the caveats in the documentation: http://pandas.pydata.org/pandas-docs/stable/indexing.html#indexing-view-versus-copy\n",
      "  This is separate from the ipykernel package so we can avoid doing imports until\n",
      "c:\\users\\alex\\appdata\\local\\programs\\python\\python36\\lib\\site-packages\\ipykernel_launcher.py:4: SettingWithCopyWarning: \n",
      "A value is trying to be set on a copy of a slice from a DataFrame.\n",
      "Try using .loc[row_indexer,col_indexer] = value instead\n",
      "\n",
      "See the caveats in the documentation: http://pandas.pydata.org/pandas-docs/stable/indexing.html#indexing-view-versus-copy\n",
      "  after removing the cwd from sys.path.\n"
     ]
    },
    {
     "data": {
      "text/plain": [
       "<matplotlib.axes._subplots.AxesSubplot at 0x1e3ba6a2518>"
      ]
     },
     "execution_count": 142,
     "metadata": {},
     "output_type": "execute_result"
    },
    {
     "data": {
      "image/png": "[encoded data removed]",
      "text/plain": [
       "<Figure size 1080x360 with 1 Axes>"
      ]
     },
     "metadata": {},
     "output_type": "display_data"
    }
   ],
   "source": [
    "DiscountType6=promotionDataInteresting[promotionDataInteresting[\"DiscountType\"]==\"滿額打折\"]\n",
    "DiscountType6[\"PromotionCondition_DiscountRate\"]=DiscountType6[\"PromotionCondition_DiscountRate\"].astype(str)\n",
    "DiscountType6[\"PromotionCondition_TotalPrice\"]=DiscountType6[\"PromotionCondition_TotalPrice\"].astype(str)\n",
    "DiscountType6[\"PromotionConditionData\"]=DiscountType6[\"PromotionCondition_DiscountRate\"]+DiscountType6[\"PromotionCondition_TotalPrice\"]\n",
    "caculateList=Caculate(DiscountType6[\"PromotionConditionData\"],DiscountType6[\"Interest per day\"])\n",
    "tempDic={\"price\":caculateList[0],\"interest\":caculateList[1]}\n",
    "tempPan=pd.DataFrame(tempDic)\n",
    "tempPan=tempPan.sort_values(by=\"price\")\n",
    "tempPan=tempPan.dropna()\n",
    "tempPan=tempPan.set_index(\"price\")\n",
    "tempPan.plot(figsize=(15,5))"
   ]
  },
  {
   "cell_type": "code",
   "execution_count": 139,
   "metadata": {},
   "outputs": [
    {
     "data": {
      "text/plain": [
       "<matplotlib.axes._subplots.AxesSubplot at 0x1e3ba327940>"
      ]
     },
     "execution_count": 139,
     "metadata": {},
     "output_type": "execute_result"
    },
    {
     "data": {
      "image/png": "[encoded data removed]",
      "text/plain": [
       "<Figure size 1080x360 with 1 Axes>"
      ]
     },
     "metadata": {},
     "output_type": "display_data"
    }
   ],
   "source": [
    "DiscountType7=promotionDataInteresting[promotionDataInteresting[\"DiscountType\"]==\"滿額贈\"]\n",
    "caculateList=Caculate(DiscountType7[\"PromotionCondition_TotalPrice\"],DiscountType7[\"Interest per day\"])\n",
    "tempDic={\"price\":caculateList[0],\"interest\":caculateList[1]}\n",
    "tempPan=pd.DataFrame(tempDic)\n",
    "tempPan=tempPan.sort_values(by=\"price\")\n",
    "tempPan=tempPan.set_index(\"price\")\n",
    "tempPan.plot(figsize=(15,5))"
   ]
  },
  {
   "cell_type": "code",
   "execution_count": null,
   "metadata": {},
   "outputs": [],
   "source": []
  }
 ],
 "metadata": {
  "kernelspec": {
   "display_name": "Python 3",
   "language": "python",
   "name": "python3"
  },
  "language_info": {
   "codemirror_mode": {
    "name": "ipython",
    "version": 3
   },
   "file_extension": ".py",
   "mimetype": "text/x-python",
   "name": "python",
   "nbconvert_exporter": "python",
   "pygments_lexer": "ipython3",
   "version": "3.6.5"
  }
 },
 "nbformat": 4,
 "nbformat_minor": 2
}
