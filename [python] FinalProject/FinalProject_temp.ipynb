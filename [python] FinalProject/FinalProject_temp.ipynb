{
 "cells": [
  {
   "cell_type": "markdown",
   "metadata": {},
   "source": [
    "# 期末報告提案"
   ]
  },
  {
   "cell_type": "markdown",
   "metadata": {},
   "source": [
    "## 目標\n",
    "就91APP的資料，分析不同的市場趨勢，以及其潛力"
   ]
  },
  {
   "cell_type": "markdown",
   "metadata": {},
   "source": [
    "## 預計分析\n",
    "\n",
    "    1. 分析會員在哪個地區比較多人，作為開實體店面的依據\n",
    "    2. 分析在何種時段銷售量達最高\n",
    "    3. 分析目前流行的趨勢，作為商家進貨的參考\n",
    "    4. 分析不同會員的消費型態\n",
    "    5. 和別的店商進行利害分析"
   ]
  },
  {
   "cell_type": "markdown",
   "metadata": {},
   "source": []
  }
 ],
 "metadata": {
  "kernelspec": {
   "display_name": "Python 3",
   "language": "python",
   "name": "python3"
  },
  "language_info": {
   "codemirror_mode": {
    "name": "ipython",
    "version": 3
   },
   "file_extension": ".py",
   "mimetype": "text/x-python",
   "name": "python",
   "nbconvert_exporter": "python",
   "pygments_lexer": "ipython3",
   "version": "3.6.2"
  }
 },
 "nbformat": 4,
 "nbformat_minor": 2
}
